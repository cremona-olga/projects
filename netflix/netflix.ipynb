{
 "cells": [
  {
   "cell_type": "code",
   "execution_count": 1,
   "id": "c5613096",
   "metadata": {},
   "outputs": [],
   "source": [
    "# Импортируем библиотеки\n",
    "import pandas as pd\n",
    "import numpy as np\n",
    "\n",
    "import matplotlib\n",
    "import matplotlib.pyplot as plt\n",
    "import seaborn as sns\n",
    "\n",
    "import statsmodels.api as sm\n",
    "import statsmodels.formula.api as smf\n",
    "import scipy.stats as stats\n",
    "from scipy.stats import norm"
   ]
  },
  {
   "cell_type": "markdown",
   "id": "72951498",
   "metadata": {},
   "source": [
    "Набор данных состоит из всех фильмов производства Netflix, выпущенных по состоянию на 1 июня 2021 года. Кроме того, он также включает все документальные фильмы и специальные материалы Netflix. \n",
    "Содержание набора данных:\n",
    "-\tНазвание фильма\n",
    "-\tЖанр фильма\n",
    "-\tДата премьеры\n",
    "-   Длительность в минутах\n",
    "-\tБаллы IMDB (по состоянию на 01.06.21)\n",
    "-\tДоступные языки (по состоянию на 01.06.21)\n",
    "\n",
    "Требуется ответить на следующие вопросы:\n",
    "1.\tФильмы какого жанра наиболее популярные? А какого менее?\n",
    "2.\tНа каком языке Netflix чаще всего снимает фильмы?\n",
    "3.\tЕсть ли зависимость между длительностью фильма и его рейтингом?\n",
    "4.\tПорекомендуйте, на какой месяц лучше всего запланировать премьеру нового фильма. Почему? "
   ]
  },
  {
   "cell_type": "code",
   "execution_count": 22,
   "id": "9e21803f",
   "metadata": {},
   "outputs": [],
   "source": [
    "df = pd.read_csv('NetflixOriginals.csv')"
   ]
  },
  {
   "cell_type": "code",
   "execution_count": 23,
   "id": "850d3cae",
   "metadata": {},
   "outputs": [
    {
     "data": {
      "text/html": [
       "<div>\n",
       "<style scoped>\n",
       "    .dataframe tbody tr th:only-of-type {\n",
       "        vertical-align: middle;\n",
       "    }\n",
       "\n",
       "    .dataframe tbody tr th {\n",
       "        vertical-align: top;\n",
       "    }\n",
       "\n",
       "    .dataframe thead th {\n",
       "        text-align: right;\n",
       "    }\n",
       "</style>\n",
       "<table border=\"1\" class=\"dataframe\">\n",
       "  <thead>\n",
       "    <tr style=\"text-align: right;\">\n",
       "      <th></th>\n",
       "      <th>Title</th>\n",
       "      <th>Genre</th>\n",
       "      <th>Premiere</th>\n",
       "      <th>Runtime</th>\n",
       "      <th>IMDB Score</th>\n",
       "      <th>Language</th>\n",
       "    </tr>\n",
       "  </thead>\n",
       "  <tbody>\n",
       "    <tr>\n",
       "      <th>0</th>\n",
       "      <td>Enter the Anime,Documentary,\"August 5, 2019\",5...</td>\n",
       "      <td>NaN</td>\n",
       "      <td>NaN</td>\n",
       "      <td>NaN</td>\n",
       "      <td>NaN</td>\n",
       "      <td>NaN</td>\n",
       "    </tr>\n",
       "    <tr>\n",
       "      <th>1</th>\n",
       "      <td>Dark Forces,Thriller,\"August 21, 2020\",81,2.6,...</td>\n",
       "      <td>NaN</td>\n",
       "      <td>NaN</td>\n",
       "      <td>NaN</td>\n",
       "      <td>NaN</td>\n",
       "      <td>NaN</td>\n",
       "    </tr>\n",
       "    <tr>\n",
       "      <th>2</th>\n",
       "      <td>The App,Science fiction/Drama,\"December 26, 20...</td>\n",
       "      <td>NaN</td>\n",
       "      <td>NaN</td>\n",
       "      <td>NaN</td>\n",
       "      <td>NaN</td>\n",
       "      <td>NaN</td>\n",
       "    </tr>\n",
       "    <tr>\n",
       "      <th>3</th>\n",
       "      <td>The Open House,Horror thriller,\"January 19, 20...</td>\n",
       "      <td>NaN</td>\n",
       "      <td>NaN</td>\n",
       "      <td>NaN</td>\n",
       "      <td>NaN</td>\n",
       "      <td>NaN</td>\n",
       "    </tr>\n",
       "    <tr>\n",
       "      <th>4</th>\n",
       "      <td>Kaali Khuhi,Mystery,\"October 30, 2020\",90,3.4,...</td>\n",
       "      <td>NaN</td>\n",
       "      <td>NaN</td>\n",
       "      <td>NaN</td>\n",
       "      <td>NaN</td>\n",
       "      <td>NaN</td>\n",
       "    </tr>\n",
       "  </tbody>\n",
       "</table>\n",
       "</div>"
      ],
      "text/plain": [
       "                                               Title Genre Premiere  Runtime  \\\n",
       "0  Enter the Anime,Documentary,\"August 5, 2019\",5...   NaN      NaN      NaN   \n",
       "1  Dark Forces,Thriller,\"August 21, 2020\",81,2.6,...   NaN      NaN      NaN   \n",
       "2  The App,Science fiction/Drama,\"December 26, 20...   NaN      NaN      NaN   \n",
       "3  The Open House,Horror thriller,\"January 19, 20...   NaN      NaN      NaN   \n",
       "4  Kaali Khuhi,Mystery,\"October 30, 2020\",90,3.4,...   NaN      NaN      NaN   \n",
       "\n",
       "   IMDB Score Language  \n",
       "0         NaN      NaN  \n",
       "1         NaN      NaN  \n",
       "2         NaN      NaN  \n",
       "3         NaN      NaN  \n",
       "4         NaN      NaN  "
      ]
     },
     "execution_count": 23,
     "metadata": {},
     "output_type": "execute_result"
    }
   ],
   "source": [
    "df.head()"
   ]
  },
  {
   "cell_type": "markdown",
   "id": "773a135e",
   "metadata": {},
   "source": [
    "### Сразу не получилось считать данные в DF по колонкам, посмотрим, как это исправить"
   ]
  },
  {
   "cell_type": "code",
   "execution_count": 24,
   "id": "675457e2",
   "metadata": {
    "scrolled": true
   },
   "outputs": [
    {
     "name": "stdout",
     "output_type": "stream",
     "text": [
      "<class 'pandas.core.frame.DataFrame'>\n",
      "RangeIndex: 584 entries, 0 to 583\n",
      "Data columns (total 6 columns):\n",
      " #   Column      Non-Null Count  Dtype  \n",
      "---  ------      --------------  -----  \n",
      " 0   Title       584 non-null    object \n",
      " 1   Genre       5 non-null      object \n",
      " 2   Premiere    5 non-null      object \n",
      " 3   Runtime     5 non-null      float64\n",
      " 4   IMDB Score  5 non-null      float64\n",
      " 5   Language    5 non-null      object \n",
      "dtypes: float64(2), object(4)\n",
      "memory usage: 27.5+ KB\n"
     ]
    }
   ],
   "source": [
    "df.info()"
   ]
  },
  {
   "cell_type": "code",
   "execution_count": 25,
   "id": "2bd07ec9",
   "metadata": {},
   "outputs": [
    {
     "data": {
      "text/html": [
       "<div>\n",
       "<style scoped>\n",
       "    .dataframe tbody tr th:only-of-type {\n",
       "        vertical-align: middle;\n",
       "    }\n",
       "\n",
       "    .dataframe tbody tr th {\n",
       "        vertical-align: top;\n",
       "    }\n",
       "\n",
       "    .dataframe thead th {\n",
       "        text-align: right;\n",
       "    }\n",
       "</style>\n",
       "<table border=\"1\" class=\"dataframe\">\n",
       "  <thead>\n",
       "    <tr style=\"text-align: right;\">\n",
       "      <th></th>\n",
       "      <th>Title</th>\n",
       "      <th>Genre</th>\n",
       "      <th>Premiere</th>\n",
       "      <th>Runtime</th>\n",
       "      <th>IMDB Score</th>\n",
       "      <th>Language</th>\n",
       "    </tr>\n",
       "  </thead>\n",
       "  <tbody>\n",
       "    <tr>\n",
       "      <th>111</th>\n",
       "      <td>Ghosts of Sugar Land</td>\n",
       "      <td>Documentary</td>\n",
       "      <td>October 16. 2019</td>\n",
       "      <td>21.0</td>\n",
       "      <td>5.5</td>\n",
       "      <td>English</td>\n",
       "    </tr>\n",
       "    <tr>\n",
       "      <th>308</th>\n",
       "      <td>Strong Island</td>\n",
       "      <td>Documentary</td>\n",
       "      <td>September 15. 2017</td>\n",
       "      <td>107.0</td>\n",
       "      <td>6.4</td>\n",
       "      <td>English</td>\n",
       "    </tr>\n",
       "    <tr>\n",
       "      <th>387</th>\n",
       "      <td>Tony Robbins: I Am Not Your Guru</td>\n",
       "      <td>Documentary</td>\n",
       "      <td>July 15. 2016</td>\n",
       "      <td>116.0</td>\n",
       "      <td>6.7</td>\n",
       "      <td>English</td>\n",
       "    </tr>\n",
       "    <tr>\n",
       "      <th>538</th>\n",
       "      <td>Joan Didion: The Center Will Not Hold</td>\n",
       "      <td>Documentary</td>\n",
       "      <td>October 27. 2017</td>\n",
       "      <td>98.0</td>\n",
       "      <td>7.5</td>\n",
       "      <td>English</td>\n",
       "    </tr>\n",
       "    <tr>\n",
       "      <th>541</th>\n",
       "      <td>The White Helmets</td>\n",
       "      <td>Documentary</td>\n",
       "      <td>September 16. 2016</td>\n",
       "      <td>40.0</td>\n",
       "      <td>7.5</td>\n",
       "      <td>English</td>\n",
       "    </tr>\n",
       "  </tbody>\n",
       "</table>\n",
       "</div>"
      ],
      "text/plain": [
       "                                     Title        Genre            Premiere  \\\n",
       "111                   Ghosts of Sugar Land  Documentary    October 16. 2019   \n",
       "308                          Strong Island  Documentary  September 15. 2017   \n",
       "387       Tony Robbins: I Am Not Your Guru  Documentary       July 15. 2016   \n",
       "538  Joan Didion: The Center Will Not Hold  Documentary    October 27. 2017   \n",
       "541                      The White Helmets  Documentary  September 16. 2016   \n",
       "\n",
       "     Runtime  IMDB Score Language  \n",
       "111     21.0         5.5  English  \n",
       "308    107.0         6.4  English  \n",
       "387    116.0         6.7  English  \n",
       "538     98.0         7.5  English  \n",
       "541     40.0         7.5  English  "
      ]
     },
     "execution_count": 25,
     "metadata": {},
     "output_type": "execute_result"
    }
   ],
   "source": [
    "# Видим, что в столбцах присутствуют значения без пропусков, посмотрим на них\n",
    "df[df['Genre'].notna()]"
   ]
  },
  {
   "cell_type": "markdown",
   "id": "f75f4a2c",
   "metadata": {},
   "source": [
    "В пяти строках данные прочитались нормально, выделим их в отдельный df. Чтобы не переписывать в ручную, создадим список с индексами, где нет пропусков."
   ]
  },
  {
   "cell_type": "code",
   "execution_count": 26,
   "id": "096ee796",
   "metadata": {},
   "outputs": [
    {
     "name": "stdout",
     "output_type": "stream",
     "text": [
      "[111, 308, 387, 538, 541]\n"
     ]
    }
   ],
   "source": [
    "idx_notnull = list(df[df['Genre'].notna()].index)\n",
    "print(idx_notnull)"
   ]
  },
  {
   "cell_type": "code",
   "execution_count": 27,
   "id": "40c4aa7d",
   "metadata": {},
   "outputs": [],
   "source": [
    "df_1 = df.iloc[idx_notnull]"
   ]
  },
  {
   "cell_type": "code",
   "execution_count": 28,
   "id": "3ddfcbfa",
   "metadata": {},
   "outputs": [
    {
     "data": {
      "text/html": [
       "<div>\n",
       "<style scoped>\n",
       "    .dataframe tbody tr th:only-of-type {\n",
       "        vertical-align: middle;\n",
       "    }\n",
       "\n",
       "    .dataframe tbody tr th {\n",
       "        vertical-align: top;\n",
       "    }\n",
       "\n",
       "    .dataframe thead th {\n",
       "        text-align: right;\n",
       "    }\n",
       "</style>\n",
       "<table border=\"1\" class=\"dataframe\">\n",
       "  <thead>\n",
       "    <tr style=\"text-align: right;\">\n",
       "      <th></th>\n",
       "      <th>Title</th>\n",
       "      <th>Genre</th>\n",
       "      <th>Premiere</th>\n",
       "      <th>Runtime</th>\n",
       "      <th>IMDB Score</th>\n",
       "      <th>Language</th>\n",
       "    </tr>\n",
       "  </thead>\n",
       "  <tbody>\n",
       "    <tr>\n",
       "      <th>111</th>\n",
       "      <td>Ghosts of Sugar Land</td>\n",
       "      <td>Documentary</td>\n",
       "      <td>October 16. 2019</td>\n",
       "      <td>21.0</td>\n",
       "      <td>5.5</td>\n",
       "      <td>English</td>\n",
       "    </tr>\n",
       "    <tr>\n",
       "      <th>308</th>\n",
       "      <td>Strong Island</td>\n",
       "      <td>Documentary</td>\n",
       "      <td>September 15. 2017</td>\n",
       "      <td>107.0</td>\n",
       "      <td>6.4</td>\n",
       "      <td>English</td>\n",
       "    </tr>\n",
       "    <tr>\n",
       "      <th>387</th>\n",
       "      <td>Tony Robbins: I Am Not Your Guru</td>\n",
       "      <td>Documentary</td>\n",
       "      <td>July 15. 2016</td>\n",
       "      <td>116.0</td>\n",
       "      <td>6.7</td>\n",
       "      <td>English</td>\n",
       "    </tr>\n",
       "    <tr>\n",
       "      <th>538</th>\n",
       "      <td>Joan Didion: The Center Will Not Hold</td>\n",
       "      <td>Documentary</td>\n",
       "      <td>October 27. 2017</td>\n",
       "      <td>98.0</td>\n",
       "      <td>7.5</td>\n",
       "      <td>English</td>\n",
       "    </tr>\n",
       "    <tr>\n",
       "      <th>541</th>\n",
       "      <td>The White Helmets</td>\n",
       "      <td>Documentary</td>\n",
       "      <td>September 16. 2016</td>\n",
       "      <td>40.0</td>\n",
       "      <td>7.5</td>\n",
       "      <td>English</td>\n",
       "    </tr>\n",
       "  </tbody>\n",
       "</table>\n",
       "</div>"
      ],
      "text/plain": [
       "                                     Title        Genre            Premiere  \\\n",
       "111                   Ghosts of Sugar Land  Documentary    October 16. 2019   \n",
       "308                          Strong Island  Documentary  September 15. 2017   \n",
       "387       Tony Robbins: I Am Not Your Guru  Documentary       July 15. 2016   \n",
       "538  Joan Didion: The Center Will Not Hold  Documentary    October 27. 2017   \n",
       "541                      The White Helmets  Documentary  September 16. 2016   \n",
       "\n",
       "     Runtime  IMDB Score Language  \n",
       "111     21.0         5.5  English  \n",
       "308    107.0         6.4  English  \n",
       "387    116.0         6.7  English  \n",
       "538     98.0         7.5  English  \n",
       "541     40.0         7.5  English  "
      ]
     },
     "execution_count": 28,
     "metadata": {},
     "output_type": "execute_result"
    }
   ],
   "source": [
    "df_1"
   ]
  },
  {
   "cell_type": "markdown",
   "id": "f9dd79de",
   "metadata": {},
   "source": [
    "Переведём столбец с датой в формат даты"
   ]
  },
  {
   "cell_type": "code",
   "execution_count": 29,
   "id": "c7d3c244",
   "metadata": {},
   "outputs": [
    {
     "name": "stderr",
     "output_type": "stream",
     "text": [
      "<ipython-input-29-ad7396bb996f>:1: SettingWithCopyWarning: \n",
      "A value is trying to be set on a copy of a slice from a DataFrame.\n",
      "Try using .loc[row_indexer,col_indexer] = value instead\n",
      "\n",
      "See the caveats in the documentation: https://pandas.pydata.org/pandas-docs/stable/user_guide/indexing.html#returning-a-view-versus-a-copy\n",
      "  df_1['Premiere'] = pd.to_datetime(df_1['Premiere'], format='%B %d. %Y')\n"
     ]
    }
   ],
   "source": [
    "df_1['Premiere'] = pd.to_datetime(df_1['Premiere'], format='%B %d. %Y')"
   ]
  },
  {
   "cell_type": "markdown",
   "id": "af2a98aa",
   "metadata": {},
   "source": [
    "Создадим новый дата фрейм, в котором удалим пять строк, которые оказались в отличном формате от остальных"
   ]
  },
  {
   "cell_type": "code",
   "execution_count": 30,
   "id": "c3d8b037",
   "metadata": {},
   "outputs": [],
   "source": [
    "df_big = df.drop(index=idx_notnull)"
   ]
  },
  {
   "cell_type": "code",
   "execution_count": 31,
   "id": "a13ed16c",
   "metadata": {},
   "outputs": [
    {
     "name": "stdout",
     "output_type": "stream",
     "text": [
      "<class 'pandas.core.frame.DataFrame'>\n",
      "Int64Index: 579 entries, 0 to 583\n",
      "Data columns (total 6 columns):\n",
      " #   Column      Non-Null Count  Dtype  \n",
      "---  ------      --------------  -----  \n",
      " 0   Title       579 non-null    object \n",
      " 1   Genre       0 non-null      object \n",
      " 2   Premiere    0 non-null      object \n",
      " 3   Runtime     0 non-null      float64\n",
      " 4   IMDB Score  0 non-null      float64\n",
      " 5   Language    0 non-null      object \n",
      "dtypes: float64(2), object(4)\n",
      "memory usage: 31.7+ KB\n"
     ]
    }
   ],
   "source": [
    "df_big.info()"
   ]
  },
  {
   "cell_type": "markdown",
   "id": "6345aba1",
   "metadata": {},
   "source": [
    "### Раздалим данные из исходного DF по столбцам и создадим промежуточные DF.\n",
    "В связи с тем, что запятые встречаются в названиях фильмов и в датах, мы не можем сразу разделить данные по запятым, поэтому столбцы с названиями фильмов и с датой выхода будем выделять отдельно"
   ]
  },
  {
   "cell_type": "code",
   "execution_count": 32,
   "id": "bba2800e",
   "metadata": {},
   "outputs": [
    {
     "data": {
      "text/plain": [
       "Index(['Title', 'Genre', 'Premiere', 'Runtime', 'IMDB Score', 'Language'], dtype='object')"
      ]
     },
     "execution_count": 32,
     "metadata": {},
     "output_type": "execute_result"
    }
   ],
   "source": [
    "df_big.columns"
   ]
  },
  {
   "cell_type": "code",
   "execution_count": 33,
   "id": "aa0e744f",
   "metadata": {},
   "outputs": [],
   "source": [
    "# удалим колонки без данных\n",
    "df_big = df_big.drop(['Genre', 'Premiere', 'Runtime', 'IMDB Score', 'Language'], axis=1) "
   ]
  },
  {
   "cell_type": "code",
   "execution_count": 34,
   "id": "6350bf31",
   "metadata": {},
   "outputs": [
    {
     "data": {
      "text/html": [
       "<div>\n",
       "<style scoped>\n",
       "    .dataframe tbody tr th:only-of-type {\n",
       "        vertical-align: middle;\n",
       "    }\n",
       "\n",
       "    .dataframe tbody tr th {\n",
       "        vertical-align: top;\n",
       "    }\n",
       "\n",
       "    .dataframe thead th {\n",
       "        text-align: right;\n",
       "    }\n",
       "</style>\n",
       "<table border=\"1\" class=\"dataframe\">\n",
       "  <thead>\n",
       "    <tr style=\"text-align: right;\">\n",
       "      <th></th>\n",
       "      <th>Title</th>\n",
       "    </tr>\n",
       "  </thead>\n",
       "  <tbody>\n",
       "    <tr>\n",
       "      <th>0</th>\n",
       "      <td>Enter the Anime,Documentary,\"August 5, 2019\",5...</td>\n",
       "    </tr>\n",
       "    <tr>\n",
       "      <th>1</th>\n",
       "      <td>Dark Forces,Thriller,\"August 21, 2020\",81,2.6,...</td>\n",
       "    </tr>\n",
       "    <tr>\n",
       "      <th>2</th>\n",
       "      <td>The App,Science fiction/Drama,\"December 26, 20...</td>\n",
       "    </tr>\n",
       "    <tr>\n",
       "      <th>3</th>\n",
       "      <td>The Open House,Horror thriller,\"January 19, 20...</td>\n",
       "    </tr>\n",
       "    <tr>\n",
       "      <th>4</th>\n",
       "      <td>Kaali Khuhi,Mystery,\"October 30, 2020\",90,3.4,...</td>\n",
       "    </tr>\n",
       "  </tbody>\n",
       "</table>\n",
       "</div>"
      ],
      "text/plain": [
       "                                               Title\n",
       "0  Enter the Anime,Documentary,\"August 5, 2019\",5...\n",
       "1  Dark Forces,Thriller,\"August 21, 2020\",81,2.6,...\n",
       "2  The App,Science fiction/Drama,\"December 26, 20...\n",
       "3  The Open House,Horror thriller,\"January 19, 20...\n",
       "4  Kaali Khuhi,Mystery,\"October 30, 2020\",90,3.4,..."
      ]
     },
     "execution_count": 34,
     "metadata": {},
     "output_type": "execute_result"
    }
   ],
   "source": [
    "df_big.head()"
   ]
  },
  {
   "cell_type": "code",
   "execution_count": 35,
   "id": "2a4da0d3",
   "metadata": {},
   "outputs": [],
   "source": [
    "df_big = df_big.iloc[:, 0].str.split(',\"', expand=True) \n",
    "# разделим значения на столбцы, для начала отделим столбец с датой, который выделен ковычками"
   ]
  },
  {
   "cell_type": "code",
   "execution_count": 36,
   "id": "75350d20",
   "metadata": {},
   "outputs": [],
   "source": [
    "df_0_1_col = df_big.iloc[:, 0].str.rsplit(',', 1, expand=True) \n",
    "# запишем первые два столбца в дата фрейм, разделитель исходных значений - последняя запятая"
   ]
  },
  {
   "cell_type": "code",
   "execution_count": 37,
   "id": "3e3f88ec",
   "metadata": {},
   "outputs": [],
   "source": [
    "df_big = df_big.drop(0, axis=1) # удалим значения, которые мы записали в новый дата фрейм"
   ]
  },
  {
   "cell_type": "code",
   "execution_count": 38,
   "id": "00538096",
   "metadata": {},
   "outputs": [
    {
     "data": {
      "text/html": [
       "<div>\n",
       "<style scoped>\n",
       "    .dataframe tbody tr th:only-of-type {\n",
       "        vertical-align: middle;\n",
       "    }\n",
       "\n",
       "    .dataframe tbody tr th {\n",
       "        vertical-align: top;\n",
       "    }\n",
       "\n",
       "    .dataframe thead th {\n",
       "        text-align: right;\n",
       "    }\n",
       "</style>\n",
       "<table border=\"1\" class=\"dataframe\">\n",
       "  <thead>\n",
       "    <tr style=\"text-align: right;\">\n",
       "      <th></th>\n",
       "      <th>0</th>\n",
       "      <th>1</th>\n",
       "    </tr>\n",
       "  </thead>\n",
       "  <tbody>\n",
       "    <tr>\n",
       "      <th>0</th>\n",
       "      <td>Enter the Anime</td>\n",
       "      <td>Documentary</td>\n",
       "    </tr>\n",
       "    <tr>\n",
       "      <th>1</th>\n",
       "      <td>Dark Forces</td>\n",
       "      <td>Thriller</td>\n",
       "    </tr>\n",
       "    <tr>\n",
       "      <th>2</th>\n",
       "      <td>The App</td>\n",
       "      <td>Science fiction/Drama</td>\n",
       "    </tr>\n",
       "    <tr>\n",
       "      <th>3</th>\n",
       "      <td>The Open House</td>\n",
       "      <td>Horror thriller</td>\n",
       "    </tr>\n",
       "    <tr>\n",
       "      <th>4</th>\n",
       "      <td>Kaali Khuhi</td>\n",
       "      <td>Mystery</td>\n",
       "    </tr>\n",
       "  </tbody>\n",
       "</table>\n",
       "</div>"
      ],
      "text/plain": [
       "                 0                      1\n",
       "0  Enter the Anime            Documentary\n",
       "1      Dark Forces               Thriller\n",
       "2          The App  Science fiction/Drama\n",
       "3   The Open House        Horror thriller\n",
       "4      Kaali Khuhi                Mystery"
      ]
     },
     "execution_count": 38,
     "metadata": {},
     "output_type": "execute_result"
    }
   ],
   "source": [
    "df_0_1_col.head() # первые два столбца"
   ]
  },
  {
   "cell_type": "code",
   "execution_count": 39,
   "id": "1c082636",
   "metadata": {},
   "outputs": [],
   "source": [
    "df_2_col = df_big.iloc[:, 0].str.split('\",', expand=True)[0] # выделим столбец с датой"
   ]
  },
  {
   "cell_type": "code",
   "execution_count": 40,
   "id": "44c7eb08",
   "metadata": {},
   "outputs": [],
   "source": [
    "df_2_col = pd.to_datetime(df_2_col, format='%B %d, %Y') # переведём в формат даты \"datetime\""
   ]
  },
  {
   "cell_type": "code",
   "execution_count": 41,
   "id": "ab03796f",
   "metadata": {},
   "outputs": [],
   "source": [
    "df_big = df_big.iloc[:, 0].str.split('\",', expand=True)[1] \n",
    "# оставим в дата фрейме значения, которые еще не разделены по столбцам"
   ]
  },
  {
   "cell_type": "code",
   "execution_count": 42,
   "id": "7a907430",
   "metadata": {},
   "outputs": [],
   "source": [
    "df_3_4_5_col = df_big.str.split(',', expand=True) # создадим дф с последними тремя столбцами"
   ]
  },
  {
   "cell_type": "markdown",
   "id": "9ecb4504",
   "metadata": {},
   "source": [
    "### Соберём данные из промежуточных DF в один "
   ]
  },
  {
   "cell_type": "code",
   "execution_count": 43,
   "id": "9e3a6a4a",
   "metadata": {},
   "outputs": [],
   "source": [
    "netflix = df_0_1_col"
   ]
  },
  {
   "cell_type": "code",
   "execution_count": 44,
   "id": "4bfe6d01",
   "metadata": {},
   "outputs": [],
   "source": [
    "netflix['Premiere'] = df_2_col"
   ]
  },
  {
   "cell_type": "code",
   "execution_count": 45,
   "id": "885d181b",
   "metadata": {},
   "outputs": [],
   "source": [
    "netflix = pd.concat([netflix, df_3_4_5_col], axis =1)"
   ]
  },
  {
   "cell_type": "code",
   "execution_count": 46,
   "id": "331e31b8",
   "metadata": {},
   "outputs": [],
   "source": [
    "netflix.columns = df_1.columns"
   ]
  },
  {
   "cell_type": "code",
   "execution_count": 47,
   "id": "6a5a17c5",
   "metadata": {},
   "outputs": [],
   "source": [
    "netflix = pd.concat([netflix, df_1], axis =0)"
   ]
  },
  {
   "cell_type": "code",
   "execution_count": 48,
   "id": "6f189750",
   "metadata": {},
   "outputs": [],
   "source": [
    "netflix.rename(columns={\n",
    "    'IMDB Score' : 'IMDB_Score'\n",
    "}, inplace=True)"
   ]
  },
  {
   "cell_type": "code",
   "execution_count": 49,
   "id": "a24ff081",
   "metadata": {},
   "outputs": [
    {
     "data": {
      "text/html": [
       "<div>\n",
       "<style scoped>\n",
       "    .dataframe tbody tr th:only-of-type {\n",
       "        vertical-align: middle;\n",
       "    }\n",
       "\n",
       "    .dataframe tbody tr th {\n",
       "        vertical-align: top;\n",
       "    }\n",
       "\n",
       "    .dataframe thead th {\n",
       "        text-align: right;\n",
       "    }\n",
       "</style>\n",
       "<table border=\"1\" class=\"dataframe\">\n",
       "  <thead>\n",
       "    <tr style=\"text-align: right;\">\n",
       "      <th></th>\n",
       "      <th>Title</th>\n",
       "      <th>Genre</th>\n",
       "      <th>Premiere</th>\n",
       "      <th>Runtime</th>\n",
       "      <th>IMDB_Score</th>\n",
       "      <th>Language</th>\n",
       "    </tr>\n",
       "  </thead>\n",
       "  <tbody>\n",
       "    <tr>\n",
       "      <th>0</th>\n",
       "      <td>Enter the Anime</td>\n",
       "      <td>Documentary</td>\n",
       "      <td>2019-08-05</td>\n",
       "      <td>58</td>\n",
       "      <td>2.5</td>\n",
       "      <td>English/Japanese</td>\n",
       "    </tr>\n",
       "    <tr>\n",
       "      <th>1</th>\n",
       "      <td>Dark Forces</td>\n",
       "      <td>Thriller</td>\n",
       "      <td>2020-08-21</td>\n",
       "      <td>81</td>\n",
       "      <td>2.6</td>\n",
       "      <td>Spanish</td>\n",
       "    </tr>\n",
       "    <tr>\n",
       "      <th>2</th>\n",
       "      <td>The App</td>\n",
       "      <td>Science fiction/Drama</td>\n",
       "      <td>2019-12-26</td>\n",
       "      <td>79</td>\n",
       "      <td>2.6</td>\n",
       "      <td>Italian</td>\n",
       "    </tr>\n",
       "    <tr>\n",
       "      <th>3</th>\n",
       "      <td>The Open House</td>\n",
       "      <td>Horror thriller</td>\n",
       "      <td>2018-01-19</td>\n",
       "      <td>94</td>\n",
       "      <td>3.2</td>\n",
       "      <td>English</td>\n",
       "    </tr>\n",
       "    <tr>\n",
       "      <th>4</th>\n",
       "      <td>Kaali Khuhi</td>\n",
       "      <td>Mystery</td>\n",
       "      <td>2020-10-30</td>\n",
       "      <td>90</td>\n",
       "      <td>3.4</td>\n",
       "      <td>Hindi</td>\n",
       "    </tr>\n",
       "  </tbody>\n",
       "</table>\n",
       "</div>"
      ],
      "text/plain": [
       "             Title                  Genre   Premiere Runtime IMDB_Score  \\\n",
       "0  Enter the Anime            Documentary 2019-08-05      58        2.5   \n",
       "1      Dark Forces               Thriller 2020-08-21      81        2.6   \n",
       "2          The App  Science fiction/Drama 2019-12-26      79        2.6   \n",
       "3   The Open House        Horror thriller 2018-01-19      94        3.2   \n",
       "4      Kaali Khuhi                Mystery 2020-10-30      90        3.4   \n",
       "\n",
       "           Language  \n",
       "0  English/Japanese  \n",
       "1           Spanish  \n",
       "2           Italian  \n",
       "3           English  \n",
       "4             Hindi  "
      ]
     },
     "execution_count": 49,
     "metadata": {},
     "output_type": "execute_result"
    }
   ],
   "source": [
    "netflix.head()"
   ]
  },
  {
   "cell_type": "code",
   "execution_count": 50,
   "id": "daf22ade",
   "metadata": {},
   "outputs": [
    {
     "name": "stdout",
     "output_type": "stream",
     "text": [
      "<class 'pandas.core.frame.DataFrame'>\n",
      "Int64Index: 584 entries, 0 to 541\n",
      "Data columns (total 6 columns):\n",
      " #   Column      Non-Null Count  Dtype         \n",
      "---  ------      --------------  -----         \n",
      " 0   Title       584 non-null    object        \n",
      " 1   Genre       584 non-null    object        \n",
      " 2   Premiere    584 non-null    datetime64[ns]\n",
      " 3   Runtime     584 non-null    object        \n",
      " 4   IMDB_Score  584 non-null    object        \n",
      " 5   Language    584 non-null    object        \n",
      "dtypes: datetime64[ns](1), object(5)\n",
      "memory usage: 31.9+ KB\n"
     ]
    }
   ],
   "source": [
    "netflix.info()"
   ]
  },
  {
   "cell_type": "markdown",
   "id": "ab9a450e",
   "metadata": {},
   "source": [
    "Переведем столбцы в подходящие форматы"
   ]
  },
  {
   "cell_type": "code",
   "execution_count": 51,
   "id": "787297c0",
   "metadata": {},
   "outputs": [],
   "source": [
    "netflix.Runtime = netflix.Runtime.astype(int)\n",
    "netflix.IMDB_Score = netflix.IMDB_Score.astype(float)"
   ]
  },
  {
   "cell_type": "code",
   "execution_count": 52,
   "id": "f26317d3",
   "metadata": {},
   "outputs": [
    {
     "data": {
      "text/html": [
       "<div>\n",
       "<style scoped>\n",
       "    .dataframe tbody tr th:only-of-type {\n",
       "        vertical-align: middle;\n",
       "    }\n",
       "\n",
       "    .dataframe tbody tr th {\n",
       "        vertical-align: top;\n",
       "    }\n",
       "\n",
       "    .dataframe thead th {\n",
       "        text-align: right;\n",
       "    }\n",
       "</style>\n",
       "<table border=\"1\" class=\"dataframe\">\n",
       "  <thead>\n",
       "    <tr style=\"text-align: right;\">\n",
       "      <th></th>\n",
       "      <th>Title</th>\n",
       "      <th>Genre</th>\n",
       "      <th>Premiere</th>\n",
       "      <th>Runtime</th>\n",
       "      <th>IMDB_Score</th>\n",
       "      <th>Language</th>\n",
       "    </tr>\n",
       "  </thead>\n",
       "  <tbody>\n",
       "    <tr>\n",
       "      <th>count</th>\n",
       "      <td>584</td>\n",
       "      <td>584</td>\n",
       "      <td>584</td>\n",
       "      <td>584.000000</td>\n",
       "      <td>584.000000</td>\n",
       "      <td>584</td>\n",
       "    </tr>\n",
       "    <tr>\n",
       "      <th>unique</th>\n",
       "      <td>584</td>\n",
       "      <td>115</td>\n",
       "      <td>NaN</td>\n",
       "      <td>NaN</td>\n",
       "      <td>NaN</td>\n",
       "      <td>38</td>\n",
       "    </tr>\n",
       "    <tr>\n",
       "      <th>top</th>\n",
       "      <td>The Fundamentals of Caring</td>\n",
       "      <td>Documentary</td>\n",
       "      <td>NaN</td>\n",
       "      <td>NaN</td>\n",
       "      <td>NaN</td>\n",
       "      <td>English</td>\n",
       "    </tr>\n",
       "    <tr>\n",
       "      <th>freq</th>\n",
       "      <td>1</td>\n",
       "      <td>159</td>\n",
       "      <td>NaN</td>\n",
       "      <td>NaN</td>\n",
       "      <td>NaN</td>\n",
       "      <td>401</td>\n",
       "    </tr>\n",
       "    <tr>\n",
       "      <th>mean</th>\n",
       "      <td>NaN</td>\n",
       "      <td>NaN</td>\n",
       "      <td>2019-06-20 01:04:06.575342592</td>\n",
       "      <td>93.577055</td>\n",
       "      <td>6.271747</td>\n",
       "      <td>NaN</td>\n",
       "    </tr>\n",
       "    <tr>\n",
       "      <th>min</th>\n",
       "      <td>NaN</td>\n",
       "      <td>NaN</td>\n",
       "      <td>2014-12-13 00:00:00</td>\n",
       "      <td>4.000000</td>\n",
       "      <td>2.500000</td>\n",
       "      <td>NaN</td>\n",
       "    </tr>\n",
       "    <tr>\n",
       "      <th>25%</th>\n",
       "      <td>NaN</td>\n",
       "      <td>NaN</td>\n",
       "      <td>2018-06-27 18:00:00</td>\n",
       "      <td>86.000000</td>\n",
       "      <td>5.700000</td>\n",
       "      <td>NaN</td>\n",
       "    </tr>\n",
       "    <tr>\n",
       "      <th>50%</th>\n",
       "      <td>NaN</td>\n",
       "      <td>NaN</td>\n",
       "      <td>2019-10-17 00:00:00</td>\n",
       "      <td>97.000000</td>\n",
       "      <td>6.350000</td>\n",
       "      <td>NaN</td>\n",
       "    </tr>\n",
       "    <tr>\n",
       "      <th>75%</th>\n",
       "      <td>NaN</td>\n",
       "      <td>NaN</td>\n",
       "      <td>2020-09-18 18:00:00</td>\n",
       "      <td>108.000000</td>\n",
       "      <td>7.000000</td>\n",
       "      <td>NaN</td>\n",
       "    </tr>\n",
       "    <tr>\n",
       "      <th>max</th>\n",
       "      <td>NaN</td>\n",
       "      <td>NaN</td>\n",
       "      <td>2021-05-27 00:00:00</td>\n",
       "      <td>209.000000</td>\n",
       "      <td>9.000000</td>\n",
       "      <td>NaN</td>\n",
       "    </tr>\n",
       "    <tr>\n",
       "      <th>std</th>\n",
       "      <td>NaN</td>\n",
       "      <td>NaN</td>\n",
       "      <td>NaN</td>\n",
       "      <td>27.761683</td>\n",
       "      <td>0.979256</td>\n",
       "      <td>NaN</td>\n",
       "    </tr>\n",
       "  </tbody>\n",
       "</table>\n",
       "</div>"
      ],
      "text/plain": [
       "                             Title        Genre  \\\n",
       "count                          584          584   \n",
       "unique                         584          115   \n",
       "top     The Fundamentals of Caring  Documentary   \n",
       "freq                             1          159   \n",
       "mean                           NaN          NaN   \n",
       "min                            NaN          NaN   \n",
       "25%                            NaN          NaN   \n",
       "50%                            NaN          NaN   \n",
       "75%                            NaN          NaN   \n",
       "max                            NaN          NaN   \n",
       "std                            NaN          NaN   \n",
       "\n",
       "                             Premiere     Runtime  IMDB_Score Language  \n",
       "count                             584  584.000000  584.000000      584  \n",
       "unique                            NaN         NaN         NaN       38  \n",
       "top                               NaN         NaN         NaN  English  \n",
       "freq                              NaN         NaN         NaN      401  \n",
       "mean    2019-06-20 01:04:06.575342592   93.577055    6.271747      NaN  \n",
       "min               2014-12-13 00:00:00    4.000000    2.500000      NaN  \n",
       "25%               2018-06-27 18:00:00   86.000000    5.700000      NaN  \n",
       "50%               2019-10-17 00:00:00   97.000000    6.350000      NaN  \n",
       "75%               2020-09-18 18:00:00  108.000000    7.000000      NaN  \n",
       "max               2021-05-27 00:00:00  209.000000    9.000000      NaN  \n",
       "std                               NaN   27.761683    0.979256      NaN  "
      ]
     },
     "execution_count": 52,
     "metadata": {},
     "output_type": "execute_result"
    }
   ],
   "source": [
    "netflix.describe(include='all', datetime_is_numeric=True)"
   ]
  },
  {
   "cell_type": "markdown",
   "id": "e1b8f5a5",
   "metadata": {},
   "source": [
    "# 1. Фильмы какого жанра наиболее популярные? А какого менее?"
   ]
  },
  {
   "cell_type": "code",
   "execution_count": 53,
   "id": "e7f41504",
   "metadata": {},
   "outputs": [
    {
     "data": {
      "text/html": [
       "<div>\n",
       "<style scoped>\n",
       "    .dataframe tbody tr th:only-of-type {\n",
       "        vertical-align: middle;\n",
       "    }\n",
       "\n",
       "    .dataframe tbody tr th {\n",
       "        vertical-align: top;\n",
       "    }\n",
       "\n",
       "    .dataframe thead th {\n",
       "        text-align: right;\n",
       "    }\n",
       "</style>\n",
       "<table border=\"1\" class=\"dataframe\">\n",
       "  <thead>\n",
       "    <tr style=\"text-align: right;\">\n",
       "      <th></th>\n",
       "      <th>Title</th>\n",
       "      <th>Genre</th>\n",
       "      <th>Premiere</th>\n",
       "      <th>Runtime</th>\n",
       "      <th>IMDB_Score</th>\n",
       "      <th>Language</th>\n",
       "    </tr>\n",
       "  </thead>\n",
       "  <tbody>\n",
       "    <tr>\n",
       "      <th>0</th>\n",
       "      <td>Enter the Anime</td>\n",
       "      <td>Documentary</td>\n",
       "      <td>2019-08-05</td>\n",
       "      <td>58</td>\n",
       "      <td>2.5</td>\n",
       "      <td>English/Japanese</td>\n",
       "    </tr>\n",
       "    <tr>\n",
       "      <th>1</th>\n",
       "      <td>Dark Forces</td>\n",
       "      <td>Thriller</td>\n",
       "      <td>2020-08-21</td>\n",
       "      <td>81</td>\n",
       "      <td>2.6</td>\n",
       "      <td>Spanish</td>\n",
       "    </tr>\n",
       "    <tr>\n",
       "      <th>2</th>\n",
       "      <td>The App</td>\n",
       "      <td>Science fiction/Drama</td>\n",
       "      <td>2019-12-26</td>\n",
       "      <td>79</td>\n",
       "      <td>2.6</td>\n",
       "      <td>Italian</td>\n",
       "    </tr>\n",
       "    <tr>\n",
       "      <th>3</th>\n",
       "      <td>The Open House</td>\n",
       "      <td>Horror thriller</td>\n",
       "      <td>2018-01-19</td>\n",
       "      <td>94</td>\n",
       "      <td>3.2</td>\n",
       "      <td>English</td>\n",
       "    </tr>\n",
       "    <tr>\n",
       "      <th>4</th>\n",
       "      <td>Kaali Khuhi</td>\n",
       "      <td>Mystery</td>\n",
       "      <td>2020-10-30</td>\n",
       "      <td>90</td>\n",
       "      <td>3.4</td>\n",
       "      <td>Hindi</td>\n",
       "    </tr>\n",
       "  </tbody>\n",
       "</table>\n",
       "</div>"
      ],
      "text/plain": [
       "             Title                  Genre   Premiere  Runtime  IMDB_Score  \\\n",
       "0  Enter the Anime            Documentary 2019-08-05       58         2.5   \n",
       "1      Dark Forces               Thriller 2020-08-21       81         2.6   \n",
       "2          The App  Science fiction/Drama 2019-12-26       79         2.6   \n",
       "3   The Open House        Horror thriller 2018-01-19       94         3.2   \n",
       "4      Kaali Khuhi                Mystery 2020-10-30       90         3.4   \n",
       "\n",
       "           Language  \n",
       "0  English/Japanese  \n",
       "1           Spanish  \n",
       "2           Italian  \n",
       "3           English  \n",
       "4             Hindi  "
      ]
     },
     "execution_count": 53,
     "metadata": {},
     "output_type": "execute_result"
    }
   ],
   "source": [
    "netflix.head()"
   ]
  },
  {
   "cell_type": "markdown",
   "id": "be64489d",
   "metadata": {},
   "source": [
    "### Посчитаем, сколько фильмов каждого жанра имеется в данных"
   ]
  },
  {
   "cell_type": "code",
   "execution_count": 54,
   "id": "3c2bba67",
   "metadata": {},
   "outputs": [],
   "source": [
    "genres = netflix.groupby('Genre', as_index=False)\\\n",
    "                .agg({'Title': 'count', 'IMDB_Score': 'mean'})\\\n",
    "                .rename(columns={'Title': 'Quantity'})\\\n",
    "                .sort_values(by='Quantity', ascending=False)\n",
    "genres.IMDB_Score = round(genres.IMDB_Score, 2)"
   ]
  },
  {
   "cell_type": "code",
   "execution_count": 55,
   "id": "69ad8b8a",
   "metadata": {},
   "outputs": [
    {
     "data": {
      "text/html": [
       "<div>\n",
       "<style scoped>\n",
       "    .dataframe tbody tr th:only-of-type {\n",
       "        vertical-align: middle;\n",
       "    }\n",
       "\n",
       "    .dataframe tbody tr th {\n",
       "        vertical-align: top;\n",
       "    }\n",
       "\n",
       "    .dataframe thead th {\n",
       "        text-align: right;\n",
       "    }\n",
       "</style>\n",
       "<table border=\"1\" class=\"dataframe\">\n",
       "  <thead>\n",
       "    <tr style=\"text-align: right;\">\n",
       "      <th></th>\n",
       "      <th>Genre</th>\n",
       "      <th>Quantity</th>\n",
       "      <th>IMDB_Score</th>\n",
       "    </tr>\n",
       "  </thead>\n",
       "  <tbody>\n",
       "    <tr>\n",
       "      <th>45</th>\n",
       "      <td>Documentary</td>\n",
       "      <td>159</td>\n",
       "      <td>6.94</td>\n",
       "    </tr>\n",
       "    <tr>\n",
       "      <th>46</th>\n",
       "      <td>Drama</td>\n",
       "      <td>77</td>\n",
       "      <td>6.34</td>\n",
       "    </tr>\n",
       "    <tr>\n",
       "      <th>32</th>\n",
       "      <td>Comedy</td>\n",
       "      <td>49</td>\n",
       "      <td>5.51</td>\n",
       "    </tr>\n",
       "    <tr>\n",
       "      <th>81</th>\n",
       "      <td>Romantic comedy</td>\n",
       "      <td>39</td>\n",
       "      <td>5.85</td>\n",
       "    </tr>\n",
       "    <tr>\n",
       "      <th>106</th>\n",
       "      <td>Thriller</td>\n",
       "      <td>33</td>\n",
       "      <td>5.56</td>\n",
       "    </tr>\n",
       "    <tr>\n",
       "      <th>36</th>\n",
       "      <td>Comedy-drama</td>\n",
       "      <td>14</td>\n",
       "      <td>6.21</td>\n",
       "    </tr>\n",
       "    <tr>\n",
       "      <th>41</th>\n",
       "      <td>Crime drama</td>\n",
       "      <td>11</td>\n",
       "      <td>6.75</td>\n",
       "    </tr>\n",
       "    <tr>\n",
       "      <th>26</th>\n",
       "      <td>Biopic</td>\n",
       "      <td>9</td>\n",
       "      <td>6.40</td>\n",
       "    </tr>\n",
       "    <tr>\n",
       "      <th>60</th>\n",
       "      <td>Horror</td>\n",
       "      <td>9</td>\n",
       "      <td>5.26</td>\n",
       "    </tr>\n",
       "    <tr>\n",
       "      <th>0</th>\n",
       "      <td>Action</td>\n",
       "      <td>7</td>\n",
       "      <td>5.41</td>\n",
       "    </tr>\n",
       "    <tr>\n",
       "      <th>10</th>\n",
       "      <td>Aftershow / Interview</td>\n",
       "      <td>6</td>\n",
       "      <td>6.75</td>\n",
       "    </tr>\n",
       "    <tr>\n",
       "      <th>40</th>\n",
       "      <td>Concert Film</td>\n",
       "      <td>6</td>\n",
       "      <td>7.63</td>\n",
       "    </tr>\n",
       "    <tr>\n",
       "      <th>79</th>\n",
       "      <td>Romance</td>\n",
       "      <td>6</td>\n",
       "      <td>6.50</td>\n",
       "    </tr>\n",
       "    <tr>\n",
       "      <th>1</th>\n",
       "      <td>Action comedy</td>\n",
       "      <td>5</td>\n",
       "      <td>5.42</td>\n",
       "    </tr>\n",
       "    <tr>\n",
       "      <th>84</th>\n",
       "      <td>Romantic drama</td>\n",
       "      <td>5</td>\n",
       "      <td>5.90</td>\n",
       "    </tr>\n",
       "  </tbody>\n",
       "</table>\n",
       "</div>"
      ],
      "text/plain": [
       "                     Genre  Quantity  IMDB_Score\n",
       "45             Documentary       159        6.94\n",
       "46                   Drama        77        6.34\n",
       "32                  Comedy        49        5.51\n",
       "81         Romantic comedy        39        5.85\n",
       "106               Thriller        33        5.56\n",
       "36            Comedy-drama        14        6.21\n",
       "41             Crime drama        11        6.75\n",
       "26                  Biopic         9        6.40\n",
       "60                  Horror         9        5.26\n",
       "0                   Action         7        5.41\n",
       "10   Aftershow / Interview         6        6.75\n",
       "40            Concert Film         6        7.63\n",
       "79                 Romance         6        6.50\n",
       "1            Action comedy         5        5.42\n",
       "84          Romantic drama         5        5.90"
      ]
     },
     "execution_count": 55,
     "metadata": {},
     "output_type": "execute_result"
    }
   ],
   "source": [
    "genres.head(15)"
   ]
  },
  {
   "cell_type": "code",
   "execution_count": 56,
   "id": "6c22e8ac",
   "metadata": {},
   "outputs": [
    {
     "data": {
      "image/png": "[encoded data removed]",
      "text/plain": [
       "<Figure size 1296x864 with 1 Axes>"
      ]
     },
     "metadata": {
      "needs_background": "light"
     },
     "output_type": "display_data"
    }
   ],
   "source": [
    "plt.figure(figsize=(18, 12))\n",
    "sns.barplot(data=genres, x=\"Genre\", y=\"Quantity\")\n",
    "plt.xticks(rotation=90)\n",
    "plt.show()"
   ]
  },
  {
   "cell_type": "markdown",
   "id": "dfd83270",
   "metadata": {},
   "source": [
    "### За меру популярности жанра возьмём количество фильмов, которые были выпущены в этом жанре. В исходных данных имеется много смешанных жанров, будем считать их за отдельные жанры, которые имеют свою целевую аудиторию."
   ]
  },
  {
   "cell_type": "code",
   "execution_count": 57,
   "id": "f19db25c",
   "metadata": {
    "scrolled": true
   },
   "outputs": [
    {
     "data": {
      "text/html": [
       "<div>\n",
       "<style scoped>\n",
       "    .dataframe tbody tr th:only-of-type {\n",
       "        vertical-align: middle;\n",
       "    }\n",
       "\n",
       "    .dataframe tbody tr th {\n",
       "        vertical-align: top;\n",
       "    }\n",
       "\n",
       "    .dataframe thead th {\n",
       "        text-align: right;\n",
       "    }\n",
       "</style>\n",
       "<table border=\"1\" class=\"dataframe\">\n",
       "  <thead>\n",
       "    <tr style=\"text-align: right;\">\n",
       "      <th></th>\n",
       "      <th>Genre</th>\n",
       "      <th>Quantity</th>\n",
       "      <th>IMDB_Score</th>\n",
       "    </tr>\n",
       "  </thead>\n",
       "  <tbody>\n",
       "    <tr>\n",
       "      <th>45</th>\n",
       "      <td>Documentary</td>\n",
       "      <td>159</td>\n",
       "      <td>6.94</td>\n",
       "    </tr>\n",
       "    <tr>\n",
       "      <th>46</th>\n",
       "      <td>Drama</td>\n",
       "      <td>77</td>\n",
       "      <td>6.34</td>\n",
       "    </tr>\n",
       "    <tr>\n",
       "      <th>32</th>\n",
       "      <td>Comedy</td>\n",
       "      <td>49</td>\n",
       "      <td>5.51</td>\n",
       "    </tr>\n",
       "    <tr>\n",
       "      <th>81</th>\n",
       "      <td>Romantic comedy</td>\n",
       "      <td>39</td>\n",
       "      <td>5.85</td>\n",
       "    </tr>\n",
       "    <tr>\n",
       "      <th>106</th>\n",
       "      <td>Thriller</td>\n",
       "      <td>33</td>\n",
       "      <td>5.56</td>\n",
       "    </tr>\n",
       "    <tr>\n",
       "      <th>36</th>\n",
       "      <td>Comedy-drama</td>\n",
       "      <td>14</td>\n",
       "      <td>6.21</td>\n",
       "    </tr>\n",
       "    <tr>\n",
       "      <th>41</th>\n",
       "      <td>Crime drama</td>\n",
       "      <td>11</td>\n",
       "      <td>6.75</td>\n",
       "    </tr>\n",
       "    <tr>\n",
       "      <th>26</th>\n",
       "      <td>Biopic</td>\n",
       "      <td>9</td>\n",
       "      <td>6.40</td>\n",
       "    </tr>\n",
       "    <tr>\n",
       "      <th>60</th>\n",
       "      <td>Horror</td>\n",
       "      <td>9</td>\n",
       "      <td>5.26</td>\n",
       "    </tr>\n",
       "    <tr>\n",
       "      <th>0</th>\n",
       "      <td>Action</td>\n",
       "      <td>7</td>\n",
       "      <td>5.41</td>\n",
       "    </tr>\n",
       "  </tbody>\n",
       "</table>\n",
       "</div>"
      ],
      "text/plain": [
       "               Genre  Quantity  IMDB_Score\n",
       "45       Documentary       159        6.94\n",
       "46             Drama        77        6.34\n",
       "32            Comedy        49        5.51\n",
       "81   Romantic comedy        39        5.85\n",
       "106         Thriller        33        5.56\n",
       "36      Comedy-drama        14        6.21\n",
       "41       Crime drama        11        6.75\n",
       "26            Biopic         9        6.40\n",
       "60            Horror         9        5.26\n",
       "0             Action         7        5.41"
      ]
     },
     "execution_count": 57,
     "metadata": {},
     "output_type": "execute_result"
    }
   ],
   "source": [
    "genres.nlargest(n=10, columns='Quantity')"
   ]
  },
  {
   "cell_type": "markdown",
   "id": "e5664371",
   "metadata": {},
   "source": [
    "### Наиболее популярны документальные фильмы, на втором месте по популярности драмы, на третьем комедии"
   ]
  },
  {
   "cell_type": "code",
   "execution_count": 58,
   "id": "a2595215",
   "metadata": {},
   "outputs": [
    {
     "data": {
      "text/plain": [
       "70"
      ]
     },
     "execution_count": 58,
     "metadata": {},
     "output_type": "execute_result"
    }
   ],
   "source": [
    "genres.query('Quantity == 1').sort_values(by='IMDB_Score').shape[0]"
   ]
  },
  {
   "cell_type": "code",
   "execution_count": 59,
   "id": "75011a1e",
   "metadata": {},
   "outputs": [
    {
     "data": {
      "text/html": [
       "<div>\n",
       "<style scoped>\n",
       "    .dataframe tbody tr th:only-of-type {\n",
       "        vertical-align: middle;\n",
       "    }\n",
       "\n",
       "    .dataframe tbody tr th {\n",
       "        vertical-align: top;\n",
       "    }\n",
       "\n",
       "    .dataframe thead th {\n",
       "        text-align: right;\n",
       "    }\n",
       "</style>\n",
       "<table border=\"1\" class=\"dataframe\">\n",
       "  <thead>\n",
       "    <tr style=\"text-align: right;\">\n",
       "      <th></th>\n",
       "      <th>Genre</th>\n",
       "      <th>Quantity</th>\n",
       "      <th>IMDB_Score</th>\n",
       "    </tr>\n",
       "  </thead>\n",
       "  <tbody>\n",
       "    <tr>\n",
       "      <th>56</th>\n",
       "      <td>Heist film/Thriller</td>\n",
       "      <td>1</td>\n",
       "      <td>3.7</td>\n",
       "    </tr>\n",
       "    <tr>\n",
       "      <th>72</th>\n",
       "      <td>Musical/Western/Fantasy</td>\n",
       "      <td>1</td>\n",
       "      <td>3.9</td>\n",
       "    </tr>\n",
       "    <tr>\n",
       "      <th>61</th>\n",
       "      <td>Horror anthology</td>\n",
       "      <td>1</td>\n",
       "      <td>4.3</td>\n",
       "    </tr>\n",
       "    <tr>\n",
       "      <th>75</th>\n",
       "      <td>Political thriller</td>\n",
       "      <td>1</td>\n",
       "      <td>4.3</td>\n",
       "    </tr>\n",
       "    <tr>\n",
       "      <th>101</th>\n",
       "      <td>Superhero-Comedy</td>\n",
       "      <td>1</td>\n",
       "      <td>4.4</td>\n",
       "    </tr>\n",
       "    <tr>\n",
       "      <th>80</th>\n",
       "      <td>Romance drama</td>\n",
       "      <td>1</td>\n",
       "      <td>4.6</td>\n",
       "    </tr>\n",
       "    <tr>\n",
       "      <th>21</th>\n",
       "      <td>Anime / Short</td>\n",
       "      <td>1</td>\n",
       "      <td>4.7</td>\n",
       "    </tr>\n",
       "    <tr>\n",
       "      <th>55</th>\n",
       "      <td>Heist</td>\n",
       "      <td>1</td>\n",
       "      <td>4.8</td>\n",
       "    </tr>\n",
       "    <tr>\n",
       "      <th>20</th>\n",
       "      <td>Animation/Superhero</td>\n",
       "      <td>1</td>\n",
       "      <td>4.9</td>\n",
       "    </tr>\n",
       "    <tr>\n",
       "      <th>105</th>\n",
       "      <td>Teen comedy-drama</td>\n",
       "      <td>1</td>\n",
       "      <td>5.1</td>\n",
       "    </tr>\n",
       "  </tbody>\n",
       "</table>\n",
       "</div>"
      ],
      "text/plain": [
       "                       Genre  Quantity  IMDB_Score\n",
       "56       Heist film/Thriller         1         3.7\n",
       "72   Musical/Western/Fantasy         1         3.9\n",
       "61          Horror anthology         1         4.3\n",
       "75        Political thriller         1         4.3\n",
       "101         Superhero-Comedy         1         4.4\n",
       "80             Romance drama         1         4.6\n",
       "21             Anime / Short         1         4.7\n",
       "55                     Heist         1         4.8\n",
       "20       Animation/Superhero         1         4.9\n",
       "105        Teen comedy-drama         1         5.1"
      ]
     },
     "execution_count": 59,
     "metadata": {},
     "output_type": "execute_result"
    }
   ],
   "source": [
    "genres.query('Quantity == 1').sort_values(by='IMDB_Score').head(10) # примеры наименее популярных жанров"
   ]
  },
  {
   "cell_type": "markdown",
   "id": "f76c9e41",
   "metadata": {},
   "source": [
    "### Наименее популярны фильмы смешанных жанров, таких жанров в исходных данных насчитывается 70"
   ]
  },
  {
   "cell_type": "markdown",
   "id": "634cff89",
   "metadata": {},
   "source": [
    "# 2. На каком языке Netflix чаще всего снимает фильмы?"
   ]
  },
  {
   "cell_type": "code",
   "execution_count": 60,
   "id": "cdd70779",
   "metadata": {},
   "outputs": [],
   "source": [
    "language = netflix.groupby('Language', as_index=False)\\\n",
    "                  .agg({'Title': 'count'})\\\n",
    "                  .rename(columns={'Title': 'Quantity'})"
   ]
  },
  {
   "cell_type": "code",
   "execution_count": 61,
   "id": "18d5de53",
   "metadata": {},
   "outputs": [
    {
     "data": {
      "text/html": [
       "<div>\n",
       "<style scoped>\n",
       "    .dataframe tbody tr th:only-of-type {\n",
       "        vertical-align: middle;\n",
       "    }\n",
       "\n",
       "    .dataframe tbody tr th {\n",
       "        vertical-align: top;\n",
       "    }\n",
       "\n",
       "    .dataframe thead th {\n",
       "        text-align: right;\n",
       "    }\n",
       "</style>\n",
       "<table border=\"1\" class=\"dataframe\">\n",
       "  <thead>\n",
       "    <tr style=\"text-align: right;\">\n",
       "      <th></th>\n",
       "      <th>Language</th>\n",
       "      <th>Quantity</th>\n",
       "    </tr>\n",
       "  </thead>\n",
       "  <tbody>\n",
       "    <tr>\n",
       "      <th>2</th>\n",
       "      <td>English</td>\n",
       "      <td>401</td>\n",
       "    </tr>\n",
       "    <tr>\n",
       "      <th>18</th>\n",
       "      <td>Hindi</td>\n",
       "      <td>33</td>\n",
       "    </tr>\n",
       "    <tr>\n",
       "      <th>29</th>\n",
       "      <td>Spanish</td>\n",
       "      <td>31</td>\n",
       "    </tr>\n",
       "    <tr>\n",
       "      <th>15</th>\n",
       "      <td>French</td>\n",
       "      <td>20</td>\n",
       "    </tr>\n",
       "    <tr>\n",
       "      <th>20</th>\n",
       "      <td>Italian</td>\n",
       "      <td>14</td>\n",
       "    </tr>\n",
       "    <tr>\n",
       "      <th>28</th>\n",
       "      <td>Portuguese</td>\n",
       "      <td>12</td>\n",
       "    </tr>\n",
       "    <tr>\n",
       "      <th>19</th>\n",
       "      <td>Indonesian</td>\n",
       "      <td>9</td>\n",
       "    </tr>\n",
       "    <tr>\n",
       "      <th>21</th>\n",
       "      <td>Japanese</td>\n",
       "      <td>6</td>\n",
       "    </tr>\n",
       "    <tr>\n",
       "      <th>23</th>\n",
       "      <td>Korean</td>\n",
       "      <td>6</td>\n",
       "    </tr>\n",
       "    <tr>\n",
       "      <th>10</th>\n",
       "      <td>English/Spanish</td>\n",
       "      <td>5</td>\n",
       "    </tr>\n",
       "  </tbody>\n",
       "</table>\n",
       "</div>"
      ],
      "text/plain": [
       "           Language  Quantity\n",
       "2           English       401\n",
       "18            Hindi        33\n",
       "29          Spanish        31\n",
       "15           French        20\n",
       "20          Italian        14\n",
       "28       Portuguese        12\n",
       "19       Indonesian         9\n",
       "21         Japanese         6\n",
       "23           Korean         6\n",
       "10  English/Spanish         5"
      ]
     },
     "execution_count": 61,
     "metadata": {},
     "output_type": "execute_result"
    }
   ],
   "source": [
    "language.nlargest(n=10, columns='Quantity')"
   ]
  },
  {
   "cell_type": "markdown",
   "id": "ca618fd8",
   "metadata": {},
   "source": [
    "### Больше всего фильмов снято на английском языке"
   ]
  },
  {
   "cell_type": "markdown",
   "id": "d6f6471d",
   "metadata": {},
   "source": [
    "# 3. Есть ли зависимость между длительностью фильма и его рейтингом?"
   ]
  },
  {
   "cell_type": "code",
   "execution_count": 62,
   "id": "f2c751a5",
   "metadata": {},
   "outputs": [],
   "source": [
    "runtime = netflix.sort_values(by='Runtime', ascending=False)"
   ]
  },
  {
   "cell_type": "markdown",
   "id": "422e3cf4",
   "metadata": {},
   "source": [
    "Посмотрим на графике взаимосвязь длительности фильма и его рейтинга"
   ]
  },
  {
   "cell_type": "code",
   "execution_count": 63,
   "id": "503d22a3",
   "metadata": {},
   "outputs": [
    {
     "data": {
      "image/png": "[encoded data removed]",
      "text/plain": [
       "<Figure size 1080x504 with 1 Axes>"
      ]
     },
     "metadata": {},
     "output_type": "display_data"
    }
   ],
   "source": [
    "sns.set(style='whitegrid', rc={'figure.figsize' : (15,7)})\n",
    "plt.title('Взаимосвязь длительности фильма и его рейтинга')\n",
    "plt.xlabel('Длительность фильма')\n",
    "plt.ylabel('Рейтинг IMDB')\n",
    "sns.scatterplot(x = 'Runtime', y = 'IMDB_Score', data = runtime);"
   ]
  },
  {
   "cell_type": "markdown",
   "id": "67dd5c91",
   "metadata": {},
   "source": [
    "На приведённом графике визуально взаимосвязь не улавливается. Построим матрицу корреляций"
   ]
  },
  {
   "cell_type": "code",
   "execution_count": 64,
   "id": "9e052f01",
   "metadata": {},
   "outputs": [
    {
     "data": {
      "image/png": "[encoded data removed]",
      "text/plain": [
       "<Figure size 432x432 with 2 Axes>"
      ]
     },
     "metadata": {},
     "output_type": "display_data"
    }
   ],
   "source": [
    "corr = runtime[['Runtime', 'IMDB_Score']].corr()\n",
    "\n",
    "sns.set(style='whitegrid')\n",
    "f, ax = plt.subplots(figsize=(6,6))\n",
    "\n",
    "cmap = sns.diverging_palette(230, 20, as_cmap=True)\n",
    "\n",
    "sns.heatmap(corr, cmap=cmap, center=0.5, annot=corr,\n",
    "            square=True, linewidths=.5, cbar_kws={\"shrink\": .5})\n",
    "plt.title('Корреляция признаков Рейтинг и Длительность')\n",
    "plt.show()"
   ]
  },
  {
   "cell_type": "markdown",
   "id": "1433968a",
   "metadata": {},
   "source": [
    "Нет линейной взаимосвязи, но может быть и другая более сложная"
   ]
  },
  {
   "cell_type": "code",
   "execution_count": 65,
   "id": "d6a31c4d",
   "metadata": {},
   "outputs": [
    {
     "data": {
      "image/png": "[encoded data removed]",
      "text/plain": [
       "<Figure size 1080x504 with 1 Axes>"
      ]
     },
     "metadata": {},
     "output_type": "display_data"
    }
   ],
   "source": [
    "#Проверим распределение для выбора типа теста\n",
    "plt.hist(runtime['IMDB_Score'])\n",
    "plt.show()"
   ]
  },
  {
   "cell_type": "markdown",
   "id": "9bf826f2",
   "metadata": {},
   "source": [
    "Видим, что распределение близко к нормальному и не имеет сильных ассиметрий.\n",
    "\n",
    "Разделим данные на две одинаковые выборки по длительности фильма - короткие фильмы и длинные."
   ]
  },
  {
   "cell_type": "code",
   "execution_count": 66,
   "id": "664d60f9",
   "metadata": {},
   "outputs": [],
   "source": [
    "runtime['duration_label'] = pd.qcut(runtime.Runtime, 2, labels=[\"short\", \"long\"])"
   ]
  },
  {
   "cell_type": "code",
   "execution_count": 67,
   "id": "3fc9dbec",
   "metadata": {},
   "outputs": [
    {
     "data": {
      "text/html": [
       "<div>\n",
       "<style scoped>\n",
       "    .dataframe tbody tr th:only-of-type {\n",
       "        vertical-align: middle;\n",
       "    }\n",
       "\n",
       "    .dataframe tbody tr th {\n",
       "        vertical-align: top;\n",
       "    }\n",
       "\n",
       "    .dataframe thead th {\n",
       "        text-align: right;\n",
       "    }\n",
       "</style>\n",
       "<table border=\"1\" class=\"dataframe\">\n",
       "  <thead>\n",
       "    <tr style=\"text-align: right;\">\n",
       "      <th></th>\n",
       "      <th>Title</th>\n",
       "      <th>Genre</th>\n",
       "      <th>Premiere</th>\n",
       "      <th>Runtime</th>\n",
       "      <th>IMDB_Score</th>\n",
       "      <th>Language</th>\n",
       "      <th>duration_label</th>\n",
       "    </tr>\n",
       "  </thead>\n",
       "  <tbody>\n",
       "    <tr>\n",
       "      <th>561</th>\n",
       "      <td>The Irishman</td>\n",
       "      <td>Crime drama</td>\n",
       "      <td>2019-11-27</td>\n",
       "      <td>209</td>\n",
       "      <td>7.8</td>\n",
       "      <td>English</td>\n",
       "      <td>long</td>\n",
       "    </tr>\n",
       "    <tr>\n",
       "      <th>328</th>\n",
       "      <td>Da 5 Bloods</td>\n",
       "      <td>War drama</td>\n",
       "      <td>2020-06-12</td>\n",
       "      <td>155</td>\n",
       "      <td>6.5</td>\n",
       "      <td>English</td>\n",
       "      <td>long</td>\n",
       "    </tr>\n",
       "    <tr>\n",
       "      <th>581</th>\n",
       "      <td>Springsteen on Broadway</td>\n",
       "      <td>One-man show</td>\n",
       "      <td>2018-12-16</td>\n",
       "      <td>153</td>\n",
       "      <td>8.5</td>\n",
       "      <td>English</td>\n",
       "      <td>long</td>\n",
       "    </tr>\n",
       "    <tr>\n",
       "      <th>247</th>\n",
       "      <td>Citation</td>\n",
       "      <td>Drama</td>\n",
       "      <td>2020-11-06</td>\n",
       "      <td>151</td>\n",
       "      <td>6.2</td>\n",
       "      <td>English</td>\n",
       "      <td>long</td>\n",
       "    </tr>\n",
       "    <tr>\n",
       "      <th>284</th>\n",
       "      <td>The Forest of Love</td>\n",
       "      <td>Drama</td>\n",
       "      <td>2019-10-11</td>\n",
       "      <td>151</td>\n",
       "      <td>6.3</td>\n",
       "      <td>Japanese</td>\n",
       "      <td>long</td>\n",
       "    </tr>\n",
       "  </tbody>\n",
       "</table>\n",
       "</div>"
      ],
      "text/plain": [
       "                       Title         Genre   Premiere  Runtime  IMDB_Score  \\\n",
       "561             The Irishman   Crime drama 2019-11-27      209         7.8   \n",
       "328              Da 5 Bloods     War drama 2020-06-12      155         6.5   \n",
       "581  Springsteen on Broadway  One-man show 2018-12-16      153         8.5   \n",
       "247                 Citation         Drama 2020-11-06      151         6.2   \n",
       "284       The Forest of Love         Drama 2019-10-11      151         6.3   \n",
       "\n",
       "     Language duration_label  \n",
       "561   English           long  \n",
       "328   English           long  \n",
       "581   English           long  \n",
       "247   English           long  \n",
       "284  Japanese           long  "
      ]
     },
     "execution_count": 67,
     "metadata": {},
     "output_type": "execute_result"
    }
   ],
   "source": [
    "runtime.head()"
   ]
  },
  {
   "cell_type": "markdown",
   "id": "daf1e51f",
   "metadata": {},
   "source": [
    "Создаем функцию для проверки гипотезы с помощью бутстрапа. В качестве нулевой гипотезы примем, что различий нет. Уровень значимости альфа примем 0.05"
   ]
  },
  {
   "cell_type": "code",
   "execution_count": 68,
   "id": "0dc5bcce",
   "metadata": {},
   "outputs": [],
   "source": [
    "def get_bootstrap(sample1, sample2, iterate=1000, alpha=0.05, statistic='mean', random_state=42):\n",
    "    \n",
    "    assert statistic in ('mean', 'median'), f'{statistic} not in correct statistics. Choose \"mean\" or \"median\"'\n",
    "    np.random.seed(random_state)\n",
    "    l = max(len(sample1), len(sample2))\n",
    "    difference = []\n",
    "    for i in range(iterate):\n",
    "        s1 = np.random.choice(sample1, size=l, replace=True)\n",
    "        s2 = np.random.choice(sample2, size=l, replace=True)\n",
    "        if statistic == 'mean':\n",
    "            diff = np.mean(s1 - s2)\n",
    "        else: \n",
    "            diff = np.median(s1 - s2)\n",
    "        difference.append(diff)\n",
    "    low_quantile = alpha/2\n",
    "    upper_quantile = 1 - low_quantile \n",
    "    ci = (np.quantile(difference, low_quantile), np.quantile(difference, upper_quantile))\n",
    "    p1 = norm.cdf(0, loc=np.mean(difference), scale=np.std(difference))\n",
    "    p2 = 1 - p1\n",
    "    p = min(p1, p2)*2\n",
    "    \n",
    "    plt.hist(difference, bins = 50)\n",
    "\n",
    "    with plt.style.context('bmh'):\n",
    "        plt.vlines(ci,ymin=0,ymax=50,linestyle='--')\n",
    "        plt.xlabel('boot_data')\n",
    "        plt.ylabel('frequency')\n",
    "        plt.title(\"Histogram of boot_data\")\n",
    "        plt.show()\n",
    "       \n",
    "    return {\"boot_data\": difference, \n",
    "            \"ci\": ci, \n",
    "            \"p_value\": p\n",
    "           }"
   ]
  },
  {
   "cell_type": "code",
   "execution_count": 69,
   "id": "0d2a9918",
   "metadata": {},
   "outputs": [
    {
     "data": {
      "image/png": "[encoded data removed]",
      "text/plain": [
       "<Figure size 1080x504 with 1 Axes>"
      ]
     },
     "metadata": {},
     "output_type": "display_data"
    }
   ],
   "source": [
    "result_mean = get_bootstrap(runtime.query('duration_label == \"short\"').IMDB_Score, \n",
    "                            runtime.query('duration_label == \"long\"').IMDB_Score, statistic='mean')"
   ]
  },
  {
   "cell_type": "code",
   "execution_count": 70,
   "id": "d4246d46",
   "metadata": {},
   "outputs": [
    {
     "data": {
      "text/plain": [
       "0.7421097551941251"
      ]
     },
     "execution_count": 70,
     "metadata": {},
     "output_type": "execute_result"
    }
   ],
   "source": [
    "result_mean['p_value'] # P-value > 0.05, а значит мы не можем отклонить нулевую гипотизу о том, что нет различий в выборках"
   ]
  },
  {
   "cell_type": "code",
   "execution_count": 71,
   "id": "c7fbf60b",
   "metadata": {},
   "outputs": [
    {
     "data": {
      "text/plain": [
       "(-0.1771605960264901, 0.12254139072847682)"
      ]
     },
     "execution_count": 71,
     "metadata": {},
     "output_type": "execute_result"
    }
   ],
   "source": [
    "result_mean['ci'] \n",
    "# доверительный интервал включает ноль, что говорит о том, различий между разницами средних двух выборок не наблюдается"
   ]
  },
  {
   "cell_type": "code",
   "execution_count": 72,
   "id": "2c4ae9e8",
   "metadata": {},
   "outputs": [
    {
     "data": {
      "image/png": "[encoded data removed]",
      "text/plain": [
       "<Figure size 1080x504 with 1 Axes>"
      ]
     },
     "metadata": {},
     "output_type": "display_data"
    }
   ],
   "source": [
    "#Посмотрим распределение двух выборок\n",
    "plt.hist(runtime.query('duration_label == \"short\"').IMDB_Score, alpha=0.5)\n",
    "plt.hist(runtime.query('duration_label == \"long\"').IMDB_Score, alpha=0.5)\n",
    "plt.show()"
   ]
  },
  {
   "cell_type": "markdown",
   "id": "13af7099",
   "metadata": {},
   "source": [
    "### Взаимосвязь длительности фильма и его рейтинга не прослеживается"
   ]
  },
  {
   "cell_type": "markdown",
   "id": "4e89c55b",
   "metadata": {},
   "source": [
    "# 4. Порекомендуйте, на какой месяц лучше всего запланировать премьеру нового фильма. Почему? "
   ]
  },
  {
   "cell_type": "markdown",
   "id": "97faae1f",
   "metadata": {},
   "source": [
    "### Премьеру нового фильма лучше всего запланировать на тот месяц, когда на него придёт больше всего зрителей. Посмотрим, в какой месяц фильмы выпускались чаще всего, скорее всего этот месяц наилучший для премьеры."
   ]
  },
  {
   "cell_type": "code",
   "execution_count": 73,
   "id": "eec82e44",
   "metadata": {},
   "outputs": [],
   "source": [
    "premiere = netflix.sort_values(by='Premiere')"
   ]
  },
  {
   "cell_type": "code",
   "execution_count": 74,
   "id": "1ccc0852",
   "metadata": {},
   "outputs": [],
   "source": [
    "premiere['Year_Month_of_premiere'] = premiere.Premiere.dt.strftime('%Y-%m') "
   ]
  },
  {
   "cell_type": "code",
   "execution_count": 75,
   "id": "5cd1a376",
   "metadata": {},
   "outputs": [],
   "source": [
    "premiere_ymonth = premiere.groupby('Year_Month_of_premiere', as_index=False)\\\n",
    "        .agg({'Title': 'count'})\\\n",
    "        .rename(columns={'Title': 'Quantity'})"
   ]
  },
  {
   "cell_type": "code",
   "execution_count": 76,
   "id": "f5b0a3c9",
   "metadata": {},
   "outputs": [
    {
     "data": {
      "image/png": "[encoded data removed]",
      "text/plain": [
       "<Figure size 1080x504 with 1 Axes>"
      ]
     },
     "metadata": {},
     "output_type": "display_data"
    }
   ],
   "source": [
    "sns.lineplot(data=premiere_ymonth, x=\"Year_Month_of_premiere\", y=\"Quantity\")\n",
    "plt.xlabel('Месяц и год премьеры фильма')\n",
    "plt.ylabel('Количество фильмов')\n",
    "plt.xticks(rotation=90);"
   ]
  },
  {
   "cell_type": "code",
   "execution_count": 77,
   "id": "8b065710",
   "metadata": {},
   "outputs": [],
   "source": [
    "premiere['Month_of_premiere'] = premiere.Premiere.dt.month"
   ]
  },
  {
   "cell_type": "code",
   "execution_count": 78,
   "id": "2ce753ce",
   "metadata": {},
   "outputs": [],
   "source": [
    "premiere_gr = premiere.groupby('Month_of_premiere', as_index=False)\\\n",
    "        .agg({'Title': 'count', 'IMDB_Score': 'mean'})\\\n",
    "        .rename(columns={'Title': 'Quantity'})"
   ]
  },
  {
   "cell_type": "code",
   "execution_count": 79,
   "id": "152c6a43",
   "metadata": {},
   "outputs": [
    {
     "data": {
      "text/html": [
       "<div>\n",
       "<style scoped>\n",
       "    .dataframe tbody tr th:only-of-type {\n",
       "        vertical-align: middle;\n",
       "    }\n",
       "\n",
       "    .dataframe tbody tr th {\n",
       "        vertical-align: top;\n",
       "    }\n",
       "\n",
       "    .dataframe thead th {\n",
       "        text-align: right;\n",
       "    }\n",
       "</style>\n",
       "<table border=\"1\" class=\"dataframe\">\n",
       "  <thead>\n",
       "    <tr style=\"text-align: right;\">\n",
       "      <th></th>\n",
       "      <th>Month_of_premiere</th>\n",
       "      <th>Quantity</th>\n",
       "      <th>IMDB_Score</th>\n",
       "    </tr>\n",
       "  </thead>\n",
       "  <tbody>\n",
       "    <tr>\n",
       "      <th>0</th>\n",
       "      <td>1</td>\n",
       "      <td>37</td>\n",
       "      <td>6.002703</td>\n",
       "    </tr>\n",
       "    <tr>\n",
       "      <th>1</th>\n",
       "      <td>2</td>\n",
       "      <td>39</td>\n",
       "      <td>6.117949</td>\n",
       "    </tr>\n",
       "    <tr>\n",
       "      <th>2</th>\n",
       "      <td>3</td>\n",
       "      <td>48</td>\n",
       "      <td>6.322917</td>\n",
       "    </tr>\n",
       "    <tr>\n",
       "      <th>3</th>\n",
       "      <td>4</td>\n",
       "      <td>63</td>\n",
       "      <td>6.049206</td>\n",
       "    </tr>\n",
       "    <tr>\n",
       "      <th>4</th>\n",
       "      <td>5</td>\n",
       "      <td>53</td>\n",
       "      <td>6.213208</td>\n",
       "    </tr>\n",
       "    <tr>\n",
       "      <th>5</th>\n",
       "      <td>6</td>\n",
       "      <td>35</td>\n",
       "      <td>6.582857</td>\n",
       "    </tr>\n",
       "    <tr>\n",
       "      <th>6</th>\n",
       "      <td>7</td>\n",
       "      <td>34</td>\n",
       "      <td>6.091176</td>\n",
       "    </tr>\n",
       "    <tr>\n",
       "      <th>7</th>\n",
       "      <td>8</td>\n",
       "      <td>37</td>\n",
       "      <td>5.951351</td>\n",
       "    </tr>\n",
       "    <tr>\n",
       "      <th>8</th>\n",
       "      <td>9</td>\n",
       "      <td>53</td>\n",
       "      <td>6.481132</td>\n",
       "    </tr>\n",
       "    <tr>\n",
       "      <th>9</th>\n",
       "      <td>10</td>\n",
       "      <td>77</td>\n",
       "      <td>6.522078</td>\n",
       "    </tr>\n",
       "    <tr>\n",
       "      <th>10</th>\n",
       "      <td>11</td>\n",
       "      <td>57</td>\n",
       "      <td>6.398246</td>\n",
       "    </tr>\n",
       "    <tr>\n",
       "      <th>11</th>\n",
       "      <td>12</td>\n",
       "      <td>51</td>\n",
       "      <td>6.274510</td>\n",
       "    </tr>\n",
       "  </tbody>\n",
       "</table>\n",
       "</div>"
      ],
      "text/plain": [
       "    Month_of_premiere  Quantity  IMDB_Score\n",
       "0                   1        37    6.002703\n",
       "1                   2        39    6.117949\n",
       "2                   3        48    6.322917\n",
       "3                   4        63    6.049206\n",
       "4                   5        53    6.213208\n",
       "5                   6        35    6.582857\n",
       "6                   7        34    6.091176\n",
       "7                   8        37    5.951351\n",
       "8                   9        53    6.481132\n",
       "9                  10        77    6.522078\n",
       "10                 11        57    6.398246\n",
       "11                 12        51    6.274510"
      ]
     },
     "execution_count": 79,
     "metadata": {},
     "output_type": "execute_result"
    }
   ],
   "source": [
    "premiere_gr"
   ]
  },
  {
   "cell_type": "code",
   "execution_count": 80,
   "id": "32e9af32",
   "metadata": {},
   "outputs": [
    {
     "data": {
      "image/png": "[encoded data removed]",
      "text/plain": [
       "<Figure size 1080x504 with 1 Axes>"
      ]
     },
     "metadata": {},
     "output_type": "display_data"
    }
   ],
   "source": [
    "sns.lineplot(data=premiere_gr, x=\"Month_of_premiere\", y=\"Quantity\")\n",
    "plt.xlabel('Месяц премьеры фильма')\n",
    "plt.ylabel('Количество фильмов')\n",
    "plt.xticks(rotation=90);"
   ]
  },
  {
   "cell_type": "markdown",
   "id": "def420ae",
   "metadata": {},
   "source": [
    "### На графике мы видим сезонность выпуска фильмов, осенью, в октябре и сентябре больше всего лент выходит в прокат. Еще один всплеск мы видим весной, в апреле. Исходя из этих данных можно предположить, что в октябре кинотеатр посещает больше всего пользователей. Из этих соображений, премьеру лучше всего запланировать на октябрь"
   ]
  }
 ],
 "metadata": {
  "kernelspec": {
   "display_name": "Python 3",
   "language": "python",
   "name": "python3"
  },
  "language_info": {
   "codemirror_mode": {
    "name": "ipython",
    "version": 3
   },
   "file_extension": ".py",
   "mimetype": "text/x-python",
   "name": "python",
   "nbconvert_exporter": "python",
   "pygments_lexer": "ipython3",
   "version": "3.8.8"
  }
 },
 "nbformat": 4,
 "nbformat_minor": 5
}
