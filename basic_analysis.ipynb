{
 "cells": [
  {
   "cell_type": "markdown",
   "id": "635b5fcb",
   "metadata": {},
   "source": [
    "# Определение перспективного тарифа для телеком компании\n",
    "## **Описание проекта**\n",
    "\n",
    " \n",
    "Имеются данные клиентов «Мегалайн» — федерального оператора сотовой связи. Клиентам предлагают два тарифных плана: «Смарт» и «Ультра». Чтобы скорректировать рекламный бюджет, коммерческий департамент хочет понять, какой тариф приносит больше денег.\n",
    "    \n",
    "Нужно сделать предварительный анализ тарифов на небольшой выборке клиентов. Имеются данные 500 пользователей: кто они, откуда, каким тарифом пользуются, сколько звонков и сообщений каждый отправил за 2018 год. Нужно проанализировать поведение клиентов и сделать вывод — какой тариф лучше."
   ]
  },
  {
   "cell_type": "markdown",
   "id": "5abe7790",
   "metadata": {},
   "source": [
    "### Описание тарифов\n",
    "\n",
    "**Тариф «Смарт»**\n",
    "\n",
    "1. Ежемесячная плата: 550 рублей\n",
    "2. Включено 500 минут разговора, 50 сообщений и 15 Гб интернет-трафика\n",
    "3. Стоимость услуг сверх тарифного пакета: 1. минута разговора: 3 рубля («Мегалайн» всегда округляет вверх значения минут и мегабайтов. Если пользователь проговорил всего 1 секунду, в тарифе засчитывается целая минута); 2. сообщение: 3 рубля; 3. 1 Гб интернет-трафика: 200 рублей.\n",
    "\n",
    "**Тариф «Ультра»**\n",
    "\n",
    "1. Ежемесячная плата: 1950 рублей\n",
    "2. Включено 3000 минут разговора, 1000 сообщений и 30 Гб интернет-трафика\n",
    "3. Стоимость услуг сверх тарифного пакета: 1. минута разговора: 1 рубль; 2. сообщение: 1 рубль; 3. 1 Гб интернет-трафика: 150 рублей.\n",
    "\n",
    "**Примечание:**\n",
    "\n",
    "«Мегалайн» всегда округляет секунды до минут, а мегабайты — до гигабайт. Каждый звонок округляется отдельно: даже если он длился всего 1 секунду, будет засчитан как 1 минута.\n",
    "\n",
    "Для веб-трафика отдельные сессии не считаются. Вместо этого общая сумма за месяц округляется в бо́льшую сторону. Если абонент использует 1025 мегабайт в этом месяце, с него возьмут плату за 2 гигабайта.\n",
    "\n",
    "### Описание данных\n",
    "\n",
    "Таблица `users` (информация о пользователях):\n",
    "\n",
    "- *user_id* — уникальный идентификатор пользователя\n",
    "- *first_name* — имя пользователя\n",
    "- *last_name* — фамилия пользователя\n",
    "- *age* — возраст пользователя (годы)\n",
    "- *reg_date* — дата подключения тарифа (день, месяц, год)\n",
    "- *churn_date* — дата прекращения пользования тарифом (если значение пропущено, то тариф ещё действовал на момент выгрузки данных)\n",
    "- *city* — город проживания пользователя\n",
    "- *tarif* — название тарифного плана\n",
    "\n",
    "Таблица `calls` (информация о звонках):\n",
    "\n",
    "- *id* — уникальный номер звонка\n",
    "- *call_date* — дата звонка\n",
    "- *duration* — длительность звонка в минутах\n",
    "- *user_id* — идентификатор пользователя, сделавшего звонок\n",
    "\n",
    "Таблица `messages` (информация о сообщениях):\n",
    "\n",
    "- *id* — уникальный номер сообщения\n",
    "- *message_date* — дата сообщения\n",
    "- *user_id* — идентификатор пользователя, отправившего сообщение\n",
    "\n",
    "Таблица `internet` (информация об интернет-сессиях):\n",
    "\n",
    "- *id* — уникальный номер сессии\n",
    "- *mb_used* — объём потраченного за сессию интернет-трафика (в мегабайтах)\n",
    "- *session_date* — дата интернет-сессии\n",
    "- *user_id* — идентификатор пользователя\n",
    "\n",
    "Таблица `tariffs` (информация о тарифах):\n",
    "\n",
    "- *tariff_name* — название тарифа\n",
    "- *rub_monthly_fee* — ежемесячная абонентская плата в рублях\n",
    "- *minutes_included* — количество минут разговора в месяц, включённых в абонентскую плату\n",
    "- *messages_included* — количество сообщений в месяц, включённых в абонентскую плату\n",
    "- *mb_per_month_included* — объём интернет-трафика, включённого в абонентскую плату (в мегабайтах)\n",
    "- *rub_per_minute* — стоимость минуты разговора сверх тарифного пакета (например, если в тарифе 100 минут разговора в месяц, то со 101 минуты будет взиматься плата)\n",
    "- *rub_per_message* — стоимость отправки сообщения сверх тарифного пакета\n",
    "- *rub_per_gb* — стоимость дополнительного гигабайта интернет-трафика сверх тарифного пакета (1 гигабайт = 1024 мегабайта)"
   ]
  },
  {
   "cell_type": "markdown",
   "id": "0bdcda13",
   "metadata": {},
   "source": [
    "## Импортируем библиотеки"
   ]
  },
  {
   "cell_type": "code",
   "execution_count": 1141,
   "id": "4664ac9e",
   "metadata": {},
   "outputs": [],
   "source": [
    "# для работы с данными\n",
    "import pandas as pd\n",
    "import numpy as np\n",
    "\n",
    "# для работы с датой\n",
    "import datetime\n",
    "from dateutil import relativedelta\n",
    "\n",
    "# Для работы со статистикой\n",
    "from scipy import stats as st\n",
    "from scipy.stats import norm\n",
    "\n",
    "#Предупреждения\n",
    "import warnings\n",
    "warnings.filterwarnings('ignore')\n",
    "\n",
    "# Для Графиков\n",
    "import matplotlib.pyplot as plt\n",
    "import seaborn as sns\n",
    "#увеличим дефолтный размер графиков\n",
    "from pylab import rcParams\n",
    "rcParams['figure.figsize'] = 8, 5"
   ]
  },
  {
   "cell_type": "code",
   "execution_count": 917,
   "id": "bf32edca",
   "metadata": {},
   "outputs": [],
   "source": [
    "# Загрузим данные и сохраним в соответствующие переменные\n",
    "df_users = pd.read_csv('prkt_project_users.csv')\n",
    "df_calls = pd.read_csv('prkt_project_calls.csv')\n",
    "df_messages = pd.read_csv('prkt_project_messages.csv')\n",
    "df_internet = pd.read_csv('prkt_project_internet.csv')\n",
    "df_tariffs = pd.read_csv('tariffs.csv')"
   ]
  },
  {
   "cell_type": "markdown",
   "id": "46e01529",
   "metadata": {},
   "source": [
    "### 1. Проверим основную информацию о данных"
   ]
  },
  {
   "cell_type": "markdown",
   "id": "4b250c88",
   "metadata": {},
   "source": [
    "- Таблица users (информация о пользователях)"
   ]
  },
  {
   "cell_type": "code",
   "execution_count": 918,
   "id": "27af54c1",
   "metadata": {},
   "outputs": [
    {
     "data": {
      "text/html": [
       "<div>\n",
       "<style scoped>\n",
       "    .dataframe tbody tr th:only-of-type {\n",
       "        vertical-align: middle;\n",
       "    }\n",
       "\n",
       "    .dataframe tbody tr th {\n",
       "        vertical-align: top;\n",
       "    }\n",
       "\n",
       "    .dataframe thead th {\n",
       "        text-align: right;\n",
       "    }\n",
       "</style>\n",
       "<table border=\"1\" class=\"dataframe\">\n",
       "  <thead>\n",
       "    <tr style=\"text-align: right;\">\n",
       "      <th></th>\n",
       "      <th>user_id</th>\n",
       "      <th>age</th>\n",
       "      <th>churn_date</th>\n",
       "      <th>city</th>\n",
       "      <th>first_name</th>\n",
       "      <th>last_name</th>\n",
       "      <th>reg_date</th>\n",
       "      <th>tariff</th>\n",
       "    </tr>\n",
       "  </thead>\n",
       "  <tbody>\n",
       "    <tr>\n",
       "      <th>0</th>\n",
       "      <td>1000</td>\n",
       "      <td>52</td>\n",
       "      <td>NaN</td>\n",
       "      <td>Краснодар</td>\n",
       "      <td>Рафаил</td>\n",
       "      <td>Верещагин</td>\n",
       "      <td>2018-05-25</td>\n",
       "      <td>ultra</td>\n",
       "    </tr>\n",
       "    <tr>\n",
       "      <th>1</th>\n",
       "      <td>1001</td>\n",
       "      <td>41</td>\n",
       "      <td>NaN</td>\n",
       "      <td>Москва</td>\n",
       "      <td>Иван</td>\n",
       "      <td>Ежов</td>\n",
       "      <td>2018-11-01</td>\n",
       "      <td>smart</td>\n",
       "    </tr>\n",
       "    <tr>\n",
       "      <th>2</th>\n",
       "      <td>1002</td>\n",
       "      <td>59</td>\n",
       "      <td>NaN</td>\n",
       "      <td>Стерлитамак</td>\n",
       "      <td>Евгений</td>\n",
       "      <td>Абрамович</td>\n",
       "      <td>2018-06-17</td>\n",
       "      <td>smart</td>\n",
       "    </tr>\n",
       "    <tr>\n",
       "      <th>3</th>\n",
       "      <td>1003</td>\n",
       "      <td>23</td>\n",
       "      <td>NaN</td>\n",
       "      <td>Москва</td>\n",
       "      <td>Белла</td>\n",
       "      <td>Белякова</td>\n",
       "      <td>2018-08-17</td>\n",
       "      <td>ultra</td>\n",
       "    </tr>\n",
       "    <tr>\n",
       "      <th>4</th>\n",
       "      <td>1004</td>\n",
       "      <td>68</td>\n",
       "      <td>NaN</td>\n",
       "      <td>Новокузнецк</td>\n",
       "      <td>Татьяна</td>\n",
       "      <td>Авдеенко</td>\n",
       "      <td>2018-05-14</td>\n",
       "      <td>ultra</td>\n",
       "    </tr>\n",
       "    <tr>\n",
       "      <th>5</th>\n",
       "      <td>1005</td>\n",
       "      <td>67</td>\n",
       "      <td>NaN</td>\n",
       "      <td>Набережные Челны</td>\n",
       "      <td>Афанасий</td>\n",
       "      <td>Горлов</td>\n",
       "      <td>2018-01-25</td>\n",
       "      <td>smart</td>\n",
       "    </tr>\n",
       "    <tr>\n",
       "      <th>6</th>\n",
       "      <td>1006</td>\n",
       "      <td>21</td>\n",
       "      <td>NaN</td>\n",
       "      <td>Ульяновск</td>\n",
       "      <td>Леонид</td>\n",
       "      <td>Ермолаев</td>\n",
       "      <td>2018-02-26</td>\n",
       "      <td>smart</td>\n",
       "    </tr>\n",
       "    <tr>\n",
       "      <th>7</th>\n",
       "      <td>1007</td>\n",
       "      <td>65</td>\n",
       "      <td>NaN</td>\n",
       "      <td>Москва</td>\n",
       "      <td>Юна</td>\n",
       "      <td>Березина</td>\n",
       "      <td>2018-04-19</td>\n",
       "      <td>smart</td>\n",
       "    </tr>\n",
       "    <tr>\n",
       "      <th>8</th>\n",
       "      <td>1008</td>\n",
       "      <td>63</td>\n",
       "      <td>NaN</td>\n",
       "      <td>Челябинск</td>\n",
       "      <td>Рустэм</td>\n",
       "      <td>Пономарёв</td>\n",
       "      <td>2018-12-19</td>\n",
       "      <td>smart</td>\n",
       "    </tr>\n",
       "    <tr>\n",
       "      <th>9</th>\n",
       "      <td>1009</td>\n",
       "      <td>24</td>\n",
       "      <td>NaN</td>\n",
       "      <td>Пермь</td>\n",
       "      <td>Василиса</td>\n",
       "      <td>Блинова</td>\n",
       "      <td>2018-03-22</td>\n",
       "      <td>smart</td>\n",
       "    </tr>\n",
       "  </tbody>\n",
       "</table>\n",
       "</div>"
      ],
      "text/plain": [
       "   user_id  age churn_date              city first_name  last_name  \\\n",
       "0     1000   52        NaN         Краснодар     Рафаил  Верещагин   \n",
       "1     1001   41        NaN            Москва       Иван       Ежов   \n",
       "2     1002   59        NaN       Стерлитамак    Евгений  Абрамович   \n",
       "3     1003   23        NaN            Москва      Белла   Белякова   \n",
       "4     1004   68        NaN       Новокузнецк    Татьяна   Авдеенко   \n",
       "5     1005   67        NaN  Набережные Челны   Афанасий     Горлов   \n",
       "6     1006   21        NaN         Ульяновск     Леонид   Ермолаев   \n",
       "7     1007   65        NaN            Москва        Юна   Березина   \n",
       "8     1008   63        NaN         Челябинск     Рустэм  Пономарёв   \n",
       "9     1009   24        NaN             Пермь   Василиса    Блинова   \n",
       "\n",
       "     reg_date tariff  \n",
       "0  2018-05-25  ultra  \n",
       "1  2018-11-01  smart  \n",
       "2  2018-06-17  smart  \n",
       "3  2018-08-17  ultra  \n",
       "4  2018-05-14  ultra  \n",
       "5  2018-01-25  smart  \n",
       "6  2018-02-26  smart  \n",
       "7  2018-04-19  smart  \n",
       "8  2018-12-19  smart  \n",
       "9  2018-03-22  smart  "
      ]
     },
     "execution_count": 918,
     "metadata": {},
     "output_type": "execute_result"
    }
   ],
   "source": [
    "df_users.head(10) # Посмотрим первые 10 строк таблицы"
   ]
  },
  {
   "cell_type": "code",
   "execution_count": 919,
   "id": "dc56e7bc",
   "metadata": {},
   "outputs": [
    {
     "name": "stdout",
     "output_type": "stream",
     "text": [
      "<class 'pandas.core.frame.DataFrame'>\n",
      "RangeIndex: 500 entries, 0 to 499\n",
      "Data columns (total 8 columns):\n",
      " #   Column      Non-Null Count  Dtype \n",
      "---  ------      --------------  ----- \n",
      " 0   user_id     500 non-null    int64 \n",
      " 1   age         500 non-null    int64 \n",
      " 2   churn_date  38 non-null     object\n",
      " 3   city        500 non-null    object\n",
      " 4   first_name  500 non-null    object\n",
      " 5   last_name   500 non-null    object\n",
      " 6   reg_date    500 non-null    object\n",
      " 7   tariff      500 non-null    object\n",
      "dtypes: int64(2), object(6)\n",
      "memory usage: 31.4+ KB\n"
     ]
    }
   ],
   "source": [
    "df_users.info() # Проверим основную информацию о данных"
   ]
  },
  {
   "cell_type": "code",
   "execution_count": 920,
   "id": "26349472",
   "metadata": {},
   "outputs": [
    {
     "data": {
      "text/html": [
       "<div>\n",
       "<style scoped>\n",
       "    .dataframe tbody tr th:only-of-type {\n",
       "        vertical-align: middle;\n",
       "    }\n",
       "\n",
       "    .dataframe tbody tr th {\n",
       "        vertical-align: top;\n",
       "    }\n",
       "\n",
       "    .dataframe thead th {\n",
       "        text-align: right;\n",
       "    }\n",
       "</style>\n",
       "<table border=\"1\" class=\"dataframe\">\n",
       "  <thead>\n",
       "    <tr style=\"text-align: right;\">\n",
       "      <th></th>\n",
       "      <th>user_id</th>\n",
       "      <th>age</th>\n",
       "    </tr>\n",
       "  </thead>\n",
       "  <tbody>\n",
       "    <tr>\n",
       "      <th>count</th>\n",
       "      <td>500.000000</td>\n",
       "      <td>500.00000</td>\n",
       "    </tr>\n",
       "    <tr>\n",
       "      <th>mean</th>\n",
       "      <td>1249.500000</td>\n",
       "      <td>46.58800</td>\n",
       "    </tr>\n",
       "    <tr>\n",
       "      <th>std</th>\n",
       "      <td>144.481833</td>\n",
       "      <td>16.66763</td>\n",
       "    </tr>\n",
       "    <tr>\n",
       "      <th>min</th>\n",
       "      <td>1000.000000</td>\n",
       "      <td>18.00000</td>\n",
       "    </tr>\n",
       "    <tr>\n",
       "      <th>25%</th>\n",
       "      <td>1124.750000</td>\n",
       "      <td>32.00000</td>\n",
       "    </tr>\n",
       "    <tr>\n",
       "      <th>50%</th>\n",
       "      <td>1249.500000</td>\n",
       "      <td>46.00000</td>\n",
       "    </tr>\n",
       "    <tr>\n",
       "      <th>75%</th>\n",
       "      <td>1374.250000</td>\n",
       "      <td>62.00000</td>\n",
       "    </tr>\n",
       "    <tr>\n",
       "      <th>max</th>\n",
       "      <td>1499.000000</td>\n",
       "      <td>75.00000</td>\n",
       "    </tr>\n",
       "  </tbody>\n",
       "</table>\n",
       "</div>"
      ],
      "text/plain": [
       "           user_id        age\n",
       "count   500.000000  500.00000\n",
       "mean   1249.500000   46.58800\n",
       "std     144.481833   16.66763\n",
       "min    1000.000000   18.00000\n",
       "25%    1124.750000   32.00000\n",
       "50%    1249.500000   46.00000\n",
       "75%    1374.250000   62.00000\n",
       "max    1499.000000   75.00000"
      ]
     },
     "execution_count": 920,
     "metadata": {},
     "output_type": "execute_result"
    }
   ],
   "source": [
    "df_users.describe()"
   ]
  },
  {
   "cell_type": "code",
   "execution_count": 921,
   "id": "bc374a73",
   "metadata": {},
   "outputs": [
    {
     "data": {
      "text/html": [
       "<div>\n",
       "<style scoped>\n",
       "    .dataframe tbody tr th:only-of-type {\n",
       "        vertical-align: middle;\n",
       "    }\n",
       "\n",
       "    .dataframe tbody tr th {\n",
       "        vertical-align: top;\n",
       "    }\n",
       "\n",
       "    .dataframe thead th {\n",
       "        text-align: right;\n",
       "    }\n",
       "</style>\n",
       "<table border=\"1\" class=\"dataframe\">\n",
       "  <thead>\n",
       "    <tr style=\"text-align: right;\">\n",
       "      <th></th>\n",
       "      <th>churn_date</th>\n",
       "      <th>city</th>\n",
       "      <th>first_name</th>\n",
       "      <th>last_name</th>\n",
       "      <th>reg_date</th>\n",
       "      <th>tariff</th>\n",
       "    </tr>\n",
       "  </thead>\n",
       "  <tbody>\n",
       "    <tr>\n",
       "      <th>count</th>\n",
       "      <td>38</td>\n",
       "      <td>500</td>\n",
       "      <td>500</td>\n",
       "      <td>500</td>\n",
       "      <td>500</td>\n",
       "      <td>500</td>\n",
       "    </tr>\n",
       "    <tr>\n",
       "      <th>unique</th>\n",
       "      <td>33</td>\n",
       "      <td>76</td>\n",
       "      <td>246</td>\n",
       "      <td>419</td>\n",
       "      <td>270</td>\n",
       "      <td>2</td>\n",
       "    </tr>\n",
       "    <tr>\n",
       "      <th>top</th>\n",
       "      <td>2018-12-03</td>\n",
       "      <td>Москва</td>\n",
       "      <td>Радим</td>\n",
       "      <td>Андреенко</td>\n",
       "      <td>2018-05-28</td>\n",
       "      <td>smart</td>\n",
       "    </tr>\n",
       "    <tr>\n",
       "      <th>freq</th>\n",
       "      <td>2</td>\n",
       "      <td>99</td>\n",
       "      <td>6</td>\n",
       "      <td>5</td>\n",
       "      <td>8</td>\n",
       "      <td>351</td>\n",
       "    </tr>\n",
       "  </tbody>\n",
       "</table>\n",
       "</div>"
      ],
      "text/plain": [
       "        churn_date    city first_name  last_name    reg_date tariff\n",
       "count           38     500        500        500         500    500\n",
       "unique          33      76        246        419         270      2\n",
       "top     2018-12-03  Москва      Радим  Андреенко  2018-05-28  smart\n",
       "freq             2      99          6          5           8    351"
      ]
     },
     "execution_count": 921,
     "metadata": {},
     "output_type": "execute_result"
    }
   ],
   "source": [
    "# Постомтрим основные метрики категориальных данных\n",
    "df_users.describe(include=['object'])"
   ]
  },
  {
   "cell_type": "code",
   "execution_count": 922,
   "id": "324fad12",
   "metadata": {},
   "outputs": [
    {
     "data": {
      "text/plain": [
       "churn_date    462\n",
       "user_id         0\n",
       "age             0\n",
       "city            0\n",
       "first_name      0\n",
       "last_name       0\n",
       "reg_date        0\n",
       "tariff          0\n",
       "dtype: int64"
      ]
     },
     "execution_count": 922,
     "metadata": {},
     "output_type": "execute_result"
    }
   ],
   "source": [
    "df_users.isna().sum().sort_values(ascending=False) # Проверим количество пропусков"
   ]
  },
  {
   "cell_type": "code",
   "execution_count": 923,
   "id": "0e6e3b55",
   "metadata": {},
   "outputs": [
    {
     "data": {
      "text/plain": [
       "0"
      ]
     },
     "execution_count": 923,
     "metadata": {},
     "output_type": "execute_result"
    }
   ],
   "source": [
    "df_users.duplicated().sum() # Проверим количество дубликатов"
   ]
  },
  {
   "cell_type": "markdown",
   "id": "e14d0592",
   "metadata": {},
   "source": [
    "- Таблица calls (информация о звонках)"
   ]
  },
  {
   "cell_type": "code",
   "execution_count": 924,
   "id": "07927917",
   "metadata": {},
   "outputs": [
    {
     "data": {
      "text/html": [
       "<div>\n",
       "<style scoped>\n",
       "    .dataframe tbody tr th:only-of-type {\n",
       "        vertical-align: middle;\n",
       "    }\n",
       "\n",
       "    .dataframe tbody tr th {\n",
       "        vertical-align: top;\n",
       "    }\n",
       "\n",
       "    .dataframe thead th {\n",
       "        text-align: right;\n",
       "    }\n",
       "</style>\n",
       "<table border=\"1\" class=\"dataframe\">\n",
       "  <thead>\n",
       "    <tr style=\"text-align: right;\">\n",
       "      <th></th>\n",
       "      <th>id</th>\n",
       "      <th>call_date</th>\n",
       "      <th>duration</th>\n",
       "      <th>user_id</th>\n",
       "    </tr>\n",
       "  </thead>\n",
       "  <tbody>\n",
       "    <tr>\n",
       "      <th>0</th>\n",
       "      <td>1000_0</td>\n",
       "      <td>2018-07-25</td>\n",
       "      <td>0.00</td>\n",
       "      <td>1000</td>\n",
       "    </tr>\n",
       "    <tr>\n",
       "      <th>1</th>\n",
       "      <td>1000_1</td>\n",
       "      <td>2018-08-17</td>\n",
       "      <td>0.00</td>\n",
       "      <td>1000</td>\n",
       "    </tr>\n",
       "    <tr>\n",
       "      <th>2</th>\n",
       "      <td>1000_2</td>\n",
       "      <td>2018-06-11</td>\n",
       "      <td>2.85</td>\n",
       "      <td>1000</td>\n",
       "    </tr>\n",
       "    <tr>\n",
       "      <th>3</th>\n",
       "      <td>1000_3</td>\n",
       "      <td>2018-09-21</td>\n",
       "      <td>13.80</td>\n",
       "      <td>1000</td>\n",
       "    </tr>\n",
       "    <tr>\n",
       "      <th>4</th>\n",
       "      <td>1000_4</td>\n",
       "      <td>2018-12-15</td>\n",
       "      <td>5.18</td>\n",
       "      <td>1000</td>\n",
       "    </tr>\n",
       "    <tr>\n",
       "      <th>5</th>\n",
       "      <td>1000_5</td>\n",
       "      <td>2018-11-02</td>\n",
       "      <td>0.00</td>\n",
       "      <td>1000</td>\n",
       "    </tr>\n",
       "    <tr>\n",
       "      <th>6</th>\n",
       "      <td>1000_6</td>\n",
       "      <td>2018-10-18</td>\n",
       "      <td>0.00</td>\n",
       "      <td>1000</td>\n",
       "    </tr>\n",
       "    <tr>\n",
       "      <th>7</th>\n",
       "      <td>1000_7</td>\n",
       "      <td>2018-08-22</td>\n",
       "      <td>18.31</td>\n",
       "      <td>1000</td>\n",
       "    </tr>\n",
       "    <tr>\n",
       "      <th>8</th>\n",
       "      <td>1000_8</td>\n",
       "      <td>2018-09-15</td>\n",
       "      <td>18.44</td>\n",
       "      <td>1000</td>\n",
       "    </tr>\n",
       "    <tr>\n",
       "      <th>9</th>\n",
       "      <td>1000_9</td>\n",
       "      <td>2018-08-15</td>\n",
       "      <td>0.00</td>\n",
       "      <td>1000</td>\n",
       "    </tr>\n",
       "  </tbody>\n",
       "</table>\n",
       "</div>"
      ],
      "text/plain": [
       "       id   call_date  duration  user_id\n",
       "0  1000_0  2018-07-25      0.00     1000\n",
       "1  1000_1  2018-08-17      0.00     1000\n",
       "2  1000_2  2018-06-11      2.85     1000\n",
       "3  1000_3  2018-09-21     13.80     1000\n",
       "4  1000_4  2018-12-15      5.18     1000\n",
       "5  1000_5  2018-11-02      0.00     1000\n",
       "6  1000_6  2018-10-18      0.00     1000\n",
       "7  1000_7  2018-08-22     18.31     1000\n",
       "8  1000_8  2018-09-15     18.44     1000\n",
       "9  1000_9  2018-08-15      0.00     1000"
      ]
     },
     "execution_count": 924,
     "metadata": {},
     "output_type": "execute_result"
    }
   ],
   "source": [
    "df_calls.head(10) # Посмотрим первые 10 строк таблицы"
   ]
  },
  {
   "cell_type": "code",
   "execution_count": 925,
   "id": "90bb63ee",
   "metadata": {},
   "outputs": [
    {
     "name": "stdout",
     "output_type": "stream",
     "text": [
      "<class 'pandas.core.frame.DataFrame'>\n",
      "RangeIndex: 202607 entries, 0 to 202606\n",
      "Data columns (total 4 columns):\n",
      " #   Column     Non-Null Count   Dtype  \n",
      "---  ------     --------------   -----  \n",
      " 0   id         202607 non-null  object \n",
      " 1   call_date  202607 non-null  object \n",
      " 2   duration   202607 non-null  float64\n",
      " 3   user_id    202607 non-null  int64  \n",
      "dtypes: float64(1), int64(1), object(2)\n",
      "memory usage: 6.2+ MB\n"
     ]
    }
   ],
   "source": [
    "df_calls.info() # Проверим основную информацию о данных"
   ]
  },
  {
   "cell_type": "code",
   "execution_count": 926,
   "id": "9fd158e7",
   "metadata": {},
   "outputs": [
    {
     "data": {
      "text/html": [
       "<div>\n",
       "<style scoped>\n",
       "    .dataframe tbody tr th:only-of-type {\n",
       "        vertical-align: middle;\n",
       "    }\n",
       "\n",
       "    .dataframe tbody tr th {\n",
       "        vertical-align: top;\n",
       "    }\n",
       "\n",
       "    .dataframe thead th {\n",
       "        text-align: right;\n",
       "    }\n",
       "</style>\n",
       "<table border=\"1\" class=\"dataframe\">\n",
       "  <thead>\n",
       "    <tr style=\"text-align: right;\">\n",
       "      <th></th>\n",
       "      <th>duration</th>\n",
       "      <th>user_id</th>\n",
       "    </tr>\n",
       "  </thead>\n",
       "  <tbody>\n",
       "    <tr>\n",
       "      <th>count</th>\n",
       "      <td>202607.000000</td>\n",
       "      <td>202607.000000</td>\n",
       "    </tr>\n",
       "    <tr>\n",
       "      <th>mean</th>\n",
       "      <td>6.755887</td>\n",
       "      <td>1253.940619</td>\n",
       "    </tr>\n",
       "    <tr>\n",
       "      <th>std</th>\n",
       "      <td>5.843365</td>\n",
       "      <td>144.722751</td>\n",
       "    </tr>\n",
       "    <tr>\n",
       "      <th>min</th>\n",
       "      <td>0.000000</td>\n",
       "      <td>1000.000000</td>\n",
       "    </tr>\n",
       "    <tr>\n",
       "      <th>25%</th>\n",
       "      <td>1.300000</td>\n",
       "      <td>1126.000000</td>\n",
       "    </tr>\n",
       "    <tr>\n",
       "      <th>50%</th>\n",
       "      <td>6.000000</td>\n",
       "      <td>1260.000000</td>\n",
       "    </tr>\n",
       "    <tr>\n",
       "      <th>75%</th>\n",
       "      <td>10.700000</td>\n",
       "      <td>1379.000000</td>\n",
       "    </tr>\n",
       "    <tr>\n",
       "      <th>max</th>\n",
       "      <td>38.000000</td>\n",
       "      <td>1499.000000</td>\n",
       "    </tr>\n",
       "  </tbody>\n",
       "</table>\n",
       "</div>"
      ],
      "text/plain": [
       "            duration        user_id\n",
       "count  202607.000000  202607.000000\n",
       "mean        6.755887    1253.940619\n",
       "std         5.843365     144.722751\n",
       "min         0.000000    1000.000000\n",
       "25%         1.300000    1126.000000\n",
       "50%         6.000000    1260.000000\n",
       "75%        10.700000    1379.000000\n",
       "max        38.000000    1499.000000"
      ]
     },
     "execution_count": 926,
     "metadata": {},
     "output_type": "execute_result"
    }
   ],
   "source": [
    "df_calls.describe()"
   ]
  },
  {
   "cell_type": "code",
   "execution_count": 927,
   "id": "12517984",
   "metadata": {},
   "outputs": [
    {
     "data": {
      "text/plain": [
       "id           0\n",
       "call_date    0\n",
       "duration     0\n",
       "user_id      0\n",
       "dtype: int64"
      ]
     },
     "execution_count": 927,
     "metadata": {},
     "output_type": "execute_result"
    }
   ],
   "source": [
    "df_calls.isna().sum().sort_values(ascending=False) # Проверим количество пропусков"
   ]
  },
  {
   "cell_type": "code",
   "execution_count": 928,
   "id": "761a32ba",
   "metadata": {},
   "outputs": [
    {
     "data": {
      "text/plain": [
       "0"
      ]
     },
     "execution_count": 928,
     "metadata": {},
     "output_type": "execute_result"
    }
   ],
   "source": [
    "df_calls.duplicated().sum() # Проверим количество дубликатов"
   ]
  },
  {
   "cell_type": "markdown",
   "id": "216a5e36",
   "metadata": {},
   "source": [
    " - Таблица messages (информация о сообщениях)"
   ]
  },
  {
   "cell_type": "code",
   "execution_count": 929,
   "id": "7c84b210",
   "metadata": {},
   "outputs": [
    {
     "data": {
      "text/html": [
       "<div>\n",
       "<style scoped>\n",
       "    .dataframe tbody tr th:only-of-type {\n",
       "        vertical-align: middle;\n",
       "    }\n",
       "\n",
       "    .dataframe tbody tr th {\n",
       "        vertical-align: top;\n",
       "    }\n",
       "\n",
       "    .dataframe thead th {\n",
       "        text-align: right;\n",
       "    }\n",
       "</style>\n",
       "<table border=\"1\" class=\"dataframe\">\n",
       "  <thead>\n",
       "    <tr style=\"text-align: right;\">\n",
       "      <th></th>\n",
       "      <th>id</th>\n",
       "      <th>message_date</th>\n",
       "      <th>user_id</th>\n",
       "    </tr>\n",
       "  </thead>\n",
       "  <tbody>\n",
       "    <tr>\n",
       "      <th>0</th>\n",
       "      <td>1000_0</td>\n",
       "      <td>2018-06-27</td>\n",
       "      <td>1000</td>\n",
       "    </tr>\n",
       "    <tr>\n",
       "      <th>1</th>\n",
       "      <td>1000_1</td>\n",
       "      <td>2018-10-08</td>\n",
       "      <td>1000</td>\n",
       "    </tr>\n",
       "    <tr>\n",
       "      <th>2</th>\n",
       "      <td>1000_2</td>\n",
       "      <td>2018-08-04</td>\n",
       "      <td>1000</td>\n",
       "    </tr>\n",
       "    <tr>\n",
       "      <th>3</th>\n",
       "      <td>1000_3</td>\n",
       "      <td>2018-06-16</td>\n",
       "      <td>1000</td>\n",
       "    </tr>\n",
       "    <tr>\n",
       "      <th>4</th>\n",
       "      <td>1000_4</td>\n",
       "      <td>2018-12-05</td>\n",
       "      <td>1000</td>\n",
       "    </tr>\n",
       "    <tr>\n",
       "      <th>5</th>\n",
       "      <td>1000_5</td>\n",
       "      <td>2018-06-20</td>\n",
       "      <td>1000</td>\n",
       "    </tr>\n",
       "    <tr>\n",
       "      <th>6</th>\n",
       "      <td>1000_6</td>\n",
       "      <td>2018-11-19</td>\n",
       "      <td>1000</td>\n",
       "    </tr>\n",
       "    <tr>\n",
       "      <th>7</th>\n",
       "      <td>1000_7</td>\n",
       "      <td>2018-10-29</td>\n",
       "      <td>1000</td>\n",
       "    </tr>\n",
       "    <tr>\n",
       "      <th>8</th>\n",
       "      <td>1000_8</td>\n",
       "      <td>2018-06-25</td>\n",
       "      <td>1000</td>\n",
       "    </tr>\n",
       "    <tr>\n",
       "      <th>9</th>\n",
       "      <td>1000_9</td>\n",
       "      <td>2018-12-18</td>\n",
       "      <td>1000</td>\n",
       "    </tr>\n",
       "  </tbody>\n",
       "</table>\n",
       "</div>"
      ],
      "text/plain": [
       "       id message_date  user_id\n",
       "0  1000_0   2018-06-27     1000\n",
       "1  1000_1   2018-10-08     1000\n",
       "2  1000_2   2018-08-04     1000\n",
       "3  1000_3   2018-06-16     1000\n",
       "4  1000_4   2018-12-05     1000\n",
       "5  1000_5   2018-06-20     1000\n",
       "6  1000_6   2018-11-19     1000\n",
       "7  1000_7   2018-10-29     1000\n",
       "8  1000_8   2018-06-25     1000\n",
       "9  1000_9   2018-12-18     1000"
      ]
     },
     "execution_count": 929,
     "metadata": {},
     "output_type": "execute_result"
    }
   ],
   "source": [
    "df_messages.head(10) # Посмотрим первые 10 строк таблицы"
   ]
  },
  {
   "cell_type": "code",
   "execution_count": 930,
   "id": "f74c6430",
   "metadata": {},
   "outputs": [
    {
     "name": "stdout",
     "output_type": "stream",
     "text": [
      "<class 'pandas.core.frame.DataFrame'>\n",
      "RangeIndex: 123036 entries, 0 to 123035\n",
      "Data columns (total 3 columns):\n",
      " #   Column        Non-Null Count   Dtype \n",
      "---  ------        --------------   ----- \n",
      " 0   id            123036 non-null  object\n",
      " 1   message_date  123036 non-null  object\n",
      " 2   user_id       123036 non-null  int64 \n",
      "dtypes: int64(1), object(2)\n",
      "memory usage: 2.8+ MB\n"
     ]
    }
   ],
   "source": [
    "df_messages.info() # Проверим основную информацию о данных"
   ]
  },
  {
   "cell_type": "code",
   "execution_count": 931,
   "id": "917412a6",
   "metadata": {},
   "outputs": [
    {
     "data": {
      "text/html": [
       "<div>\n",
       "<style scoped>\n",
       "    .dataframe tbody tr th:only-of-type {\n",
       "        vertical-align: middle;\n",
       "    }\n",
       "\n",
       "    .dataframe tbody tr th {\n",
       "        vertical-align: top;\n",
       "    }\n",
       "\n",
       "    .dataframe thead th {\n",
       "        text-align: right;\n",
       "    }\n",
       "</style>\n",
       "<table border=\"1\" class=\"dataframe\">\n",
       "  <thead>\n",
       "    <tr style=\"text-align: right;\">\n",
       "      <th></th>\n",
       "      <th>user_id</th>\n",
       "    </tr>\n",
       "  </thead>\n",
       "  <tbody>\n",
       "    <tr>\n",
       "      <th>count</th>\n",
       "      <td>123036.000000</td>\n",
       "    </tr>\n",
       "    <tr>\n",
       "      <th>mean</th>\n",
       "      <td>1256.989410</td>\n",
       "    </tr>\n",
       "    <tr>\n",
       "      <th>std</th>\n",
       "      <td>143.523967</td>\n",
       "    </tr>\n",
       "    <tr>\n",
       "      <th>min</th>\n",
       "      <td>1000.000000</td>\n",
       "    </tr>\n",
       "    <tr>\n",
       "      <th>25%</th>\n",
       "      <td>1134.000000</td>\n",
       "    </tr>\n",
       "    <tr>\n",
       "      <th>50%</th>\n",
       "      <td>1271.000000</td>\n",
       "    </tr>\n",
       "    <tr>\n",
       "      <th>75%</th>\n",
       "      <td>1381.000000</td>\n",
       "    </tr>\n",
       "    <tr>\n",
       "      <th>max</th>\n",
       "      <td>1499.000000</td>\n",
       "    </tr>\n",
       "  </tbody>\n",
       "</table>\n",
       "</div>"
      ],
      "text/plain": [
       "             user_id\n",
       "count  123036.000000\n",
       "mean     1256.989410\n",
       "std       143.523967\n",
       "min      1000.000000\n",
       "25%      1134.000000\n",
       "50%      1271.000000\n",
       "75%      1381.000000\n",
       "max      1499.000000"
      ]
     },
     "execution_count": 931,
     "metadata": {},
     "output_type": "execute_result"
    }
   ],
   "source": [
    "df_messages.describe()"
   ]
  },
  {
   "cell_type": "code",
   "execution_count": 932,
   "id": "99eb3a24",
   "metadata": {},
   "outputs": [
    {
     "data": {
      "text/plain": [
       "id              0\n",
       "message_date    0\n",
       "user_id         0\n",
       "dtype: int64"
      ]
     },
     "execution_count": 932,
     "metadata": {},
     "output_type": "execute_result"
    }
   ],
   "source": [
    "df_messages.isna().sum().sort_values(ascending=False) # Проверим количество пропусков"
   ]
  },
  {
   "cell_type": "code",
   "execution_count": 933,
   "id": "665ea2d2",
   "metadata": {},
   "outputs": [
    {
     "data": {
      "text/plain": [
       "0"
      ]
     },
     "execution_count": 933,
     "metadata": {},
     "output_type": "execute_result"
    }
   ],
   "source": [
    "df_messages.duplicated().sum() # Проверим количество дубликатов"
   ]
  },
  {
   "cell_type": "code",
   "execution_count": 934,
   "id": "a6232f02",
   "metadata": {},
   "outputs": [],
   "source": [
    "df_messages_per_day_user = df_messages.groupby(['user_id', 'message_date'], as_index=False)\\\n",
    "                                      .agg({'id': 'count'})\\\n",
    "                                      .rename(columns={'id': 'quantity'})"
   ]
  },
  {
   "cell_type": "code",
   "execution_count": 935,
   "id": "4e6f16f2",
   "metadata": {},
   "outputs": [
    {
     "data": {
      "image/png": "[encoded data removed]",
      "text/plain": [
       "<Figure size 576x360 with 1 Axes>"
      ]
     },
     "metadata": {},
     "output_type": "display_data"
    }
   ],
   "source": [
    "df_messages_per_day_user.quantity.hist();"
   ]
  },
  {
   "cell_type": "markdown",
   "id": "f43a317c",
   "metadata": {},
   "source": [
    "На графике видно, что в основном пользователи отправляют до 15 сообщений в день, но есть выбросы"
   ]
  },
  {
   "cell_type": "code",
   "execution_count": 936,
   "id": "50fbc99b",
   "metadata": {},
   "outputs": [
    {
     "data": {
      "text/html": [
       "<div>\n",
       "<style scoped>\n",
       "    .dataframe tbody tr th:only-of-type {\n",
       "        vertical-align: middle;\n",
       "    }\n",
       "\n",
       "    .dataframe tbody tr th {\n",
       "        vertical-align: top;\n",
       "    }\n",
       "\n",
       "    .dataframe thead th {\n",
       "        text-align: right;\n",
       "    }\n",
       "</style>\n",
       "<table border=\"1\" class=\"dataframe\">\n",
       "  <thead>\n",
       "    <tr style=\"text-align: right;\">\n",
       "      <th></th>\n",
       "      <th>user_id</th>\n",
       "      <th>message_date</th>\n",
       "      <th>quantity</th>\n",
       "    </tr>\n",
       "  </thead>\n",
       "  <tbody>\n",
       "    <tr>\n",
       "      <th>13996</th>\n",
       "      <td>1140</td>\n",
       "      <td>2018-12-31</td>\n",
       "      <td>31</td>\n",
       "    </tr>\n",
       "    <tr>\n",
       "      <th>34336</th>\n",
       "      <td>1336</td>\n",
       "      <td>2018-12-31</td>\n",
       "      <td>20</td>\n",
       "    </tr>\n",
       "    <tr>\n",
       "      <th>46731</th>\n",
       "      <td>1445</td>\n",
       "      <td>2018-12-29</td>\n",
       "      <td>32</td>\n",
       "    </tr>\n",
       "    <tr>\n",
       "      <th>46732</th>\n",
       "      <td>1445</td>\n",
       "      <td>2018-12-30</td>\n",
       "      <td>24</td>\n",
       "    </tr>\n",
       "    <tr>\n",
       "      <th>46733</th>\n",
       "      <td>1445</td>\n",
       "      <td>2018-12-31</td>\n",
       "      <td>19</td>\n",
       "    </tr>\n",
       "    <tr>\n",
       "      <th>51307</th>\n",
       "      <td>1485</td>\n",
       "      <td>2018-12-29</td>\n",
       "      <td>42</td>\n",
       "    </tr>\n",
       "    <tr>\n",
       "      <th>51308</th>\n",
       "      <td>1485</td>\n",
       "      <td>2018-12-30</td>\n",
       "      <td>59</td>\n",
       "    </tr>\n",
       "    <tr>\n",
       "      <th>51309</th>\n",
       "      <td>1485</td>\n",
       "      <td>2018-12-31</td>\n",
       "      <td>54</td>\n",
       "    </tr>\n",
       "  </tbody>\n",
       "</table>\n",
       "</div>"
      ],
      "text/plain": [
       "       user_id message_date  quantity\n",
       "13996     1140   2018-12-31        31\n",
       "34336     1336   2018-12-31        20\n",
       "46731     1445   2018-12-29        32\n",
       "46732     1445   2018-12-30        24\n",
       "46733     1445   2018-12-31        19\n",
       "51307     1485   2018-12-29        42\n",
       "51308     1485   2018-12-30        59\n",
       "51309     1485   2018-12-31        54"
      ]
     },
     "execution_count": 936,
     "metadata": {},
     "output_type": "execute_result"
    }
   ],
   "source": [
    "df_messages_per_day_user.query('quantity > 15')"
   ]
  },
  {
   "cell_type": "markdown",
   "id": "235d350f",
   "metadata": {},
   "source": [
    "- Таблица internet (информация об интернет-сессиях)"
   ]
  },
  {
   "cell_type": "code",
   "execution_count": 937,
   "id": "d7673d89",
   "metadata": {},
   "outputs": [
    {
     "data": {
      "text/html": [
       "<div>\n",
       "<style scoped>\n",
       "    .dataframe tbody tr th:only-of-type {\n",
       "        vertical-align: middle;\n",
       "    }\n",
       "\n",
       "    .dataframe tbody tr th {\n",
       "        vertical-align: top;\n",
       "    }\n",
       "\n",
       "    .dataframe thead th {\n",
       "        text-align: right;\n",
       "    }\n",
       "</style>\n",
       "<table border=\"1\" class=\"dataframe\">\n",
       "  <thead>\n",
       "    <tr style=\"text-align: right;\">\n",
       "      <th></th>\n",
       "      <th>id</th>\n",
       "      <th>mb_used</th>\n",
       "      <th>session_date</th>\n",
       "      <th>user_id</th>\n",
       "    </tr>\n",
       "  </thead>\n",
       "  <tbody>\n",
       "    <tr>\n",
       "      <th>0</th>\n",
       "      <td>1000_0</td>\n",
       "      <td>112.95</td>\n",
       "      <td>2018-11-25</td>\n",
       "      <td>1000</td>\n",
       "    </tr>\n",
       "    <tr>\n",
       "      <th>1</th>\n",
       "      <td>1000_1</td>\n",
       "      <td>1052.81</td>\n",
       "      <td>2018-09-07</td>\n",
       "      <td>1000</td>\n",
       "    </tr>\n",
       "    <tr>\n",
       "      <th>2</th>\n",
       "      <td>1000_2</td>\n",
       "      <td>1197.26</td>\n",
       "      <td>2018-06-25</td>\n",
       "      <td>1000</td>\n",
       "    </tr>\n",
       "    <tr>\n",
       "      <th>3</th>\n",
       "      <td>1000_3</td>\n",
       "      <td>550.27</td>\n",
       "      <td>2018-08-22</td>\n",
       "      <td>1000</td>\n",
       "    </tr>\n",
       "    <tr>\n",
       "      <th>4</th>\n",
       "      <td>1000_4</td>\n",
       "      <td>302.56</td>\n",
       "      <td>2018-09-24</td>\n",
       "      <td>1000</td>\n",
       "    </tr>\n",
       "    <tr>\n",
       "      <th>5</th>\n",
       "      <td>1000_5</td>\n",
       "      <td>399.97</td>\n",
       "      <td>2018-10-02</td>\n",
       "      <td>1000</td>\n",
       "    </tr>\n",
       "    <tr>\n",
       "      <th>6</th>\n",
       "      <td>1000_6</td>\n",
       "      <td>540.08</td>\n",
       "      <td>2018-09-07</td>\n",
       "      <td>1000</td>\n",
       "    </tr>\n",
       "    <tr>\n",
       "      <th>7</th>\n",
       "      <td>1000_7</td>\n",
       "      <td>415.70</td>\n",
       "      <td>2018-07-11</td>\n",
       "      <td>1000</td>\n",
       "    </tr>\n",
       "    <tr>\n",
       "      <th>8</th>\n",
       "      <td>1000_8</td>\n",
       "      <td>505.40</td>\n",
       "      <td>2018-10-08</td>\n",
       "      <td>1000</td>\n",
       "    </tr>\n",
       "    <tr>\n",
       "      <th>9</th>\n",
       "      <td>1000_9</td>\n",
       "      <td>345.54</td>\n",
       "      <td>2018-09-03</td>\n",
       "      <td>1000</td>\n",
       "    </tr>\n",
       "  </tbody>\n",
       "</table>\n",
       "</div>"
      ],
      "text/plain": [
       "       id  mb_used session_date  user_id\n",
       "0  1000_0   112.95   2018-11-25     1000\n",
       "1  1000_1  1052.81   2018-09-07     1000\n",
       "2  1000_2  1197.26   2018-06-25     1000\n",
       "3  1000_3   550.27   2018-08-22     1000\n",
       "4  1000_4   302.56   2018-09-24     1000\n",
       "5  1000_5   399.97   2018-10-02     1000\n",
       "6  1000_6   540.08   2018-09-07     1000\n",
       "7  1000_7   415.70   2018-07-11     1000\n",
       "8  1000_8   505.40   2018-10-08     1000\n",
       "9  1000_9   345.54   2018-09-03     1000"
      ]
     },
     "execution_count": 937,
     "metadata": {},
     "output_type": "execute_result"
    }
   ],
   "source": [
    "df_internet.head(10) # Посмотрим первые 10 строк таблицы"
   ]
  },
  {
   "cell_type": "code",
   "execution_count": 938,
   "id": "1696d345",
   "metadata": {},
   "outputs": [
    {
     "name": "stdout",
     "output_type": "stream",
     "text": [
      "<class 'pandas.core.frame.DataFrame'>\n",
      "RangeIndex: 149396 entries, 0 to 149395\n",
      "Data columns (total 4 columns):\n",
      " #   Column        Non-Null Count   Dtype  \n",
      "---  ------        --------------   -----  \n",
      " 0   id            149396 non-null  object \n",
      " 1   mb_used       149396 non-null  float64\n",
      " 2   session_date  149396 non-null  object \n",
      " 3   user_id       149396 non-null  int64  \n",
      "dtypes: float64(1), int64(1), object(2)\n",
      "memory usage: 4.6+ MB\n"
     ]
    }
   ],
   "source": [
    "df_internet.info() # Проверим основную информацию о данных"
   ]
  },
  {
   "cell_type": "code",
   "execution_count": 939,
   "id": "344c426f",
   "metadata": {},
   "outputs": [
    {
     "data": {
      "text/html": [
       "<div>\n",
       "<style scoped>\n",
       "    .dataframe tbody tr th:only-of-type {\n",
       "        vertical-align: middle;\n",
       "    }\n",
       "\n",
       "    .dataframe tbody tr th {\n",
       "        vertical-align: top;\n",
       "    }\n",
       "\n",
       "    .dataframe thead th {\n",
       "        text-align: right;\n",
       "    }\n",
       "</style>\n",
       "<table border=\"1\" class=\"dataframe\">\n",
       "  <thead>\n",
       "    <tr style=\"text-align: right;\">\n",
       "      <th></th>\n",
       "      <th>mb_used</th>\n",
       "      <th>user_id</th>\n",
       "    </tr>\n",
       "  </thead>\n",
       "  <tbody>\n",
       "    <tr>\n",
       "      <th>count</th>\n",
       "      <td>149396.000000</td>\n",
       "      <td>149396.000000</td>\n",
       "    </tr>\n",
       "    <tr>\n",
       "      <th>mean</th>\n",
       "      <td>370.192426</td>\n",
       "      <td>1252.099842</td>\n",
       "    </tr>\n",
       "    <tr>\n",
       "      <th>std</th>\n",
       "      <td>278.300951</td>\n",
       "      <td>144.050823</td>\n",
       "    </tr>\n",
       "    <tr>\n",
       "      <th>min</th>\n",
       "      <td>0.000000</td>\n",
       "      <td>1000.000000</td>\n",
       "    </tr>\n",
       "    <tr>\n",
       "      <th>25%</th>\n",
       "      <td>138.187500</td>\n",
       "      <td>1130.000000</td>\n",
       "    </tr>\n",
       "    <tr>\n",
       "      <th>50%</th>\n",
       "      <td>348.015000</td>\n",
       "      <td>1251.000000</td>\n",
       "    </tr>\n",
       "    <tr>\n",
       "      <th>75%</th>\n",
       "      <td>559.552500</td>\n",
       "      <td>1380.000000</td>\n",
       "    </tr>\n",
       "    <tr>\n",
       "      <th>max</th>\n",
       "      <td>1724.830000</td>\n",
       "      <td>1499.000000</td>\n",
       "    </tr>\n",
       "  </tbody>\n",
       "</table>\n",
       "</div>"
      ],
      "text/plain": [
       "             mb_used        user_id\n",
       "count  149396.000000  149396.000000\n",
       "mean      370.192426    1252.099842\n",
       "std       278.300951     144.050823\n",
       "min         0.000000    1000.000000\n",
       "25%       138.187500    1130.000000\n",
       "50%       348.015000    1251.000000\n",
       "75%       559.552500    1380.000000\n",
       "max      1724.830000    1499.000000"
      ]
     },
     "execution_count": 939,
     "metadata": {},
     "output_type": "execute_result"
    }
   ],
   "source": [
    "df_internet.describe()"
   ]
  },
  {
   "cell_type": "code",
   "execution_count": 940,
   "id": "4d035550",
   "metadata": {},
   "outputs": [
    {
     "data": {
      "text/plain": [
       "id              0\n",
       "mb_used         0\n",
       "session_date    0\n",
       "user_id         0\n",
       "dtype: int64"
      ]
     },
     "execution_count": 940,
     "metadata": {},
     "output_type": "execute_result"
    }
   ],
   "source": [
    "df_internet.isna().sum().sort_values(ascending=False) # Проверим количество пропусков"
   ]
  },
  {
   "cell_type": "code",
   "execution_count": 941,
   "id": "95b31c6a",
   "metadata": {},
   "outputs": [
    {
     "data": {
      "text/plain": [
       "0"
      ]
     },
     "execution_count": 941,
     "metadata": {},
     "output_type": "execute_result"
    }
   ],
   "source": [
    "df_internet.duplicated().sum() # Проверим количество дубликатов"
   ]
  },
  {
   "cell_type": "markdown",
   "id": "fa97ea9a",
   "metadata": {},
   "source": [
    "- Таблица tariffs (информация о тарифах)"
   ]
  },
  {
   "cell_type": "code",
   "execution_count": 942,
   "id": "41f8e9e4",
   "metadata": {},
   "outputs": [
    {
     "data": {
      "text/html": [
       "<div>\n",
       "<style scoped>\n",
       "    .dataframe tbody tr th:only-of-type {\n",
       "        vertical-align: middle;\n",
       "    }\n",
       "\n",
       "    .dataframe tbody tr th {\n",
       "        vertical-align: top;\n",
       "    }\n",
       "\n",
       "    .dataframe thead th {\n",
       "        text-align: right;\n",
       "    }\n",
       "</style>\n",
       "<table border=\"1\" class=\"dataframe\">\n",
       "  <thead>\n",
       "    <tr style=\"text-align: right;\">\n",
       "      <th></th>\n",
       "      <th>messages_included</th>\n",
       "      <th>mb_per_month_included</th>\n",
       "      <th>minutes_included</th>\n",
       "      <th>rub_monthly_fee</th>\n",
       "      <th>rub_per_gb</th>\n",
       "      <th>rub_per_message</th>\n",
       "      <th>rub_per_minute</th>\n",
       "      <th>tariff_name</th>\n",
       "    </tr>\n",
       "  </thead>\n",
       "  <tbody>\n",
       "    <tr>\n",
       "      <th>0</th>\n",
       "      <td>50</td>\n",
       "      <td>15360</td>\n",
       "      <td>500</td>\n",
       "      <td>550</td>\n",
       "      <td>200</td>\n",
       "      <td>3</td>\n",
       "      <td>3</td>\n",
       "      <td>smart</td>\n",
       "    </tr>\n",
       "    <tr>\n",
       "      <th>1</th>\n",
       "      <td>1000</td>\n",
       "      <td>30720</td>\n",
       "      <td>3000</td>\n",
       "      <td>1950</td>\n",
       "      <td>150</td>\n",
       "      <td>1</td>\n",
       "      <td>1</td>\n",
       "      <td>ultra</td>\n",
       "    </tr>\n",
       "  </tbody>\n",
       "</table>\n",
       "</div>"
      ],
      "text/plain": [
       "   messages_included  mb_per_month_included  minutes_included  \\\n",
       "0                 50                  15360               500   \n",
       "1               1000                  30720              3000   \n",
       "\n",
       "   rub_monthly_fee  rub_per_gb  rub_per_message  rub_per_minute tariff_name  \n",
       "0              550         200                3               3       smart  \n",
       "1             1950         150                1               1       ultra  "
      ]
     },
     "execution_count": 942,
     "metadata": {},
     "output_type": "execute_result"
    }
   ],
   "source": [
    "df_tariffs.head(10) # Посмотрим первые 10 строк таблицы"
   ]
  },
  {
   "cell_type": "code",
   "execution_count": 943,
   "id": "d52470fa",
   "metadata": {},
   "outputs": [
    {
     "name": "stdout",
     "output_type": "stream",
     "text": [
      "<class 'pandas.core.frame.DataFrame'>\n",
      "RangeIndex: 2 entries, 0 to 1\n",
      "Data columns (total 8 columns):\n",
      " #   Column                 Non-Null Count  Dtype \n",
      "---  ------                 --------------  ----- \n",
      " 0   messages_included      2 non-null      int64 \n",
      " 1   mb_per_month_included  2 non-null      int64 \n",
      " 2   minutes_included       2 non-null      int64 \n",
      " 3   rub_monthly_fee        2 non-null      int64 \n",
      " 4   rub_per_gb             2 non-null      int64 \n",
      " 5   rub_per_message        2 non-null      int64 \n",
      " 6   rub_per_minute         2 non-null      int64 \n",
      " 7   tariff_name            2 non-null      object\n",
      "dtypes: int64(7), object(1)\n",
      "memory usage: 256.0+ bytes\n"
     ]
    }
   ],
   "source": [
    "df_tariffs.info() # Проверим основную информацию о данных"
   ]
  },
  {
   "cell_type": "code",
   "execution_count": 944,
   "id": "c5173324",
   "metadata": {},
   "outputs": [
    {
     "data": {
      "text/html": [
       "<div>\n",
       "<style scoped>\n",
       "    .dataframe tbody tr th:only-of-type {\n",
       "        vertical-align: middle;\n",
       "    }\n",
       "\n",
       "    .dataframe tbody tr th {\n",
       "        vertical-align: top;\n",
       "    }\n",
       "\n",
       "    .dataframe thead th {\n",
       "        text-align: right;\n",
       "    }\n",
       "</style>\n",
       "<table border=\"1\" class=\"dataframe\">\n",
       "  <thead>\n",
       "    <tr style=\"text-align: right;\">\n",
       "      <th></th>\n",
       "      <th>messages_included</th>\n",
       "      <th>mb_per_month_included</th>\n",
       "      <th>minutes_included</th>\n",
       "      <th>rub_monthly_fee</th>\n",
       "      <th>rub_per_gb</th>\n",
       "      <th>rub_per_message</th>\n",
       "      <th>rub_per_minute</th>\n",
       "    </tr>\n",
       "  </thead>\n",
       "  <tbody>\n",
       "    <tr>\n",
       "      <th>count</th>\n",
       "      <td>2.000000</td>\n",
       "      <td>2.000000</td>\n",
       "      <td>2.000000</td>\n",
       "      <td>2.000000</td>\n",
       "      <td>2.000000</td>\n",
       "      <td>2.000000</td>\n",
       "      <td>2.000000</td>\n",
       "    </tr>\n",
       "    <tr>\n",
       "      <th>mean</th>\n",
       "      <td>525.000000</td>\n",
       "      <td>23040.000000</td>\n",
       "      <td>1750.000000</td>\n",
       "      <td>1250.000000</td>\n",
       "      <td>175.000000</td>\n",
       "      <td>2.000000</td>\n",
       "      <td>2.000000</td>\n",
       "    </tr>\n",
       "    <tr>\n",
       "      <th>std</th>\n",
       "      <td>671.751442</td>\n",
       "      <td>10861.160159</td>\n",
       "      <td>1767.766953</td>\n",
       "      <td>989.949494</td>\n",
       "      <td>35.355339</td>\n",
       "      <td>1.414214</td>\n",
       "      <td>1.414214</td>\n",
       "    </tr>\n",
       "    <tr>\n",
       "      <th>min</th>\n",
       "      <td>50.000000</td>\n",
       "      <td>15360.000000</td>\n",
       "      <td>500.000000</td>\n",
       "      <td>550.000000</td>\n",
       "      <td>150.000000</td>\n",
       "      <td>1.000000</td>\n",
       "      <td>1.000000</td>\n",
       "    </tr>\n",
       "    <tr>\n",
       "      <th>25%</th>\n",
       "      <td>287.500000</td>\n",
       "      <td>19200.000000</td>\n",
       "      <td>1125.000000</td>\n",
       "      <td>900.000000</td>\n",
       "      <td>162.500000</td>\n",
       "      <td>1.500000</td>\n",
       "      <td>1.500000</td>\n",
       "    </tr>\n",
       "    <tr>\n",
       "      <th>50%</th>\n",
       "      <td>525.000000</td>\n",
       "      <td>23040.000000</td>\n",
       "      <td>1750.000000</td>\n",
       "      <td>1250.000000</td>\n",
       "      <td>175.000000</td>\n",
       "      <td>2.000000</td>\n",
       "      <td>2.000000</td>\n",
       "    </tr>\n",
       "    <tr>\n",
       "      <th>75%</th>\n",
       "      <td>762.500000</td>\n",
       "      <td>26880.000000</td>\n",
       "      <td>2375.000000</td>\n",
       "      <td>1600.000000</td>\n",
       "      <td>187.500000</td>\n",
       "      <td>2.500000</td>\n",
       "      <td>2.500000</td>\n",
       "    </tr>\n",
       "    <tr>\n",
       "      <th>max</th>\n",
       "      <td>1000.000000</td>\n",
       "      <td>30720.000000</td>\n",
       "      <td>3000.000000</td>\n",
       "      <td>1950.000000</td>\n",
       "      <td>200.000000</td>\n",
       "      <td>3.000000</td>\n",
       "      <td>3.000000</td>\n",
       "    </tr>\n",
       "  </tbody>\n",
       "</table>\n",
       "</div>"
      ],
      "text/plain": [
       "       messages_included  mb_per_month_included  minutes_included  \\\n",
       "count           2.000000               2.000000          2.000000   \n",
       "mean          525.000000           23040.000000       1750.000000   \n",
       "std           671.751442           10861.160159       1767.766953   \n",
       "min            50.000000           15360.000000        500.000000   \n",
       "25%           287.500000           19200.000000       1125.000000   \n",
       "50%           525.000000           23040.000000       1750.000000   \n",
       "75%           762.500000           26880.000000       2375.000000   \n",
       "max          1000.000000           30720.000000       3000.000000   \n",
       "\n",
       "       rub_monthly_fee  rub_per_gb  rub_per_message  rub_per_minute  \n",
       "count         2.000000    2.000000         2.000000        2.000000  \n",
       "mean       1250.000000  175.000000         2.000000        2.000000  \n",
       "std         989.949494   35.355339         1.414214        1.414214  \n",
       "min         550.000000  150.000000         1.000000        1.000000  \n",
       "25%         900.000000  162.500000         1.500000        1.500000  \n",
       "50%        1250.000000  175.000000         2.000000        2.000000  \n",
       "75%        1600.000000  187.500000         2.500000        2.500000  \n",
       "max        1950.000000  200.000000         3.000000        3.000000  "
      ]
     },
     "execution_count": 944,
     "metadata": {},
     "output_type": "execute_result"
    }
   ],
   "source": [
    "df_tariffs.describe()"
   ]
  },
  {
   "cell_type": "code",
   "execution_count": 945,
   "id": "8b0e3d19",
   "metadata": {},
   "outputs": [
    {
     "data": {
      "text/plain": [
       "messages_included        0\n",
       "mb_per_month_included    0\n",
       "minutes_included         0\n",
       "rub_monthly_fee          0\n",
       "rub_per_gb               0\n",
       "rub_per_message          0\n",
       "rub_per_minute           0\n",
       "tariff_name              0\n",
       "dtype: int64"
      ]
     },
     "execution_count": 945,
     "metadata": {},
     "output_type": "execute_result"
    }
   ],
   "source": [
    "df_tariffs.isna().sum().sort_values(ascending=False) # Проверим количество пропусков"
   ]
  },
  {
   "cell_type": "code",
   "execution_count": 946,
   "id": "bf1d885a",
   "metadata": {},
   "outputs": [
    {
     "data": {
      "text/plain": [
       "0"
      ]
     },
     "execution_count": 946,
     "metadata": {},
     "output_type": "execute_result"
    }
   ],
   "source": [
    "df_tariffs.duplicated().sum() # Проверим количество дубликатов"
   ]
  },
  {
   "cell_type": "markdown",
   "id": "b8cc1695",
   "metadata": {},
   "source": [
    "### Вывод\n",
    "Ошибок в данных не найдено, дубликатов не обнаружено, необходимо привести к соответствующему виду дату и время\n"
   ]
  },
  {
   "cell_type": "markdown",
   "id": "f68e55cd",
   "metadata": {},
   "source": [
    "### 2.1. Подготовка данных"
   ]
  },
  {
   "cell_type": "code",
   "execution_count": 947,
   "id": "ba684823",
   "metadata": {},
   "outputs": [],
   "source": [
    "# Приведем даты к соответствующему типу\n",
    "df_users['reg_date'] = pd.to_datetime(df_users['reg_date'], format='%Y-%m-%d')\n",
    "df_users['churn_date'] = pd.to_datetime(df_users['churn_date'], format='%Y-%m-%d')\n",
    "df_calls['call_date'] = pd.to_datetime(df_calls['call_date'], format='%Y-%m-%d')\n",
    "df_messages['message_date'] = pd.to_datetime(df_messages['message_date'], format='%Y-%m-%d')\n",
    "df_internet['session_date'] = pd.to_datetime(df_internet['session_date'], format='%Y-%m-%d')"
   ]
  },
  {
   "cell_type": "markdown",
   "id": "163665d9",
   "metadata": {},
   "source": [
    "### 2.2. Поиск ошибок.\n",
    "Рассмотрим более детально данные из каждой таблицы. Таблицы будем смотреть по очереди в том же порядке."
   ]
  },
  {
   "cell_type": "code",
   "execution_count": 948,
   "id": "a61c7350",
   "metadata": {},
   "outputs": [],
   "source": [
    "# Посмотрим \"время жизни\" пользователей, среди тех, кто уже прекратил пользоваться тарифом\n",
    "df_users['lifetime'] = (df_users['churn_date'] - df_users['reg_date']).dt.days"
   ]
  },
  {
   "cell_type": "code",
   "execution_count": 949,
   "id": "da75f2f8",
   "metadata": {},
   "outputs": [
    {
     "data": {
      "text/plain": [
       "<AxesSubplot:>"
      ]
     },
     "execution_count": 949,
     "metadata": {},
     "output_type": "execute_result"
    },
    {
     "data": {
      "image/png": "[encoded data removed]",
      "text/plain": [
       "<Figure size 576x360 with 1 Axes>"
      ]
     },
     "metadata": {},
     "output_type": "display_data"
    }
   ],
   "source": [
    "df_users['lifetime'].hist()"
   ]
  },
  {
   "cell_type": "code",
   "execution_count": 950,
   "id": "aa2a0968",
   "metadata": {},
   "outputs": [
    {
     "data": {
      "text/plain": [
       "Москва              99\n",
       "Санкт-Петербург     39\n",
       "Новосибирск         16\n",
       "Казань              14\n",
       "Омск                14\n",
       "Уфа                 12\n",
       "Екатеринбург        11\n",
       "Ульяновск           11\n",
       "Набережные Челны    11\n",
       "Краснодар           11\n",
       "Name: city, dtype: int64"
      ]
     },
     "execution_count": 950,
     "metadata": {},
     "output_type": "execute_result"
    }
   ],
   "source": [
    "# Посмотрим, из каких городов пользователи\n",
    "df_users.city.value_counts().head(10)"
   ]
  },
  {
   "cell_type": "code",
   "execution_count": 951,
   "id": "feddc30c",
   "metadata": {},
   "outputs": [
    {
     "data": {
      "text/plain": [
       "76"
      ]
     },
     "execution_count": 951,
     "metadata": {},
     "output_type": "execute_result"
    }
   ],
   "source": [
    "# Сколько всего городов представлено в таблице\n",
    "df_users.city.nunique()"
   ]
  },
  {
   "cell_type": "code",
   "execution_count": 952,
   "id": "2c223472",
   "metadata": {},
   "outputs": [
    {
     "data": {
      "text/plain": [
       "Химки            1\n",
       "Архангельск      1\n",
       "Подольск         1\n",
       "Иваново          1\n",
       "Нижневартовск    1\n",
       "Оренбург         2\n",
       "Белгород         2\n",
       "Грозный          2\n",
       "Тамбов           2\n",
       "Курск            2\n",
       "Name: city, dtype: int64"
      ]
     },
     "execution_count": 952,
     "metadata": {},
     "output_type": "execute_result"
    }
   ],
   "source": [
    "# Меньше всего пользователей в городах\n",
    "df_users.city.value_counts(ascending=True).head(10)"
   ]
  },
  {
   "cell_type": "code",
   "execution_count": 953,
   "id": "7f531c79",
   "metadata": {},
   "outputs": [
    {
     "data": {
      "text/plain": [
       "<AxesSubplot:>"
      ]
     },
     "execution_count": 953,
     "metadata": {},
     "output_type": "execute_result"
    },
    {
     "data": {
      "image/png": "[encoded data removed]",
      "text/plain": [
       "<Figure size 576x360 with 1 Axes>"
      ]
     },
     "metadata": {},
     "output_type": "display_data"
    }
   ],
   "source": [
    "# Посмотрим возраст пользователей\n",
    "df_users.age.hist()"
   ]
  },
  {
   "cell_type": "code",
   "execution_count": 954,
   "id": "7eded38d",
   "metadata": {},
   "outputs": [
    {
     "data": {
      "text/plain": [
       "smart    351\n",
       "ultra    149\n",
       "Name: tariff, dtype: int64"
      ]
     },
     "execution_count": 954,
     "metadata": {},
     "output_type": "execute_result"
    }
   ],
   "source": [
    "# Посмотрим тарифы\n",
    "df_users.tariff.value_counts()"
   ]
  },
  {
   "cell_type": "code",
   "execution_count": 955,
   "id": "075f42db",
   "metadata": {},
   "outputs": [
    {
     "data": {
      "text/html": [
       "<div>\n",
       "<style scoped>\n",
       "    .dataframe tbody tr th:only-of-type {\n",
       "        vertical-align: middle;\n",
       "    }\n",
       "\n",
       "    .dataframe tbody tr th {\n",
       "        vertical-align: top;\n",
       "    }\n",
       "\n",
       "    .dataframe thead th {\n",
       "        text-align: right;\n",
       "    }\n",
       "</style>\n",
       "<table border=\"1\" class=\"dataframe\">\n",
       "  <thead>\n",
       "    <tr style=\"text-align: right;\">\n",
       "      <th></th>\n",
       "      <th>id</th>\n",
       "      <th>call_date</th>\n",
       "      <th>duration</th>\n",
       "      <th>user_id</th>\n",
       "    </tr>\n",
       "  </thead>\n",
       "  <tbody>\n",
       "    <tr>\n",
       "      <th>0</th>\n",
       "      <td>1000_0</td>\n",
       "      <td>2018-07-25</td>\n",
       "      <td>0.00</td>\n",
       "      <td>1000</td>\n",
       "    </tr>\n",
       "    <tr>\n",
       "      <th>1</th>\n",
       "      <td>1000_1</td>\n",
       "      <td>2018-08-17</td>\n",
       "      <td>0.00</td>\n",
       "      <td>1000</td>\n",
       "    </tr>\n",
       "    <tr>\n",
       "      <th>2</th>\n",
       "      <td>1000_2</td>\n",
       "      <td>2018-06-11</td>\n",
       "      <td>2.85</td>\n",
       "      <td>1000</td>\n",
       "    </tr>\n",
       "    <tr>\n",
       "      <th>3</th>\n",
       "      <td>1000_3</td>\n",
       "      <td>2018-09-21</td>\n",
       "      <td>13.80</td>\n",
       "      <td>1000</td>\n",
       "    </tr>\n",
       "    <tr>\n",
       "      <th>4</th>\n",
       "      <td>1000_4</td>\n",
       "      <td>2018-12-15</td>\n",
       "      <td>5.18</td>\n",
       "      <td>1000</td>\n",
       "    </tr>\n",
       "  </tbody>\n",
       "</table>\n",
       "</div>"
      ],
      "text/plain": [
       "       id  call_date  duration  user_id\n",
       "0  1000_0 2018-07-25      0.00     1000\n",
       "1  1000_1 2018-08-17      0.00     1000\n",
       "2  1000_2 2018-06-11      2.85     1000\n",
       "3  1000_3 2018-09-21     13.80     1000\n",
       "4  1000_4 2018-12-15      5.18     1000"
      ]
     },
     "execution_count": 955,
     "metadata": {},
     "output_type": "execute_result"
    }
   ],
   "source": [
    "df_calls.head()"
   ]
  },
  {
   "cell_type": "code",
   "execution_count": 956,
   "id": "1322b1b7",
   "metadata": {},
   "outputs": [
    {
     "data": {
      "text/plain": [
       "Timestamp('2018-01-01 00:00:00')"
      ]
     },
     "execution_count": 956,
     "metadata": {},
     "output_type": "execute_result"
    }
   ],
   "source": [
    "# Проверим, что данные действительно за 2018 год\n",
    "df_calls.call_date.min()"
   ]
  },
  {
   "cell_type": "code",
   "execution_count": 957,
   "id": "5fd58da3",
   "metadata": {},
   "outputs": [
    {
     "data": {
      "text/plain": [
       "Timestamp('2018-12-31 00:00:00')"
      ]
     },
     "execution_count": 957,
     "metadata": {},
     "output_type": "execute_result"
    }
   ],
   "source": [
    "df_calls.call_date.max()"
   ]
  },
  {
   "cell_type": "code",
   "execution_count": 958,
   "id": "8cec91d9",
   "metadata": {},
   "outputs": [],
   "source": [
    "# Посмотрим, сколько каждый пользователь делает в день звонков и какой длительности \n",
    "df_calls_per_day_user = df_calls.groupby(['user_id', 'call_date'], as_index=False)\\\n",
    "                                .agg({'id': 'count', 'duration': 'sum'})\\\n",
    "                                .rename(columns={'id': 'quantity'})"
   ]
  },
  {
   "cell_type": "code",
   "execution_count": 959,
   "id": "a47376bc",
   "metadata": {},
   "outputs": [
    {
     "data": {
      "text/html": [
       "<div>\n",
       "<style scoped>\n",
       "    .dataframe tbody tr th:only-of-type {\n",
       "        vertical-align: middle;\n",
       "    }\n",
       "\n",
       "    .dataframe tbody tr th {\n",
       "        vertical-align: top;\n",
       "    }\n",
       "\n",
       "    .dataframe thead th {\n",
       "        text-align: right;\n",
       "    }\n",
       "</style>\n",
       "<table border=\"1\" class=\"dataframe\">\n",
       "  <thead>\n",
       "    <tr style=\"text-align: right;\">\n",
       "      <th></th>\n",
       "      <th>user_id</th>\n",
       "      <th>call_date</th>\n",
       "      <th>quantity</th>\n",
       "      <th>duration</th>\n",
       "    </tr>\n",
       "  </thead>\n",
       "  <tbody>\n",
       "    <tr>\n",
       "      <th>0</th>\n",
       "      <td>1000</td>\n",
       "      <td>2018-05-25</td>\n",
       "      <td>1</td>\n",
       "      <td>0.00</td>\n",
       "    </tr>\n",
       "    <tr>\n",
       "      <th>1</th>\n",
       "      <td>1000</td>\n",
       "      <td>2018-05-26</td>\n",
       "      <td>6</td>\n",
       "      <td>46.41</td>\n",
       "    </tr>\n",
       "    <tr>\n",
       "      <th>2</th>\n",
       "      <td>1000</td>\n",
       "      <td>2018-05-27</td>\n",
       "      <td>1</td>\n",
       "      <td>3.43</td>\n",
       "    </tr>\n",
       "    <tr>\n",
       "      <th>3</th>\n",
       "      <td>1000</td>\n",
       "      <td>2018-05-28</td>\n",
       "      <td>4</td>\n",
       "      <td>26.99</td>\n",
       "    </tr>\n",
       "    <tr>\n",
       "      <th>4</th>\n",
       "      <td>1000</td>\n",
       "      <td>2018-05-29</td>\n",
       "      <td>2</td>\n",
       "      <td>11.35</td>\n",
       "    </tr>\n",
       "  </tbody>\n",
       "</table>\n",
       "</div>"
      ],
      "text/plain": [
       "   user_id  call_date  quantity  duration\n",
       "0     1000 2018-05-25         1      0.00\n",
       "1     1000 2018-05-26         6     46.41\n",
       "2     1000 2018-05-27         1      3.43\n",
       "3     1000 2018-05-28         4     26.99\n",
       "4     1000 2018-05-29         2     11.35"
      ]
     },
     "execution_count": 959,
     "metadata": {},
     "output_type": "execute_result"
    }
   ],
   "source": [
    "df_calls_per_day_user.head()"
   ]
  },
  {
   "cell_type": "code",
   "execution_count": 960,
   "id": "bba19bd7",
   "metadata": {},
   "outputs": [
    {
     "data": {
      "image/png": "[encoded data removed]",
      "text/plain": [
       "<Figure size 648x648 with 2 Axes>"
      ]
     },
     "metadata": {},
     "output_type": "display_data"
    }
   ],
   "source": [
    "fig, axs = plt.subplots(2, 1, figsize=(9, 9))\n",
    "axs[0].hist(df_calls_per_day_user.quantity)\n",
    "axs[1].boxplot(df_calls_per_day_user.quantity)\n",
    "fig.suptitle('Количество звонков пользователя в день');"
   ]
  },
  {
   "cell_type": "code",
   "execution_count": 961,
   "id": "d82fc2d0",
   "metadata": {},
   "outputs": [
    {
     "data": {
      "text/html": [
       "<div>\n",
       "<style scoped>\n",
       "    .dataframe tbody tr th:only-of-type {\n",
       "        vertical-align: middle;\n",
       "    }\n",
       "\n",
       "    .dataframe tbody tr th {\n",
       "        vertical-align: top;\n",
       "    }\n",
       "\n",
       "    .dataframe thead th {\n",
       "        text-align: right;\n",
       "    }\n",
       "</style>\n",
       "<table border=\"1\" class=\"dataframe\">\n",
       "  <thead>\n",
       "    <tr style=\"text-align: right;\">\n",
       "      <th></th>\n",
       "      <th>user_id</th>\n",
       "      <th>call_date</th>\n",
       "      <th>quantity</th>\n",
       "      <th>duration</th>\n",
       "    </tr>\n",
       "  </thead>\n",
       "  <tbody>\n",
       "    <tr>\n",
       "      <th>20820</th>\n",
       "      <td>1140</td>\n",
       "      <td>2018-12-31</td>\n",
       "      <td>75</td>\n",
       "      <td>538.79</td>\n",
       "    </tr>\n",
       "    <tr>\n",
       "      <th>49919</th>\n",
       "      <td>1336</td>\n",
       "      <td>2018-12-31</td>\n",
       "      <td>100</td>\n",
       "      <td>712.05</td>\n",
       "    </tr>\n",
       "  </tbody>\n",
       "</table>\n",
       "</div>"
      ],
      "text/plain": [
       "       user_id  call_date  quantity  duration\n",
       "20820     1140 2018-12-31        75    538.79\n",
       "49919     1336 2018-12-31       100    712.05"
      ]
     },
     "execution_count": 961,
     "metadata": {},
     "output_type": "execute_result"
    }
   ],
   "source": [
    "# Видим, что чаще всего пользотели звонят меньше 40 раз в день, посмотрим отдельно выбросы\n",
    "df_calls_per_day_user.query('quantity >= 40')"
   ]
  },
  {
   "cell_type": "code",
   "execution_count": 962,
   "id": "159a3ad5",
   "metadata": {},
   "outputs": [
    {
     "data": {
      "image/png": "[encoded data removed]",
      "text/plain": [
       "<Figure size 648x648 with 2 Axes>"
      ]
     },
     "metadata": {},
     "output_type": "display_data"
    }
   ],
   "source": [
    "fig, axs = plt.subplots(2, 1, figsize=(9, 9))\n",
    "axs[0].hist(df_calls_per_day_user.duration)\n",
    "axs[1].boxplot(df_calls_per_day_user.duration)\n",
    "fig.suptitle('Время разговора пользователя в день');"
   ]
  },
  {
   "cell_type": "code",
   "execution_count": 963,
   "id": "fa5193df",
   "metadata": {},
   "outputs": [
    {
     "data": {
      "text/html": [
       "<div>\n",
       "<style scoped>\n",
       "    .dataframe tbody tr th:only-of-type {\n",
       "        vertical-align: middle;\n",
       "    }\n",
       "\n",
       "    .dataframe tbody tr th {\n",
       "        vertical-align: top;\n",
       "    }\n",
       "\n",
       "    .dataframe thead th {\n",
       "        text-align: right;\n",
       "    }\n",
       "</style>\n",
       "<table border=\"1\" class=\"dataframe\">\n",
       "  <thead>\n",
       "    <tr style=\"text-align: right;\">\n",
       "      <th></th>\n",
       "      <th>user_id</th>\n",
       "      <th>call_date</th>\n",
       "      <th>quantity</th>\n",
       "      <th>duration</th>\n",
       "    </tr>\n",
       "  </thead>\n",
       "  <tbody>\n",
       "    <tr>\n",
       "      <th>11209</th>\n",
       "      <td>1074</td>\n",
       "      <td>2018-12-30</td>\n",
       "      <td>36</td>\n",
       "      <td>300.50</td>\n",
       "    </tr>\n",
       "    <tr>\n",
       "      <th>20820</th>\n",
       "      <td>1140</td>\n",
       "      <td>2018-12-31</td>\n",
       "      <td>75</td>\n",
       "      <td>538.79</td>\n",
       "    </tr>\n",
       "    <tr>\n",
       "      <th>49919</th>\n",
       "      <td>1336</td>\n",
       "      <td>2018-12-31</td>\n",
       "      <td>100</td>\n",
       "      <td>712.05</td>\n",
       "    </tr>\n",
       "  </tbody>\n",
       "</table>\n",
       "</div>"
      ],
      "text/plain": [
       "       user_id  call_date  quantity  duration\n",
       "11209     1074 2018-12-30        36    300.50\n",
       "20820     1140 2018-12-31        75    538.79\n",
       "49919     1336 2018-12-31       100    712.05"
      ]
     },
     "execution_count": 963,
     "metadata": {},
     "output_type": "execute_result"
    }
   ],
   "source": [
    "# Видим, что чаще всего пользотели говорят по телефону меньше 300 минут в день, посмотрим выбросы\n",
    "df_calls_per_day_user.query('duration >= 300')"
   ]
  },
  {
   "cell_type": "code",
   "execution_count": 964,
   "id": "87d4ce5a",
   "metadata": {},
   "outputs": [
    {
     "data": {
      "image/png": "[encoded data removed]",
      "text/plain": [
       "<Figure size 576x360 with 1 Axes>"
      ]
     },
     "metadata": {},
     "output_type": "display_data"
    }
   ],
   "source": [
    "# Посмотрим более одробно распределение данных без выбросов\n",
    "sns_plot = sns.distplot(df_calls_per_day_user.query('duration < 300').duration)\n",
    "fig = sns_plot.get_figure()"
   ]
  },
  {
   "cell_type": "markdown",
   "id": "68950627",
   "metadata": {},
   "source": [
    "Видно, что несколько пользователей намного больше говорили по телефону перед Новым годом, 29-31 декабря"
   ]
  },
  {
   "cell_type": "markdown",
   "id": "9e511b7e",
   "metadata": {},
   "source": [
    "Проверим, сколько обычно длится один звонок и есть ли выбросы."
   ]
  },
  {
   "cell_type": "code",
   "execution_count": 965,
   "id": "36a67bd2",
   "metadata": {},
   "outputs": [
    {
     "data": {
      "image/png": "[encoded data removed]",
      "text/plain": [
       "<Figure size 576x360 with 1 Axes>"
      ]
     },
     "metadata": {},
     "output_type": "display_data"
    }
   ],
   "source": [
    "df_calls['duration'].hist(bins=50)\n",
    "plt.show()"
   ]
  },
  {
   "cell_type": "markdown",
   "id": "1d2a3bf4",
   "metadata": {},
   "source": [
    "На гистограмме видно много нулевых значений. Сильных выбросов нет. Звонки с нулевой длительностью скорее всего соответствуют попыткам дозвониться. Эта информация была бы полезна при определении причины отказа от услуг или для определения периодов с проблемами связи."
   ]
  },
  {
   "cell_type": "code",
   "execution_count": 966,
   "id": "645af6cb",
   "metadata": {},
   "outputs": [],
   "source": [
    "# Посмотрим подробнее данные по сообщениям, посчитаем количество сообщений пользователя в день\n",
    "df_messages_per_day_user = df_messages.groupby(['user_id', 'message_date'], as_index=False)\\\n",
    "                                      .agg({'id': 'count'})\\\n",
    "                                      .rename(columns={'id': 'quantity'})"
   ]
  },
  {
   "cell_type": "code",
   "execution_count": 967,
   "id": "145fd54e",
   "metadata": {},
   "outputs": [
    {
     "data": {
      "image/png": "[encoded data removed]",
      "text/plain": [
       "<Figure size 648x648 with 2 Axes>"
      ]
     },
     "metadata": {},
     "output_type": "display_data"
    }
   ],
   "source": [
    "fig, axs = plt.subplots(2, 1, figsize=(9, 9))\n",
    "axs[0].hist(df_messages_per_day_user.quantity)\n",
    "axs[1].boxplot(df_messages_per_day_user.quantity)\n",
    "fig.suptitle('Количество сообщений пользователя в день');"
   ]
  },
  {
   "cell_type": "code",
   "execution_count": 968,
   "id": "fe5bb288",
   "metadata": {},
   "outputs": [
    {
     "data": {
      "text/html": [
       "<div>\n",
       "<style scoped>\n",
       "    .dataframe tbody tr th:only-of-type {\n",
       "        vertical-align: middle;\n",
       "    }\n",
       "\n",
       "    .dataframe tbody tr th {\n",
       "        vertical-align: top;\n",
       "    }\n",
       "\n",
       "    .dataframe thead th {\n",
       "        text-align: right;\n",
       "    }\n",
       "</style>\n",
       "<table border=\"1\" class=\"dataframe\">\n",
       "  <thead>\n",
       "    <tr style=\"text-align: right;\">\n",
       "      <th></th>\n",
       "      <th>user_id</th>\n",
       "      <th>message_date</th>\n",
       "      <th>quantity</th>\n",
       "    </tr>\n",
       "  </thead>\n",
       "  <tbody>\n",
       "    <tr>\n",
       "      <th>13996</th>\n",
       "      <td>1140</td>\n",
       "      <td>2018-12-31</td>\n",
       "      <td>31</td>\n",
       "    </tr>\n",
       "    <tr>\n",
       "      <th>34336</th>\n",
       "      <td>1336</td>\n",
       "      <td>2018-12-31</td>\n",
       "      <td>20</td>\n",
       "    </tr>\n",
       "    <tr>\n",
       "      <th>46731</th>\n",
       "      <td>1445</td>\n",
       "      <td>2018-12-29</td>\n",
       "      <td>32</td>\n",
       "    </tr>\n",
       "    <tr>\n",
       "      <th>46732</th>\n",
       "      <td>1445</td>\n",
       "      <td>2018-12-30</td>\n",
       "      <td>24</td>\n",
       "    </tr>\n",
       "    <tr>\n",
       "      <th>46733</th>\n",
       "      <td>1445</td>\n",
       "      <td>2018-12-31</td>\n",
       "      <td>19</td>\n",
       "    </tr>\n",
       "    <tr>\n",
       "      <th>51307</th>\n",
       "      <td>1485</td>\n",
       "      <td>2018-12-29</td>\n",
       "      <td>42</td>\n",
       "    </tr>\n",
       "    <tr>\n",
       "      <th>51308</th>\n",
       "      <td>1485</td>\n",
       "      <td>2018-12-30</td>\n",
       "      <td>59</td>\n",
       "    </tr>\n",
       "    <tr>\n",
       "      <th>51309</th>\n",
       "      <td>1485</td>\n",
       "      <td>2018-12-31</td>\n",
       "      <td>54</td>\n",
       "    </tr>\n",
       "  </tbody>\n",
       "</table>\n",
       "</div>"
      ],
      "text/plain": [
       "       user_id message_date  quantity\n",
       "13996     1140   2018-12-31        31\n",
       "34336     1336   2018-12-31        20\n",
       "46731     1445   2018-12-29        32\n",
       "46732     1445   2018-12-30        24\n",
       "46733     1445   2018-12-31        19\n",
       "51307     1485   2018-12-29        42\n",
       "51308     1485   2018-12-30        59\n",
       "51309     1485   2018-12-31        54"
      ]
     },
     "execution_count": 968,
     "metadata": {},
     "output_type": "execute_result"
    }
   ],
   "source": [
    "# На графике видно, что в основном пользователи отправляют до 15 сообщений в день, но есть выбросы\n",
    "df_messages_per_day_user.query('quantity > 15')"
   ]
  },
  {
   "cell_type": "code",
   "execution_count": 969,
   "id": "a55ce24b",
   "metadata": {},
   "outputs": [
    {
     "data": {
      "image/png": "[encoded data removed]",
      "text/plain": [
       "<Figure size 576x360 with 1 Axes>"
      ]
     },
     "metadata": {},
     "output_type": "display_data"
    }
   ],
   "source": [
    "sns_plot = sns.distplot(df_messages_per_day_user.query('quantity < 15').quantity, kde=False)\n",
    "fig = sns_plot.get_figure()"
   ]
  },
  {
   "cell_type": "markdown",
   "id": "aa63b5ba",
   "metadata": {},
   "source": [
    "Тут тоже видно, что перед новым годом люди выслали существенно больше сообщений, чем обычно."
   ]
  },
  {
   "cell_type": "markdown",
   "id": "01b5df8d",
   "metadata": {},
   "source": [
    "Проверим данные по интернет-сессиям."
   ]
  },
  {
   "cell_type": "code",
   "execution_count": 970,
   "id": "41a0d6d5",
   "metadata": {},
   "outputs": [
    {
     "data": {
      "image/png": "[encoded data removed]",
      "text/plain": [
       "<Figure size 576x360 with 1 Axes>"
      ]
     },
     "metadata": {},
     "output_type": "display_data"
    }
   ],
   "source": [
    "df_internet['mb_used'].hist(bins=30)\n",
    "plt.show()"
   ]
  },
  {
   "cell_type": "code",
   "execution_count": 971,
   "id": "2b33174d",
   "metadata": {},
   "outputs": [
    {
     "data": {
      "text/html": [
       "<div>\n",
       "<style scoped>\n",
       "    .dataframe tbody tr th:only-of-type {\n",
       "        vertical-align: middle;\n",
       "    }\n",
       "\n",
       "    .dataframe tbody tr th {\n",
       "        vertical-align: top;\n",
       "    }\n",
       "\n",
       "    .dataframe thead th {\n",
       "        text-align: right;\n",
       "    }\n",
       "</style>\n",
       "<table border=\"1\" class=\"dataframe\">\n",
       "  <thead>\n",
       "    <tr style=\"text-align: right;\">\n",
       "      <th></th>\n",
       "      <th>id</th>\n",
       "      <th>mb_used</th>\n",
       "      <th>session_date</th>\n",
       "      <th>user_id</th>\n",
       "    </tr>\n",
       "  </thead>\n",
       "  <tbody>\n",
       "    <tr>\n",
       "      <th>0</th>\n",
       "      <td>1000_0</td>\n",
       "      <td>112.95</td>\n",
       "      <td>2018-11-25</td>\n",
       "      <td>1000</td>\n",
       "    </tr>\n",
       "    <tr>\n",
       "      <th>1</th>\n",
       "      <td>1000_1</td>\n",
       "      <td>1052.81</td>\n",
       "      <td>2018-09-07</td>\n",
       "      <td>1000</td>\n",
       "    </tr>\n",
       "    <tr>\n",
       "      <th>2</th>\n",
       "      <td>1000_2</td>\n",
       "      <td>1197.26</td>\n",
       "      <td>2018-06-25</td>\n",
       "      <td>1000</td>\n",
       "    </tr>\n",
       "    <tr>\n",
       "      <th>3</th>\n",
       "      <td>1000_3</td>\n",
       "      <td>550.27</td>\n",
       "      <td>2018-08-22</td>\n",
       "      <td>1000</td>\n",
       "    </tr>\n",
       "    <tr>\n",
       "      <th>4</th>\n",
       "      <td>1000_4</td>\n",
       "      <td>302.56</td>\n",
       "      <td>2018-09-24</td>\n",
       "      <td>1000</td>\n",
       "    </tr>\n",
       "  </tbody>\n",
       "</table>\n",
       "</div>"
      ],
      "text/plain": [
       "       id  mb_used session_date  user_id\n",
       "0  1000_0   112.95   2018-11-25     1000\n",
       "1  1000_1  1052.81   2018-09-07     1000\n",
       "2  1000_2  1197.26   2018-06-25     1000\n",
       "3  1000_3   550.27   2018-08-22     1000\n",
       "4  1000_4   302.56   2018-09-24     1000"
      ]
     },
     "execution_count": 971,
     "metadata": {},
     "output_type": "execute_result"
    }
   ],
   "source": [
    "df_internet.head()"
   ]
  },
  {
   "cell_type": "code",
   "execution_count": 972,
   "id": "c8e071b9",
   "metadata": {},
   "outputs": [],
   "source": [
    "# Посмотрим подробнее данные интернет-траффика, посчитаем количество сообщений пользователя в день\n",
    "df_internet_per_day_user = df_internet.groupby(['user_id', 'session_date'], as_index=False)\\\n",
    "                                      .agg({'id': 'count', 'mb_used': 'sum'})\\\n",
    "                                      .rename(columns={'id': 'quantity'})"
   ]
  },
  {
   "cell_type": "code",
   "execution_count": 973,
   "id": "32d115f2",
   "metadata": {},
   "outputs": [
    {
     "data": {
      "text/html": [
       "<div>\n",
       "<style scoped>\n",
       "    .dataframe tbody tr th:only-of-type {\n",
       "        vertical-align: middle;\n",
       "    }\n",
       "\n",
       "    .dataframe tbody tr th {\n",
       "        vertical-align: top;\n",
       "    }\n",
       "\n",
       "    .dataframe thead th {\n",
       "        text-align: right;\n",
       "    }\n",
       "</style>\n",
       "<table border=\"1\" class=\"dataframe\">\n",
       "  <thead>\n",
       "    <tr style=\"text-align: right;\">\n",
       "      <th></th>\n",
       "      <th>user_id</th>\n",
       "      <th>session_date</th>\n",
       "      <th>quantity</th>\n",
       "      <th>mb_used</th>\n",
       "    </tr>\n",
       "  </thead>\n",
       "  <tbody>\n",
       "    <tr>\n",
       "      <th>0</th>\n",
       "      <td>1000</td>\n",
       "      <td>2018-05-26</td>\n",
       "      <td>1</td>\n",
       "      <td>0.00</td>\n",
       "    </tr>\n",
       "    <tr>\n",
       "      <th>1</th>\n",
       "      <td>1000</td>\n",
       "      <td>2018-05-28</td>\n",
       "      <td>2</td>\n",
       "      <td>907.42</td>\n",
       "    </tr>\n",
       "    <tr>\n",
       "      <th>2</th>\n",
       "      <td>1000</td>\n",
       "      <td>2018-05-31</td>\n",
       "      <td>2</td>\n",
       "      <td>1346.07</td>\n",
       "    </tr>\n",
       "    <tr>\n",
       "      <th>3</th>\n",
       "      <td>1000</td>\n",
       "      <td>2018-06-01</td>\n",
       "      <td>2</td>\n",
       "      <td>1611.41</td>\n",
       "    </tr>\n",
       "    <tr>\n",
       "      <th>4</th>\n",
       "      <td>1000</td>\n",
       "      <td>2018-06-03</td>\n",
       "      <td>2</td>\n",
       "      <td>951.72</td>\n",
       "    </tr>\n",
       "  </tbody>\n",
       "</table>\n",
       "</div>"
      ],
      "text/plain": [
       "   user_id session_date  quantity  mb_used\n",
       "0     1000   2018-05-26         1     0.00\n",
       "1     1000   2018-05-28         2   907.42\n",
       "2     1000   2018-05-31         2  1346.07\n",
       "3     1000   2018-06-01         2  1611.41\n",
       "4     1000   2018-06-03         2   951.72"
      ]
     },
     "execution_count": 973,
     "metadata": {},
     "output_type": "execute_result"
    }
   ],
   "source": [
    "df_internet_per_day_user.head()"
   ]
  },
  {
   "cell_type": "code",
   "execution_count": 974,
   "id": "adf3fb43",
   "metadata": {},
   "outputs": [
    {
     "data": {
      "image/png": "[encoded data removed]",
      "text/plain": [
       "<Figure size 648x648 with 2 Axes>"
      ]
     },
     "metadata": {},
     "output_type": "display_data"
    }
   ],
   "source": [
    "fig, axs = plt.subplots(2, 1, figsize=(9, 9))\n",
    "axs[0].hist(df_internet_per_day_user.quantity)\n",
    "axs[1].boxplot(df_internet_per_day_user.quantity)\n",
    "fig.suptitle('Количество интернет-сессий пользователя в день');"
   ]
  },
  {
   "cell_type": "code",
   "execution_count": 975,
   "id": "2966a154",
   "metadata": {},
   "outputs": [
    {
     "data": {
      "text/html": [
       "<div>\n",
       "<style scoped>\n",
       "    .dataframe tbody tr th:only-of-type {\n",
       "        vertical-align: middle;\n",
       "    }\n",
       "\n",
       "    .dataframe tbody tr th {\n",
       "        vertical-align: top;\n",
       "    }\n",
       "\n",
       "    .dataframe thead th {\n",
       "        text-align: right;\n",
       "    }\n",
       "</style>\n",
       "<table border=\"1\" class=\"dataframe\">\n",
       "  <thead>\n",
       "    <tr style=\"text-align: right;\">\n",
       "      <th></th>\n",
       "      <th>user_id</th>\n",
       "      <th>message_date</th>\n",
       "      <th>quantity</th>\n",
       "    </tr>\n",
       "  </thead>\n",
       "  <tbody>\n",
       "    <tr>\n",
       "      <th>13996</th>\n",
       "      <td>1140</td>\n",
       "      <td>2018-12-31</td>\n",
       "      <td>31</td>\n",
       "    </tr>\n",
       "    <tr>\n",
       "      <th>46731</th>\n",
       "      <td>1445</td>\n",
       "      <td>2018-12-29</td>\n",
       "      <td>32</td>\n",
       "    </tr>\n",
       "    <tr>\n",
       "      <th>46732</th>\n",
       "      <td>1445</td>\n",
       "      <td>2018-12-30</td>\n",
       "      <td>24</td>\n",
       "    </tr>\n",
       "    <tr>\n",
       "      <th>51307</th>\n",
       "      <td>1485</td>\n",
       "      <td>2018-12-29</td>\n",
       "      <td>42</td>\n",
       "    </tr>\n",
       "    <tr>\n",
       "      <th>51308</th>\n",
       "      <td>1485</td>\n",
       "      <td>2018-12-30</td>\n",
       "      <td>59</td>\n",
       "    </tr>\n",
       "    <tr>\n",
       "      <th>51309</th>\n",
       "      <td>1485</td>\n",
       "      <td>2018-12-31</td>\n",
       "      <td>54</td>\n",
       "    </tr>\n",
       "  </tbody>\n",
       "</table>\n",
       "</div>"
      ],
      "text/plain": [
       "       user_id message_date  quantity\n",
       "13996     1140   2018-12-31        31\n",
       "46731     1445   2018-12-29        32\n",
       "46732     1445   2018-12-30        24\n",
       "51307     1485   2018-12-29        42\n",
       "51308     1485   2018-12-30        59\n",
       "51309     1485   2018-12-31        54"
      ]
     },
     "execution_count": 975,
     "metadata": {},
     "output_type": "execute_result"
    }
   ],
   "source": [
    "# На графике видно, что в основном пользователи осуществляют до 20 сессий в день, но есть выбросы\n",
    "df_messages_per_day_user.query('quantity > 20')"
   ]
  },
  {
   "cell_type": "code",
   "execution_count": 976,
   "id": "8b53dacb",
   "metadata": {},
   "outputs": [
    {
     "data": {
      "image/png": "[encoded data removed]",
      "text/plain": [
       "<Figure size 576x360 with 1 Axes>"
      ]
     },
     "metadata": {},
     "output_type": "display_data"
    }
   ],
   "source": [
    "# Посмотрим тот же график без выбросов\n",
    "sns_plot = sns.distplot(df_internet_per_day_user.query('quantity <= 20').quantity, kde=False)\n",
    "fig = sns_plot.get_figure()"
   ]
  },
  {
   "cell_type": "code",
   "execution_count": 977,
   "id": "1eae9683",
   "metadata": {},
   "outputs": [
    {
     "data": {
      "image/png": "[encoded data removed]",
      "text/plain": [
       "<Figure size 648x648 with 2 Axes>"
      ]
     },
     "metadata": {},
     "output_type": "display_data"
    }
   ],
   "source": [
    "fig, axs = plt.subplots(2, 1, figsize=(9, 9))\n",
    "axs[0].hist(df_internet_per_day_user.mb_used)\n",
    "axs[1].boxplot(df_internet_per_day_user.mb_used\n",
    "              )\n",
    "fig.suptitle('Трафик пользователя в день');"
   ]
  },
  {
   "cell_type": "code",
   "execution_count": 978,
   "id": "ba7bf662",
   "metadata": {},
   "outputs": [
    {
     "data": {
      "text/html": [
       "<div>\n",
       "<style scoped>\n",
       "    .dataframe tbody tr th:only-of-type {\n",
       "        vertical-align: middle;\n",
       "    }\n",
       "\n",
       "    .dataframe tbody tr th {\n",
       "        vertical-align: top;\n",
       "    }\n",
       "\n",
       "    .dataframe thead th {\n",
       "        text-align: right;\n",
       "    }\n",
       "</style>\n",
       "<table border=\"1\" class=\"dataframe\">\n",
       "  <thead>\n",
       "    <tr style=\"text-align: right;\">\n",
       "      <th></th>\n",
       "      <th>user_id</th>\n",
       "      <th>session_date</th>\n",
       "      <th>quantity</th>\n",
       "      <th>mb_used</th>\n",
       "    </tr>\n",
       "  </thead>\n",
       "  <tbody>\n",
       "    <tr>\n",
       "      <th>10385</th>\n",
       "      <td>1074</td>\n",
       "      <td>2018-12-31</td>\n",
       "      <td>32</td>\n",
       "      <td>12185.53</td>\n",
       "    </tr>\n",
       "    <tr>\n",
       "      <th>19042</th>\n",
       "      <td>1140</td>\n",
       "      <td>2018-12-31</td>\n",
       "      <td>58</td>\n",
       "      <td>20046.38</td>\n",
       "    </tr>\n",
       "    <tr>\n",
       "      <th>36122</th>\n",
       "      <td>1258</td>\n",
       "      <td>2018-12-31</td>\n",
       "      <td>50</td>\n",
       "      <td>18698.14</td>\n",
       "    </tr>\n",
       "    <tr>\n",
       "      <th>47009</th>\n",
       "      <td>1336</td>\n",
       "      <td>2018-12-31</td>\n",
       "      <td>50</td>\n",
       "      <td>26582.01</td>\n",
       "    </tr>\n",
       "  </tbody>\n",
       "</table>\n",
       "</div>"
      ],
      "text/plain": [
       "       user_id session_date  quantity   mb_used\n",
       "10385     1074   2018-12-31        32  12185.53\n",
       "19042     1140   2018-12-31        58  20046.38\n",
       "36122     1258   2018-12-31        50  18698.14\n",
       "47009     1336   2018-12-31        50  26582.01"
      ]
     },
     "execution_count": 978,
     "metadata": {},
     "output_type": "execute_result"
    }
   ],
   "source": [
    "# На графике видно, что в основном пользователи используют до 10000 Мб в день, но есть выбросы\n",
    "df_internet_per_day_user.query('mb_used > 10000')"
   ]
  },
  {
   "cell_type": "code",
   "execution_count": 979,
   "id": "2db6c688",
   "metadata": {},
   "outputs": [
    {
     "data": {
      "image/png": "[encoded data removed]",
      "text/plain": [
       "<Figure size 576x360 with 1 Axes>"
      ]
     },
     "metadata": {},
     "output_type": "display_data"
    }
   ],
   "source": [
    "# Посмотрим тот же график без выбросов\n",
    "sns_plot = sns.distplot(df_internet_per_day_user.query('mb_used < 10000').mb_used)\n",
    "fig = sns_plot.get_figure()"
   ]
  },
  {
   "cell_type": "markdown",
   "id": "2ca143de",
   "metadata": {},
   "source": [
    "### Вывод\n",
    "Ошибок в данных не найдено, но есть несколько выбросов, дальше нужно будет это учесть"
   ]
  },
  {
   "cell_type": "markdown",
   "id": "a38533d2",
   "metadata": {},
   "source": [
    "### 2.3. Посчитаем для каждого пользователя количество сделанных звонков и израсходованных минут разговора по месяцам.\n",
    "Обычно дата расчета оплаты совпадает с датой регистрации, соответственно месяцы нужно считать не с первого числа, а с даты регистрации, в расчете будем это учитывать."
   ]
  },
  {
   "cell_type": "code",
   "execution_count": 980,
   "id": "e237fef6",
   "metadata": {},
   "outputs": [],
   "source": [
    "# Округлим минуты и Мегабайты до верхнего значения\n",
    "df_calls['duration'] = np.ceil(df_calls['duration']).astype(int)\n",
    "df_internet['mb_used'] = np.ceil(df_internet['mb_used']).astype(int)"
   ]
  },
  {
   "cell_type": "code",
   "execution_count": 981,
   "id": "d2741ab6",
   "metadata": {},
   "outputs": [],
   "source": [
    "# Добавим в таблицу со звонками данные о дате регистрации пользователей\n",
    "df_calls = df_calls.merge(df_users[['reg_date', 'user_id']], how='right', on='user_id')"
   ]
  },
  {
   "cell_type": "code",
   "execution_count": 982,
   "id": "8bf61fdc",
   "metadata": {},
   "outputs": [],
   "source": [
    "# Удалим пропущенные значения\n",
    "df_calls.dropna(inplace=True)"
   ]
  },
  {
   "cell_type": "code",
   "execution_count": 983,
   "id": "6dc70ca5",
   "metadata": {},
   "outputs": [],
   "source": [
    "# Найдем разницу между датой звонка и датой регистрации\n",
    "df_calls['month'] = pd.DatetimeIndex(df_calls['call_date']).month - pd.DatetimeIndex(df_calls['reg_date']).month"
   ]
  },
  {
   "cell_type": "code",
   "execution_count": 984,
   "id": "898e8134",
   "metadata": {},
   "outputs": [],
   "source": [
    "# Прибавим к месяцу регистрации количество полных месяцев, которые прошли после регистрации\n",
    "df_calls['month'] = df_calls['month'] + pd.DatetimeIndex(df_calls['reg_date']).month"
   ]
  },
  {
   "cell_type": "code",
   "execution_count": 985,
   "id": "889b6125",
   "metadata": {},
   "outputs": [],
   "source": [
    "#Удалим колонку с датой регистрации, т.к. она нам больше не нужна\n",
    "df_calls = df_calls.drop(columns='reg_date')"
   ]
  },
  {
   "cell_type": "code",
   "execution_count": 986,
   "id": "ebd8f954",
   "metadata": {},
   "outputs": [],
   "source": [
    "calls_by_month = df_calls.groupby(['user_id', 'month'], as_index=False)\\\n",
    "        .agg({'call_date': 'count', 'duration': 'sum'})\\\n",
    "        .rename(columns={'call_date': 'calls_quantity'})"
   ]
  },
  {
   "cell_type": "code",
   "execution_count": 987,
   "id": "d6ca7937",
   "metadata": {},
   "outputs": [
    {
     "data": {
      "text/html": [
       "<div>\n",
       "<style scoped>\n",
       "    .dataframe tbody tr th:only-of-type {\n",
       "        vertical-align: middle;\n",
       "    }\n",
       "\n",
       "    .dataframe tbody tr th {\n",
       "        vertical-align: top;\n",
       "    }\n",
       "\n",
       "    .dataframe thead th {\n",
       "        text-align: right;\n",
       "    }\n",
       "</style>\n",
       "<table border=\"1\" class=\"dataframe\">\n",
       "  <thead>\n",
       "    <tr style=\"text-align: right;\">\n",
       "      <th></th>\n",
       "      <th>user_id</th>\n",
       "      <th>month</th>\n",
       "      <th>calls_quantity</th>\n",
       "      <th>duration</th>\n",
       "    </tr>\n",
       "  </thead>\n",
       "  <tbody>\n",
       "    <tr>\n",
       "      <th>0</th>\n",
       "      <td>1000</td>\n",
       "      <td>5</td>\n",
       "      <td>22</td>\n",
       "      <td>159.0</td>\n",
       "    </tr>\n",
       "    <tr>\n",
       "      <th>1</th>\n",
       "      <td>1000</td>\n",
       "      <td>6</td>\n",
       "      <td>43</td>\n",
       "      <td>172.0</td>\n",
       "    </tr>\n",
       "    <tr>\n",
       "      <th>2</th>\n",
       "      <td>1000</td>\n",
       "      <td>7</td>\n",
       "      <td>47</td>\n",
       "      <td>340.0</td>\n",
       "    </tr>\n",
       "    <tr>\n",
       "      <th>3</th>\n",
       "      <td>1000</td>\n",
       "      <td>8</td>\n",
       "      <td>52</td>\n",
       "      <td>408.0</td>\n",
       "    </tr>\n",
       "    <tr>\n",
       "      <th>4</th>\n",
       "      <td>1000</td>\n",
       "      <td>9</td>\n",
       "      <td>58</td>\n",
       "      <td>466.0</td>\n",
       "    </tr>\n",
       "  </tbody>\n",
       "</table>\n",
       "</div>"
      ],
      "text/plain": [
       "   user_id  month  calls_quantity  duration\n",
       "0     1000      5              22     159.0\n",
       "1     1000      6              43     172.0\n",
       "2     1000      7              47     340.0\n",
       "3     1000      8              52     408.0\n",
       "4     1000      9              58     466.0"
      ]
     },
     "execution_count": 987,
     "metadata": {},
     "output_type": "execute_result"
    }
   ],
   "source": [
    "calls_by_month.head()"
   ]
  },
  {
   "cell_type": "markdown",
   "id": "e2a3f731",
   "metadata": {},
   "source": [
    "### 2.4. Посчитаем количество отправленных сообщений по месяцам."
   ]
  },
  {
   "cell_type": "code",
   "execution_count": 988,
   "id": "c1a92bc6",
   "metadata": {},
   "outputs": [],
   "source": [
    "# Повторим те же действия для таблицы с сообщениями, можно было бы выделить это в функцию.\n",
    "# Добавим в таблицу с сообщениями данные о дате регистрации пользователей\n",
    "df_messages = df_messages.merge(df_users[['reg_date', 'user_id']], how='right', on='user_id')\n",
    "\n",
    "# Удалим пропущенные значения\n",
    "df_messages.dropna(inplace=True)\n",
    "\n",
    "# Найдем разницу между датой звонка и датой регистрации\n",
    "df_messages['month'] = pd.DatetimeIndex(df_messages['message_date']).month - pd.DatetimeIndex(df_messages['reg_date']).month\n",
    "\n",
    "# Прибавим к месяцу регистрации количество полных месяцев, которые прошли после регистрации\n",
    "df_messages['month'] = df_messages['month'] + pd.DatetimeIndex(df_messages['reg_date']).month\n",
    "\n",
    "#Удалим колонку с датой регистрации, т.к. она нам больше не нужна\n",
    "df_messages = df_messages.drop(columns='reg_date')\n",
    "\n",
    "messages_by_month = df_messages.groupby(['user_id', 'month'], as_index=False)\\\n",
    "        .agg({'message_date': 'count'})\\\n",
    "        .rename(columns={'message_date': 'messages_quantity'})"
   ]
  },
  {
   "cell_type": "code",
   "execution_count": 989,
   "id": "a67e89ec",
   "metadata": {},
   "outputs": [
    {
     "data": {
      "text/html": [
       "<div>\n",
       "<style scoped>\n",
       "    .dataframe tbody tr th:only-of-type {\n",
       "        vertical-align: middle;\n",
       "    }\n",
       "\n",
       "    .dataframe tbody tr th {\n",
       "        vertical-align: top;\n",
       "    }\n",
       "\n",
       "    .dataframe thead th {\n",
       "        text-align: right;\n",
       "    }\n",
       "</style>\n",
       "<table border=\"1\" class=\"dataframe\">\n",
       "  <thead>\n",
       "    <tr style=\"text-align: right;\">\n",
       "      <th></th>\n",
       "      <th>user_id</th>\n",
       "      <th>month</th>\n",
       "      <th>messages_quantity</th>\n",
       "    </tr>\n",
       "  </thead>\n",
       "  <tbody>\n",
       "    <tr>\n",
       "      <th>0</th>\n",
       "      <td>1000</td>\n",
       "      <td>5</td>\n",
       "      <td>22</td>\n",
       "    </tr>\n",
       "    <tr>\n",
       "      <th>1</th>\n",
       "      <td>1000</td>\n",
       "      <td>6</td>\n",
       "      <td>60</td>\n",
       "    </tr>\n",
       "    <tr>\n",
       "      <th>2</th>\n",
       "      <td>1000</td>\n",
       "      <td>7</td>\n",
       "      <td>75</td>\n",
       "    </tr>\n",
       "    <tr>\n",
       "      <th>3</th>\n",
       "      <td>1000</td>\n",
       "      <td>8</td>\n",
       "      <td>81</td>\n",
       "    </tr>\n",
       "    <tr>\n",
       "      <th>4</th>\n",
       "      <td>1000</td>\n",
       "      <td>9</td>\n",
       "      <td>57</td>\n",
       "    </tr>\n",
       "  </tbody>\n",
       "</table>\n",
       "</div>"
      ],
      "text/plain": [
       "   user_id  month  messages_quantity\n",
       "0     1000      5                 22\n",
       "1     1000      6                 60\n",
       "2     1000      7                 75\n",
       "3     1000      8                 81\n",
       "4     1000      9                 57"
      ]
     },
     "execution_count": 989,
     "metadata": {},
     "output_type": "execute_result"
    }
   ],
   "source": [
    "messages_by_month.head()"
   ]
  },
  {
   "cell_type": "markdown",
   "id": "8f2f1d2e",
   "metadata": {},
   "source": [
    "### 2.5. Найдем объем израсходованного интернет-трафика по месяцам."
   ]
  },
  {
   "cell_type": "code",
   "execution_count": 990,
   "id": "c77dc323",
   "metadata": {},
   "outputs": [],
   "source": [
    "# Повторим те же действия для таблицы с сообщениями, можно было бы выделить это в функцию.\n",
    "# Добавим в таблицу с сообщениями данные о дате регистрации пользователей\n",
    "df_internet = df_internet.merge(df_users[['reg_date', 'user_id']], how='right', on='user_id')\n",
    "\n",
    "# Удалим пропущенные значения\n",
    "df_internet.dropna(inplace=True)\n",
    "\n",
    "# Найдем разницу между датой звонка и датой регистрации\n",
    "df_internet['month'] = pd.DatetimeIndex(df_internet['session_date']).month - pd.DatetimeIndex(df_internet['reg_date']).month\n",
    "\n",
    "# Прибавим к месяцу регистрации количество полных месяцев, которые прошли после регистрации\n",
    "df_internet['month'] = df_internet['month'] + pd.DatetimeIndex(df_internet['reg_date']).month\n",
    "\n",
    "#Удалим колонку с датой регистрации, т.к. она нам больше не нужна\n",
    "df_internet = df_internet.drop(columns='reg_date')\n",
    "\n",
    "internet_by_month = df_internet.groupby(['user_id', 'month'], as_index=False)\\\n",
    "        .agg({'session_date': 'count', 'mb_used': 'sum'})\\\n",
    "        .rename(columns={'session_date': 'sessions_quantity'})"
   ]
  },
  {
   "cell_type": "code",
   "execution_count": 991,
   "id": "9e72ee74",
   "metadata": {},
   "outputs": [
    {
     "data": {
      "text/html": [
       "<div>\n",
       "<style scoped>\n",
       "    .dataframe tbody tr th:only-of-type {\n",
       "        vertical-align: middle;\n",
       "    }\n",
       "\n",
       "    .dataframe tbody tr th {\n",
       "        vertical-align: top;\n",
       "    }\n",
       "\n",
       "    .dataframe thead th {\n",
       "        text-align: right;\n",
       "    }\n",
       "</style>\n",
       "<table border=\"1\" class=\"dataframe\">\n",
       "  <thead>\n",
       "    <tr style=\"text-align: right;\">\n",
       "      <th></th>\n",
       "      <th>user_id</th>\n",
       "      <th>month</th>\n",
       "      <th>sessions_quantity</th>\n",
       "      <th>mb_used</th>\n",
       "    </tr>\n",
       "  </thead>\n",
       "  <tbody>\n",
       "    <tr>\n",
       "      <th>0</th>\n",
       "      <td>1000</td>\n",
       "      <td>5</td>\n",
       "      <td>5</td>\n",
       "      <td>2256.0</td>\n",
       "    </tr>\n",
       "    <tr>\n",
       "      <th>1</th>\n",
       "      <td>1000</td>\n",
       "      <td>6</td>\n",
       "      <td>49</td>\n",
       "      <td>23257.0</td>\n",
       "    </tr>\n",
       "    <tr>\n",
       "      <th>2</th>\n",
       "      <td>1000</td>\n",
       "      <td>7</td>\n",
       "      <td>29</td>\n",
       "      <td>14016.0</td>\n",
       "    </tr>\n",
       "    <tr>\n",
       "      <th>3</th>\n",
       "      <td>1000</td>\n",
       "      <td>8</td>\n",
       "      <td>29</td>\n",
       "      <td>14070.0</td>\n",
       "    </tr>\n",
       "    <tr>\n",
       "      <th>4</th>\n",
       "      <td>1000</td>\n",
       "      <td>9</td>\n",
       "      <td>27</td>\n",
       "      <td>14581.0</td>\n",
       "    </tr>\n",
       "  </tbody>\n",
       "</table>\n",
       "</div>"
      ],
      "text/plain": [
       "   user_id  month  sessions_quantity  mb_used\n",
       "0     1000      5                  5   2256.0\n",
       "1     1000      6                 49  23257.0\n",
       "2     1000      7                 29  14016.0\n",
       "3     1000      8                 29  14070.0\n",
       "4     1000      9                 27  14581.0"
      ]
     },
     "execution_count": 991,
     "metadata": {},
     "output_type": "execute_result"
    }
   ],
   "source": [
    "internet_by_month.head()"
   ]
  },
  {
   "cell_type": "markdown",
   "id": "0c686102",
   "metadata": {},
   "source": [
    "### 2.6. Найдем помесячную выручку с каждого пользователя."
   ]
  },
  {
   "cell_type": "code",
   "execution_count": 992,
   "id": "5609f55a",
   "metadata": {},
   "outputs": [],
   "source": [
    "#Сгруппируем суммарное количество минут по месяцам\n",
    "pivot_calls_by_month = (\n",
    "    calls_by_month\n",
    "    .pivot_table(index='user_id', columns='month', values='duration', aggfunc=('sum')))"
   ]
  },
  {
   "cell_type": "code",
   "execution_count": 993,
   "id": "78fc584e",
   "metadata": {},
   "outputs": [],
   "source": [
    "# Добавим к таблице звонков тариф каждого пользователя\n",
    "pivot_calls_by_month = pivot_calls_by_month.merge(df_users[['tariff', 'user_id']], how='left', on='user_id')"
   ]
  },
  {
   "cell_type": "code",
   "execution_count": 994,
   "id": "fb41ff07",
   "metadata": {},
   "outputs": [],
   "source": [
    "# Добавим информацию о тарифах, нужную для расчета\n",
    "pivot_calls_by_month = pivot_calls_by_month.merge(df_tariffs[['tariff_name', 'minutes_included', 'rub_per_minute']],\n",
    "                                        how='left', left_on='tariff', right_on='tariff_name')"
   ]
  },
  {
   "cell_type": "code",
   "execution_count": 995,
   "id": "d1041491",
   "metadata": {},
   "outputs": [
    {
     "data": {
      "text/html": [
       "<div>\n",
       "<style scoped>\n",
       "    .dataframe tbody tr th:only-of-type {\n",
       "        vertical-align: middle;\n",
       "    }\n",
       "\n",
       "    .dataframe tbody tr th {\n",
       "        vertical-align: top;\n",
       "    }\n",
       "\n",
       "    .dataframe thead th {\n",
       "        text-align: right;\n",
       "    }\n",
       "</style>\n",
       "<table border=\"1\" class=\"dataframe\">\n",
       "  <thead>\n",
       "    <tr style=\"text-align: right;\">\n",
       "      <th></th>\n",
       "      <th>user_id</th>\n",
       "      <th>1</th>\n",
       "      <th>2</th>\n",
       "      <th>3</th>\n",
       "      <th>4</th>\n",
       "      <th>5</th>\n",
       "      <th>6</th>\n",
       "      <th>7</th>\n",
       "      <th>8</th>\n",
       "      <th>9</th>\n",
       "      <th>10</th>\n",
       "      <th>11</th>\n",
       "      <th>12</th>\n",
       "      <th>tariff</th>\n",
       "      <th>tariff_name</th>\n",
       "      <th>minutes_included</th>\n",
       "      <th>rub_per_minute</th>\n",
       "    </tr>\n",
       "  </thead>\n",
       "  <tbody>\n",
       "    <tr>\n",
       "      <th>0</th>\n",
       "      <td>1000</td>\n",
       "      <td>NaN</td>\n",
       "      <td>NaN</td>\n",
       "      <td>NaN</td>\n",
       "      <td>NaN</td>\n",
       "      <td>159.0</td>\n",
       "      <td>172.0</td>\n",
       "      <td>340.0</td>\n",
       "      <td>408.0</td>\n",
       "      <td>466.0</td>\n",
       "      <td>350.0</td>\n",
       "      <td>338.0</td>\n",
       "      <td>333.0</td>\n",
       "      <td>ultra</td>\n",
       "      <td>ultra</td>\n",
       "      <td>3000</td>\n",
       "      <td>1</td>\n",
       "    </tr>\n",
       "    <tr>\n",
       "      <th>1</th>\n",
       "      <td>1001</td>\n",
       "      <td>NaN</td>\n",
       "      <td>NaN</td>\n",
       "      <td>NaN</td>\n",
       "      <td>NaN</td>\n",
       "      <td>NaN</td>\n",
       "      <td>NaN</td>\n",
       "      <td>NaN</td>\n",
       "      <td>NaN</td>\n",
       "      <td>NaN</td>\n",
       "      <td>NaN</td>\n",
       "      <td>430.0</td>\n",
       "      <td>414.0</td>\n",
       "      <td>smart</td>\n",
       "      <td>smart</td>\n",
       "      <td>500</td>\n",
       "      <td>3</td>\n",
       "    </tr>\n",
       "    <tr>\n",
       "      <th>2</th>\n",
       "      <td>1002</td>\n",
       "      <td>NaN</td>\n",
       "      <td>NaN</td>\n",
       "      <td>NaN</td>\n",
       "      <td>NaN</td>\n",
       "      <td>NaN</td>\n",
       "      <td>117.0</td>\n",
       "      <td>214.0</td>\n",
       "      <td>289.0</td>\n",
       "      <td>206.0</td>\n",
       "      <td>212.0</td>\n",
       "      <td>243.0</td>\n",
       "      <td>236.0</td>\n",
       "      <td>smart</td>\n",
       "      <td>smart</td>\n",
       "      <td>500</td>\n",
       "      <td>3</td>\n",
       "    </tr>\n",
       "    <tr>\n",
       "      <th>3</th>\n",
       "      <td>1003</td>\n",
       "      <td>NaN</td>\n",
       "      <td>NaN</td>\n",
       "      <td>NaN</td>\n",
       "      <td>NaN</td>\n",
       "      <td>NaN</td>\n",
       "      <td>NaN</td>\n",
       "      <td>NaN</td>\n",
       "      <td>380.0</td>\n",
       "      <td>961.0</td>\n",
       "      <td>855.0</td>\n",
       "      <td>824.0</td>\n",
       "      <td>802.0</td>\n",
       "      <td>ultra</td>\n",
       "      <td>ultra</td>\n",
       "      <td>3000</td>\n",
       "      <td>1</td>\n",
       "    </tr>\n",
       "    <tr>\n",
       "      <th>4</th>\n",
       "      <td>1004</td>\n",
       "      <td>NaN</td>\n",
       "      <td>NaN</td>\n",
       "      <td>NaN</td>\n",
       "      <td>NaN</td>\n",
       "      <td>35.0</td>\n",
       "      <td>171.0</td>\n",
       "      <td>135.0</td>\n",
       "      <td>137.0</td>\n",
       "      <td>117.0</td>\n",
       "      <td>145.0</td>\n",
       "      <td>117.0</td>\n",
       "      <td>130.0</td>\n",
       "      <td>ultra</td>\n",
       "      <td>ultra</td>\n",
       "      <td>3000</td>\n",
       "      <td>1</td>\n",
       "    </tr>\n",
       "  </tbody>\n",
       "</table>\n",
       "</div>"
      ],
      "text/plain": [
       "   user_id   1   2   3   4      5      6      7      8      9     10     11  \\\n",
       "0     1000 NaN NaN NaN NaN  159.0  172.0  340.0  408.0  466.0  350.0  338.0   \n",
       "1     1001 NaN NaN NaN NaN    NaN    NaN    NaN    NaN    NaN    NaN  430.0   \n",
       "2     1002 NaN NaN NaN NaN    NaN  117.0  214.0  289.0  206.0  212.0  243.0   \n",
       "3     1003 NaN NaN NaN NaN    NaN    NaN    NaN  380.0  961.0  855.0  824.0   \n",
       "4     1004 NaN NaN NaN NaN   35.0  171.0  135.0  137.0  117.0  145.0  117.0   \n",
       "\n",
       "      12 tariff tariff_name  minutes_included  rub_per_minute  \n",
       "0  333.0  ultra       ultra              3000               1  \n",
       "1  414.0  smart       smart               500               3  \n",
       "2  236.0  smart       smart               500               3  \n",
       "3  802.0  ultra       ultra              3000               1  \n",
       "4  130.0  ultra       ultra              3000               1  "
      ]
     },
     "execution_count": 995,
     "metadata": {},
     "output_type": "execute_result"
    }
   ],
   "source": [
    "pivot_calls_by_month.head()"
   ]
  },
  {
   "cell_type": "code",
   "execution_count": 996,
   "id": "60095961",
   "metadata": {},
   "outputs": [],
   "source": [
    "# Создадим функцию для расчета количества израсходованных минут в месяц\n",
    "# Расчитаем стоимость платных звонков\n",
    "def calls_income_counter (df):\n",
    "    for i in range(12):\n",
    "        if (df['minutes_included'] - df[i+1]) >= 0:\n",
    "            df[i+1] = 0\n",
    "        else: \n",
    "            df[i+1] = (df[i+1] - df['minutes_included']) * df['rub_per_minute']\n",
    "    return df"
   ]
  },
  {
   "cell_type": "code",
   "execution_count": 997,
   "id": "df21161f",
   "metadata": {},
   "outputs": [],
   "source": [
    "# Применим функцию к датафрейму\n",
    "calls_income = pivot_calls_by_month.apply(calls_income_counter, axis=1)"
   ]
  },
  {
   "cell_type": "code",
   "execution_count": 998,
   "id": "0096ad17",
   "metadata": {},
   "outputs": [],
   "source": [
    "# Уберем вспомогательные колонки используемые в расчете\n",
    "calls_income = calls_income.drop(columns=['tariff', 'tariff_name', 'minutes_included', 'rub_per_minute'])"
   ]
  },
  {
   "cell_type": "code",
   "execution_count": 999,
   "id": "41e57886",
   "metadata": {},
   "outputs": [],
   "source": [
    "#Добавим всех пользователей, т.к. в исходной, только те, кто пользовался связью\n",
    "calls_income = calls_income.merge(df['user_id'], how='right', on='user_id').sort_values(by='user_id')\n",
    "#Установим user_id как индекс\n",
    "calls_income = calls_income.set_index('user_id')"
   ]
  },
  {
   "cell_type": "code",
   "execution_count": 1000,
   "id": "f50c47b2",
   "metadata": {},
   "outputs": [
    {
     "data": {
      "text/html": [
       "<div>\n",
       "<style scoped>\n",
       "    .dataframe tbody tr th:only-of-type {\n",
       "        vertical-align: middle;\n",
       "    }\n",
       "\n",
       "    .dataframe tbody tr th {\n",
       "        vertical-align: top;\n",
       "    }\n",
       "\n",
       "    .dataframe thead th {\n",
       "        text-align: right;\n",
       "    }\n",
       "</style>\n",
       "<table border=\"1\" class=\"dataframe\">\n",
       "  <thead>\n",
       "    <tr style=\"text-align: right;\">\n",
       "      <th></th>\n",
       "      <th>1</th>\n",
       "      <th>2</th>\n",
       "      <th>3</th>\n",
       "      <th>4</th>\n",
       "      <th>5</th>\n",
       "      <th>6</th>\n",
       "      <th>7</th>\n",
       "      <th>8</th>\n",
       "      <th>9</th>\n",
       "      <th>10</th>\n",
       "      <th>11</th>\n",
       "      <th>12</th>\n",
       "    </tr>\n",
       "    <tr>\n",
       "      <th>user_id</th>\n",
       "      <th></th>\n",
       "      <th></th>\n",
       "      <th></th>\n",
       "      <th></th>\n",
       "      <th></th>\n",
       "      <th></th>\n",
       "      <th></th>\n",
       "      <th></th>\n",
       "      <th></th>\n",
       "      <th></th>\n",
       "      <th></th>\n",
       "      <th></th>\n",
       "    </tr>\n",
       "  </thead>\n",
       "  <tbody>\n",
       "    <tr>\n",
       "      <th>1000</th>\n",
       "      <td>NaN</td>\n",
       "      <td>NaN</td>\n",
       "      <td>NaN</td>\n",
       "      <td>NaN</td>\n",
       "      <td>0.0</td>\n",
       "      <td>0.0</td>\n",
       "      <td>0.0</td>\n",
       "      <td>0.0</td>\n",
       "      <td>0.0</td>\n",
       "      <td>0.0</td>\n",
       "      <td>0.0</td>\n",
       "      <td>0.0</td>\n",
       "    </tr>\n",
       "    <tr>\n",
       "      <th>1000</th>\n",
       "      <td>NaN</td>\n",
       "      <td>NaN</td>\n",
       "      <td>NaN</td>\n",
       "      <td>NaN</td>\n",
       "      <td>0.0</td>\n",
       "      <td>0.0</td>\n",
       "      <td>0.0</td>\n",
       "      <td>0.0</td>\n",
       "      <td>0.0</td>\n",
       "      <td>0.0</td>\n",
       "      <td>0.0</td>\n",
       "      <td>0.0</td>\n",
       "    </tr>\n",
       "    <tr>\n",
       "      <th>1000</th>\n",
       "      <td>NaN</td>\n",
       "      <td>NaN</td>\n",
       "      <td>NaN</td>\n",
       "      <td>NaN</td>\n",
       "      <td>0.0</td>\n",
       "      <td>0.0</td>\n",
       "      <td>0.0</td>\n",
       "      <td>0.0</td>\n",
       "      <td>0.0</td>\n",
       "      <td>0.0</td>\n",
       "      <td>0.0</td>\n",
       "      <td>0.0</td>\n",
       "    </tr>\n",
       "    <tr>\n",
       "      <th>1000</th>\n",
       "      <td>NaN</td>\n",
       "      <td>NaN</td>\n",
       "      <td>NaN</td>\n",
       "      <td>NaN</td>\n",
       "      <td>0.0</td>\n",
       "      <td>0.0</td>\n",
       "      <td>0.0</td>\n",
       "      <td>0.0</td>\n",
       "      <td>0.0</td>\n",
       "      <td>0.0</td>\n",
       "      <td>0.0</td>\n",
       "      <td>0.0</td>\n",
       "    </tr>\n",
       "    <tr>\n",
       "      <th>1000</th>\n",
       "      <td>NaN</td>\n",
       "      <td>NaN</td>\n",
       "      <td>NaN</td>\n",
       "      <td>NaN</td>\n",
       "      <td>0.0</td>\n",
       "      <td>0.0</td>\n",
       "      <td>0.0</td>\n",
       "      <td>0.0</td>\n",
       "      <td>0.0</td>\n",
       "      <td>0.0</td>\n",
       "      <td>0.0</td>\n",
       "      <td>0.0</td>\n",
       "    </tr>\n",
       "  </tbody>\n",
       "</table>\n",
       "</div>"
      ],
      "text/plain": [
       "         1   2   3   4    5    6    7    8    9    10   11   12\n",
       "user_id                                                        \n",
       "1000    NaN NaN NaN NaN  0.0  0.0  0.0  0.0  0.0  0.0  0.0  0.0\n",
       "1000    NaN NaN NaN NaN  0.0  0.0  0.0  0.0  0.0  0.0  0.0  0.0\n",
       "1000    NaN NaN NaN NaN  0.0  0.0  0.0  0.0  0.0  0.0  0.0  0.0\n",
       "1000    NaN NaN NaN NaN  0.0  0.0  0.0  0.0  0.0  0.0  0.0  0.0\n",
       "1000    NaN NaN NaN NaN  0.0  0.0  0.0  0.0  0.0  0.0  0.0  0.0"
      ]
     },
     "execution_count": 1000,
     "metadata": {},
     "output_type": "execute_result"
    }
   ],
   "source": [
    "calls_income.head()"
   ]
  },
  {
   "cell_type": "markdown",
   "id": "fbc758b5",
   "metadata": {},
   "source": [
    "Расчитаем плату за сообщения"
   ]
  },
  {
   "cell_type": "code",
   "execution_count": 1001,
   "id": "484f26f7",
   "metadata": {},
   "outputs": [],
   "source": [
    "pivot_messages_by_month = df_messages.pivot_table(index='user_id', \n",
    "                                                  columns='month', \n",
    "                                                  values='message_date', \n",
    "                                                  aggfunc=('count'))"
   ]
  },
  {
   "cell_type": "code",
   "execution_count": 1002,
   "id": "94695acc",
   "metadata": {},
   "outputs": [],
   "source": [
    "# Добавим в таблицу вспомогательные столбцы \n",
    "pivot_messages_by_month = pivot_messages_by_month.merge(df_users[['tariff', 'user_id']], how='left', on='user_id')\n",
    "\n",
    "pivot_messages_by_month = pivot_messages_by_month.merge(df_tariffs[['tariff_name', 'messages_included', 'rub_per_message']],\n",
    "                                        how='left', left_on='tariff', right_on='tariff_name')"
   ]
  },
  {
   "cell_type": "code",
   "execution_count": 1003,
   "id": "9337846b",
   "metadata": {},
   "outputs": [],
   "source": [
    "# Создадим функцию, определяющую количесто израсходованных сообщений\n",
    "def messages_income_counter (df):\n",
    "    for i in range(12):\n",
    "        if (df['messages_included'] - df[i+1]) >= 0:\n",
    "            df[i+1] = 0\n",
    "        else: \n",
    "            df[i+1] = (df[i+1] - df['messages_included']) * df['rub_per_message']\n",
    "    return df"
   ]
  },
  {
   "cell_type": "code",
   "execution_count": 1004,
   "id": "5519b581",
   "metadata": {},
   "outputs": [],
   "source": [
    "messages_income = pivot_messages_by_month.apply(messages_income_counter, axis=1)"
   ]
  },
  {
   "cell_type": "code",
   "execution_count": 1005,
   "id": "0344398d",
   "metadata": {},
   "outputs": [],
   "source": [
    "# Добавим всех пользователей\n",
    "messages_income = messages_income.merge(df_users['user_id'], how='right', on='user_id').sort_values(by='user_id')\n",
    "#У становим индекс \n",
    "messages_income = messages_income.set_index('user_id')"
   ]
  },
  {
   "cell_type": "code",
   "execution_count": 1006,
   "id": "85472911",
   "metadata": {},
   "outputs": [],
   "source": [
    "# Удалим лишние столбцы\n",
    "messages_income = messages_income.drop(columns=['tariff', 'tariff_name', 'messages_included', 'rub_per_message'])"
   ]
  },
  {
   "cell_type": "code",
   "execution_count": 1007,
   "id": "b696e3ce",
   "metadata": {},
   "outputs": [
    {
     "data": {
      "text/html": [
       "<div>\n",
       "<style scoped>\n",
       "    .dataframe tbody tr th:only-of-type {\n",
       "        vertical-align: middle;\n",
       "    }\n",
       "\n",
       "    .dataframe tbody tr th {\n",
       "        vertical-align: top;\n",
       "    }\n",
       "\n",
       "    .dataframe thead th {\n",
       "        text-align: right;\n",
       "    }\n",
       "</style>\n",
       "<table border=\"1\" class=\"dataframe\">\n",
       "  <thead>\n",
       "    <tr style=\"text-align: right;\">\n",
       "      <th></th>\n",
       "      <th>1</th>\n",
       "      <th>2</th>\n",
       "      <th>3</th>\n",
       "      <th>4</th>\n",
       "      <th>5</th>\n",
       "      <th>6</th>\n",
       "      <th>7</th>\n",
       "      <th>8</th>\n",
       "      <th>9</th>\n",
       "      <th>10</th>\n",
       "      <th>11</th>\n",
       "      <th>12</th>\n",
       "    </tr>\n",
       "    <tr>\n",
       "      <th>user_id</th>\n",
       "      <th></th>\n",
       "      <th></th>\n",
       "      <th></th>\n",
       "      <th></th>\n",
       "      <th></th>\n",
       "      <th></th>\n",
       "      <th></th>\n",
       "      <th></th>\n",
       "      <th></th>\n",
       "      <th></th>\n",
       "      <th></th>\n",
       "      <th></th>\n",
       "    </tr>\n",
       "  </thead>\n",
       "  <tbody>\n",
       "    <tr>\n",
       "      <th>1000</th>\n",
       "      <td>NaN</td>\n",
       "      <td>NaN</td>\n",
       "      <td>NaN</td>\n",
       "      <td>NaN</td>\n",
       "      <td>0.0</td>\n",
       "      <td>0.0</td>\n",
       "      <td>0.0</td>\n",
       "      <td>0.0</td>\n",
       "      <td>0.0</td>\n",
       "      <td>0.0</td>\n",
       "      <td>0.0</td>\n",
       "      <td>0.0</td>\n",
       "    </tr>\n",
       "    <tr>\n",
       "      <th>1001</th>\n",
       "      <td>NaN</td>\n",
       "      <td>NaN</td>\n",
       "      <td>NaN</td>\n",
       "      <td>NaN</td>\n",
       "      <td>NaN</td>\n",
       "      <td>NaN</td>\n",
       "      <td>NaN</td>\n",
       "      <td>NaN</td>\n",
       "      <td>NaN</td>\n",
       "      <td>NaN</td>\n",
       "      <td>NaN</td>\n",
       "      <td>NaN</td>\n",
       "    </tr>\n",
       "    <tr>\n",
       "      <th>1002</th>\n",
       "      <td>NaN</td>\n",
       "      <td>NaN</td>\n",
       "      <td>NaN</td>\n",
       "      <td>NaN</td>\n",
       "      <td>NaN</td>\n",
       "      <td>0.0</td>\n",
       "      <td>0.0</td>\n",
       "      <td>0.0</td>\n",
       "      <td>0.0</td>\n",
       "      <td>0.0</td>\n",
       "      <td>0.0</td>\n",
       "      <td>0.0</td>\n",
       "    </tr>\n",
       "    <tr>\n",
       "      <th>1003</th>\n",
       "      <td>NaN</td>\n",
       "      <td>NaN</td>\n",
       "      <td>NaN</td>\n",
       "      <td>NaN</td>\n",
       "      <td>NaN</td>\n",
       "      <td>NaN</td>\n",
       "      <td>NaN</td>\n",
       "      <td>0.0</td>\n",
       "      <td>0.0</td>\n",
       "      <td>0.0</td>\n",
       "      <td>0.0</td>\n",
       "      <td>0.0</td>\n",
       "    </tr>\n",
       "    <tr>\n",
       "      <th>1004</th>\n",
       "      <td>NaN</td>\n",
       "      <td>NaN</td>\n",
       "      <td>NaN</td>\n",
       "      <td>NaN</td>\n",
       "      <td>0.0</td>\n",
       "      <td>0.0</td>\n",
       "      <td>0.0</td>\n",
       "      <td>0.0</td>\n",
       "      <td>0.0</td>\n",
       "      <td>0.0</td>\n",
       "      <td>0.0</td>\n",
       "      <td>0.0</td>\n",
       "    </tr>\n",
       "  </tbody>\n",
       "</table>\n",
       "</div>"
      ],
      "text/plain": [
       "         1   2   3   4    5    6    7    8    9    10   11   12\n",
       "user_id                                                        \n",
       "1000    NaN NaN NaN NaN  0.0  0.0  0.0  0.0  0.0  0.0  0.0  0.0\n",
       "1001    NaN NaN NaN NaN  NaN  NaN  NaN  NaN  NaN  NaN  NaN  NaN\n",
       "1002    NaN NaN NaN NaN  NaN  0.0  0.0  0.0  0.0  0.0  0.0  0.0\n",
       "1003    NaN NaN NaN NaN  NaN  NaN  NaN  0.0  0.0  0.0  0.0  0.0\n",
       "1004    NaN NaN NaN NaN  0.0  0.0  0.0  0.0  0.0  0.0  0.0  0.0"
      ]
     },
     "execution_count": 1007,
     "metadata": {},
     "output_type": "execute_result"
    }
   ],
   "source": [
    "messages_income.head()"
   ]
  },
  {
   "cell_type": "markdown",
   "id": "fe7abd60",
   "metadata": {},
   "source": [
    "Расчитаем плату за трафик"
   ]
  },
  {
   "cell_type": "code",
   "execution_count": 1008,
   "id": "00d1d207",
   "metadata": {},
   "outputs": [],
   "source": [
    "# Сгруппируем сообщения по месяцам\n",
    "pivot_internet_by_month = internet_by_month.pivot_table(index='user_id', \n",
    "                                                        columns='month', \n",
    "                                                        values='mb_used', \n",
    "                                                        aggfunc=('sum'))"
   ]
  },
  {
   "cell_type": "code",
   "execution_count": 1009,
   "id": "22628b74",
   "metadata": {},
   "outputs": [],
   "source": [
    "# Добавим в таблицу вспомогательные столбцы \n",
    "pivot_internet_by_month = pivot_internet_by_month.merge(df_users[['tariff', 'user_id']], \n",
    "                                                        how='left', \n",
    "                                                        on='user_id')\n",
    "pivot_internet_by_month = pivot_internet_by_month.merge(df_tariffs[['tariff_name', 'mb_per_month_included', 'rub_per_gb']],\n",
    "                                                        how='left', \n",
    "                                                        left_on='tariff', \n",
    "                                                        right_on='tariff_name')"
   ]
  },
  {
   "cell_type": "code",
   "execution_count": 1010,
   "id": "8d2c5ce8",
   "metadata": {},
   "outputs": [],
   "source": [
    "#Создадим функцию\n",
    "def traffic_income_counter (df):\n",
    "    for i in range(12):\n",
    "        if (df['mb_per_month_included'] - df[i+1]) >= 0:\n",
    "            df[i+1] = 0\n",
    "        else: \n",
    "            df[i+1] = np.ceil((df[i+1] - df['mb_per_month_included'])/ 1024) * df['rub_per_gb']\n",
    "    return df"
   ]
  },
  {
   "cell_type": "code",
   "execution_count": 1011,
   "id": "3bd31716",
   "metadata": {},
   "outputs": [],
   "source": [
    "#Применим функцию\n",
    "traffic_income = pivot_internet_by_month.apply(traffic_income_counter, axis=1)"
   ]
  },
  {
   "cell_type": "code",
   "execution_count": 1012,
   "id": "a666164f",
   "metadata": {},
   "outputs": [],
   "source": [
    "traffic_income = traffic_income.drop(columns=['tariff', 'tariff_name', 'mb_per_month_included', 'rub_per_gb'])"
   ]
  },
  {
   "cell_type": "code",
   "execution_count": 1013,
   "id": "b0ef9316",
   "metadata": {},
   "outputs": [],
   "source": [
    "traffic_income = traffic_income.merge(df_users['user_id'], how='right', on='user_id').sort_values(by='user_id')"
   ]
  },
  {
   "cell_type": "code",
   "execution_count": 1014,
   "id": "e72c6c8f",
   "metadata": {},
   "outputs": [],
   "source": [
    "traffic_income = traffic_income.set_index('user_id')"
   ]
  },
  {
   "cell_type": "code",
   "execution_count": 1015,
   "id": "a9cd5954",
   "metadata": {},
   "outputs": [
    {
     "data": {
      "text/html": [
       "<div>\n",
       "<style scoped>\n",
       "    .dataframe tbody tr th:only-of-type {\n",
       "        vertical-align: middle;\n",
       "    }\n",
       "\n",
       "    .dataframe tbody tr th {\n",
       "        vertical-align: top;\n",
       "    }\n",
       "\n",
       "    .dataframe thead th {\n",
       "        text-align: right;\n",
       "    }\n",
       "</style>\n",
       "<table border=\"1\" class=\"dataframe\">\n",
       "  <thead>\n",
       "    <tr style=\"text-align: right;\">\n",
       "      <th></th>\n",
       "      <th>1</th>\n",
       "      <th>2</th>\n",
       "      <th>3</th>\n",
       "      <th>4</th>\n",
       "      <th>5</th>\n",
       "      <th>6</th>\n",
       "      <th>7</th>\n",
       "      <th>8</th>\n",
       "      <th>9</th>\n",
       "      <th>10</th>\n",
       "      <th>11</th>\n",
       "      <th>12</th>\n",
       "    </tr>\n",
       "    <tr>\n",
       "      <th>user_id</th>\n",
       "      <th></th>\n",
       "      <th></th>\n",
       "      <th></th>\n",
       "      <th></th>\n",
       "      <th></th>\n",
       "      <th></th>\n",
       "      <th></th>\n",
       "      <th></th>\n",
       "      <th></th>\n",
       "      <th></th>\n",
       "      <th></th>\n",
       "      <th></th>\n",
       "    </tr>\n",
       "  </thead>\n",
       "  <tbody>\n",
       "    <tr>\n",
       "      <th>1000</th>\n",
       "      <td>NaN</td>\n",
       "      <td>NaN</td>\n",
       "      <td>NaN</td>\n",
       "      <td>NaN</td>\n",
       "      <td>0.0</td>\n",
       "      <td>0.0</td>\n",
       "      <td>0.0</td>\n",
       "      <td>0.0</td>\n",
       "      <td>0.0</td>\n",
       "      <td>0.0</td>\n",
       "      <td>0.0</td>\n",
       "      <td>0.0</td>\n",
       "    </tr>\n",
       "    <tr>\n",
       "      <th>1001</th>\n",
       "      <td>NaN</td>\n",
       "      <td>NaN</td>\n",
       "      <td>NaN</td>\n",
       "      <td>NaN</td>\n",
       "      <td>NaN</td>\n",
       "      <td>NaN</td>\n",
       "      <td>NaN</td>\n",
       "      <td>NaN</td>\n",
       "      <td>NaN</td>\n",
       "      <td>NaN</td>\n",
       "      <td>800.0</td>\n",
       "      <td>0.0</td>\n",
       "    </tr>\n",
       "    <tr>\n",
       "      <th>1002</th>\n",
       "      <td>NaN</td>\n",
       "      <td>NaN</td>\n",
       "      <td>NaN</td>\n",
       "      <td>NaN</td>\n",
       "      <td>NaN</td>\n",
       "      <td>0.0</td>\n",
       "      <td>600.0</td>\n",
       "      <td>1000.0</td>\n",
       "      <td>400.0</td>\n",
       "      <td>0.0</td>\n",
       "      <td>800.0</td>\n",
       "      <td>600.0</td>\n",
       "    </tr>\n",
       "    <tr>\n",
       "      <th>1003</th>\n",
       "      <td>NaN</td>\n",
       "      <td>NaN</td>\n",
       "      <td>NaN</td>\n",
       "      <td>NaN</td>\n",
       "      <td>NaN</td>\n",
       "      <td>NaN</td>\n",
       "      <td>NaN</td>\n",
       "      <td>0.0</td>\n",
       "      <td>0.0</td>\n",
       "      <td>0.0</td>\n",
       "      <td>0.0</td>\n",
       "      <td>0.0</td>\n",
       "    </tr>\n",
       "    <tr>\n",
       "      <th>1004</th>\n",
       "      <td>NaN</td>\n",
       "      <td>NaN</td>\n",
       "      <td>NaN</td>\n",
       "      <td>NaN</td>\n",
       "      <td>0.0</td>\n",
       "      <td>0.0</td>\n",
       "      <td>0.0</td>\n",
       "      <td>0.0</td>\n",
       "      <td>0.0</td>\n",
       "      <td>0.0</td>\n",
       "      <td>0.0</td>\n",
       "      <td>0.0</td>\n",
       "    </tr>\n",
       "  </tbody>\n",
       "</table>\n",
       "</div>"
      ],
      "text/plain": [
       "         1   2   3   4    5    6      7       8      9    10     11     12\n",
       "user_id                                                                   \n",
       "1000    NaN NaN NaN NaN  0.0  0.0    0.0     0.0    0.0  0.0    0.0    0.0\n",
       "1001    NaN NaN NaN NaN  NaN  NaN    NaN     NaN    NaN  NaN  800.0    0.0\n",
       "1002    NaN NaN NaN NaN  NaN  0.0  600.0  1000.0  400.0  0.0  800.0  600.0\n",
       "1003    NaN NaN NaN NaN  NaN  NaN    NaN     0.0    0.0  0.0    0.0    0.0\n",
       "1004    NaN NaN NaN NaN  0.0  0.0    0.0     0.0    0.0  0.0    0.0    0.0"
      ]
     },
     "execution_count": 1015,
     "metadata": {},
     "output_type": "execute_result"
    }
   ],
   "source": [
    "traffic_income.head()"
   ]
  },
  {
   "cell_type": "markdown",
   "id": "d20a98c2",
   "metadata": {},
   "source": [
    "Посчитаем прибыль от абонентской платы"
   ]
  },
  {
   "cell_type": "code",
   "execution_count": 1016,
   "id": "6138b123",
   "metadata": {},
   "outputs": [],
   "source": [
    "# Выделим в отдельный столбец номер месяца начала и окончания пользования тарифом \n",
    "df_users['reg_month'] = pd.DatetimeIndex(df_users['reg_date']).month\n",
    "df_users['churn_month'] = pd.DatetimeIndex(df_users['churn_date']).month "
   ]
  },
  {
   "cell_type": "code",
   "execution_count": 1017,
   "id": "c0973f29",
   "metadata": {},
   "outputs": [],
   "source": [
    "# Создадим таблицу с месяцем регистрации и разбивкой по месяцам \n",
    "df_users_pivot = df_users.pivot_table(index='user_id', columns='reg_month', values=('reg_date'), aggfunc=('count'))\n",
    "# Для тех абонентов, которые не прекратили пользоваться связью в текущем году, установим номер месяца больше 12-го (13)\n",
    "df_users['churn_month'] = df_users['churn_month'].fillna(13)"
   ]
  },
  {
   "cell_type": "code",
   "execution_count": 1018,
   "id": "2aba035d",
   "metadata": {},
   "outputs": [],
   "source": [
    "# Добавим колонки для расчета стоимости абонентской платы\n",
    "df_users_pivot = df_users_pivot\\\n",
    "    .merge(df_users[['reg_month', 'churn_month', 'user_id', 'tariff']], how='left', on='user_id')\n",
    "\n",
    "df_users_pivot = df_users_pivot\\\n",
    "    .merge(df_tariffs[['tariff_name', 'rub_monthly_fee']], how='left', left_on='tariff', right_on='tariff_name')"
   ]
  },
  {
   "cell_type": "code",
   "execution_count": 1019,
   "id": "627b67c9",
   "metadata": {},
   "outputs": [],
   "source": [
    "# Создадим функцию определяющую для каждого месяца аб. плату\n",
    "def fee_incom_counter (df):\n",
    "    for i in range(12):\n",
    "        if (i+1 >= df['reg_month']) & (i+1 <= df['churn_month']): \n",
    "            df[i+1] = df['rub_monthly_fee']\n",
    "        else:\n",
    "            df[i+1] = 0\n",
    "    return df"
   ]
  },
  {
   "cell_type": "code",
   "execution_count": 1020,
   "id": "857ab71e",
   "metadata": {},
   "outputs": [],
   "source": [
    "# Применим функцию для заполнения таблицы, сохраним в новую переменную\n",
    "fee_income = df_users_pivot.apply(fee_incom_counter, axis=1)\n",
    "fee_income = fee_income.drop(columns=['reg_month', 'churn_month', 'tariff', 'tariff_name', 'rub_monthly_fee'])\n",
    "fee_income = fee_income.set_index('user_id')"
   ]
  },
  {
   "cell_type": "code",
   "execution_count": 1021,
   "id": "a6239fbf",
   "metadata": {},
   "outputs": [],
   "source": [
    "# Заменим пропуски на нули\n",
    "total_income = fee_income.fillna(0) + traffic_income.fillna(0) + calls_income.fillna(0) + messages_income.fillna(0)\n",
    "total_income = total_income.astype(int)"
   ]
  },
  {
   "cell_type": "code",
   "execution_count": 1022,
   "id": "e85d46df",
   "metadata": {},
   "outputs": [],
   "source": [
    "#Вернем значения Nan для месяцев где пользователь не использовал связь\n",
    "for x in total_income.columns:\n",
    "    total_income.loc[total_income[x] == 0, x] = np.nan"
   ]
  },
  {
   "cell_type": "code",
   "execution_count": 1023,
   "id": "db790544",
   "metadata": {},
   "outputs": [
    {
     "data": {
      "text/html": [
       "<div>\n",
       "<style scoped>\n",
       "    .dataframe tbody tr th:only-of-type {\n",
       "        vertical-align: middle;\n",
       "    }\n",
       "\n",
       "    .dataframe tbody tr th {\n",
       "        vertical-align: top;\n",
       "    }\n",
       "\n",
       "    .dataframe thead th {\n",
       "        text-align: right;\n",
       "    }\n",
       "</style>\n",
       "<table border=\"1\" class=\"dataframe\">\n",
       "  <thead>\n",
       "    <tr style=\"text-align: right;\">\n",
       "      <th></th>\n",
       "      <th>1</th>\n",
       "      <th>2</th>\n",
       "      <th>3</th>\n",
       "      <th>4</th>\n",
       "      <th>5</th>\n",
       "      <th>6</th>\n",
       "      <th>7</th>\n",
       "      <th>8</th>\n",
       "      <th>9</th>\n",
       "      <th>10</th>\n",
       "      <th>11</th>\n",
       "      <th>12</th>\n",
       "    </tr>\n",
       "    <tr>\n",
       "      <th>user_id</th>\n",
       "      <th></th>\n",
       "      <th></th>\n",
       "      <th></th>\n",
       "      <th></th>\n",
       "      <th></th>\n",
       "      <th></th>\n",
       "      <th></th>\n",
       "      <th></th>\n",
       "      <th></th>\n",
       "      <th></th>\n",
       "      <th></th>\n",
       "      <th></th>\n",
       "    </tr>\n",
       "  </thead>\n",
       "  <tbody>\n",
       "    <tr>\n",
       "      <th>1000</th>\n",
       "      <td>NaN</td>\n",
       "      <td>NaN</td>\n",
       "      <td>NaN</td>\n",
       "      <td>NaN</td>\n",
       "      <td>1950.0</td>\n",
       "      <td>1950.0</td>\n",
       "      <td>1950.0</td>\n",
       "      <td>1950.0</td>\n",
       "      <td>1950.0</td>\n",
       "      <td>1950.0</td>\n",
       "      <td>1950.0</td>\n",
       "      <td>1950.0</td>\n",
       "    </tr>\n",
       "    <tr>\n",
       "      <th>1000</th>\n",
       "      <td>NaN</td>\n",
       "      <td>NaN</td>\n",
       "      <td>NaN</td>\n",
       "      <td>NaN</td>\n",
       "      <td>1950.0</td>\n",
       "      <td>1950.0</td>\n",
       "      <td>1950.0</td>\n",
       "      <td>1950.0</td>\n",
       "      <td>1950.0</td>\n",
       "      <td>1950.0</td>\n",
       "      <td>1950.0</td>\n",
       "      <td>1950.0</td>\n",
       "    </tr>\n",
       "    <tr>\n",
       "      <th>1000</th>\n",
       "      <td>NaN</td>\n",
       "      <td>NaN</td>\n",
       "      <td>NaN</td>\n",
       "      <td>NaN</td>\n",
       "      <td>1950.0</td>\n",
       "      <td>1950.0</td>\n",
       "      <td>1950.0</td>\n",
       "      <td>1950.0</td>\n",
       "      <td>1950.0</td>\n",
       "      <td>1950.0</td>\n",
       "      <td>1950.0</td>\n",
       "      <td>1950.0</td>\n",
       "    </tr>\n",
       "    <tr>\n",
       "      <th>1000</th>\n",
       "      <td>NaN</td>\n",
       "      <td>NaN</td>\n",
       "      <td>NaN</td>\n",
       "      <td>NaN</td>\n",
       "      <td>1950.0</td>\n",
       "      <td>1950.0</td>\n",
       "      <td>1950.0</td>\n",
       "      <td>1950.0</td>\n",
       "      <td>1950.0</td>\n",
       "      <td>1950.0</td>\n",
       "      <td>1950.0</td>\n",
       "      <td>1950.0</td>\n",
       "    </tr>\n",
       "    <tr>\n",
       "      <th>1000</th>\n",
       "      <td>NaN</td>\n",
       "      <td>NaN</td>\n",
       "      <td>NaN</td>\n",
       "      <td>NaN</td>\n",
       "      <td>1950.0</td>\n",
       "      <td>1950.0</td>\n",
       "      <td>1950.0</td>\n",
       "      <td>1950.0</td>\n",
       "      <td>1950.0</td>\n",
       "      <td>1950.0</td>\n",
       "      <td>1950.0</td>\n",
       "      <td>1950.0</td>\n",
       "    </tr>\n",
       "  </tbody>\n",
       "</table>\n",
       "</div>"
      ],
      "text/plain": [
       "         1   2   3   4       5       6       7       8       9       10  \\\n",
       "user_id                                                                   \n",
       "1000    NaN NaN NaN NaN  1950.0  1950.0  1950.0  1950.0  1950.0  1950.0   \n",
       "1000    NaN NaN NaN NaN  1950.0  1950.0  1950.0  1950.0  1950.0  1950.0   \n",
       "1000    NaN NaN NaN NaN  1950.0  1950.0  1950.0  1950.0  1950.0  1950.0   \n",
       "1000    NaN NaN NaN NaN  1950.0  1950.0  1950.0  1950.0  1950.0  1950.0   \n",
       "1000    NaN NaN NaN NaN  1950.0  1950.0  1950.0  1950.0  1950.0  1950.0   \n",
       "\n",
       "             11      12  \n",
       "user_id                  \n",
       "1000     1950.0  1950.0  \n",
       "1000     1950.0  1950.0  \n",
       "1000     1950.0  1950.0  \n",
       "1000     1950.0  1950.0  \n",
       "1000     1950.0  1950.0  "
      ]
     },
     "execution_count": 1023,
     "metadata": {},
     "output_type": "execute_result"
    }
   ],
   "source": [
    "total_income.head()"
   ]
  },
  {
   "cell_type": "markdown",
   "id": "d2bb0f8a",
   "metadata": {},
   "source": [
    "### 3. Проанализируем данные. \n",
    "Узнаем, сколько минут разговора, сколько сообщений и какой объём интернет-трафика требуется пользователям каждого тарифа в месяц."
   ]
  },
  {
   "cell_type": "code",
   "execution_count": 1053,
   "id": "3a02be66",
   "metadata": {},
   "outputs": [
    {
     "data": {
      "text/html": [
       "<div>\n",
       "<style scoped>\n",
       "    .dataframe tbody tr th:only-of-type {\n",
       "        vertical-align: middle;\n",
       "    }\n",
       "\n",
       "    .dataframe tbody tr th {\n",
       "        vertical-align: top;\n",
       "    }\n",
       "\n",
       "    .dataframe thead th {\n",
       "        text-align: right;\n",
       "    }\n",
       "</style>\n",
       "<table border=\"1\" class=\"dataframe\">\n",
       "  <thead>\n",
       "    <tr style=\"text-align: right;\">\n",
       "      <th></th>\n",
       "      <th>user_id</th>\n",
       "      <th>duration</th>\n",
       "    </tr>\n",
       "  </thead>\n",
       "  <tbody>\n",
       "    <tr>\n",
       "      <th>0</th>\n",
       "      <td>1000</td>\n",
       "      <td>320.750000</td>\n",
       "    </tr>\n",
       "    <tr>\n",
       "      <th>1</th>\n",
       "      <td>1001</td>\n",
       "      <td>422.000000</td>\n",
       "    </tr>\n",
       "    <tr>\n",
       "      <th>2</th>\n",
       "      <td>1002</td>\n",
       "      <td>216.714286</td>\n",
       "    </tr>\n",
       "    <tr>\n",
       "      <th>3</th>\n",
       "      <td>1003</td>\n",
       "      <td>764.400000</td>\n",
       "    </tr>\n",
       "    <tr>\n",
       "      <th>4</th>\n",
       "      <td>1004</td>\n",
       "      <td>123.375000</td>\n",
       "    </tr>\n",
       "  </tbody>\n",
       "</table>\n",
       "</div>"
      ],
      "text/plain": [
       "   user_id    duration\n",
       "0     1000  320.750000\n",
       "1     1001  422.000000\n",
       "2     1002  216.714286\n",
       "3     1003  764.400000\n",
       "4     1004  123.375000"
      ]
     },
     "execution_count": 1053,
     "metadata": {},
     "output_type": "execute_result"
    }
   ],
   "source": [
    "calls_by_month.groupby(['user_id'], as_index=False).agg({'duration': 'mean'}).head()"
   ]
  },
  {
   "cell_type": "code",
   "execution_count": 1025,
   "id": "69869bfb",
   "metadata": {},
   "outputs": [],
   "source": [
    "# Добавим название тарифа \n",
    "calls_by_month = calls_by_month.merge(df_users[['user_id', 'tariff']], how='left', on='user_id')"
   ]
  },
  {
   "cell_type": "code",
   "execution_count": 1056,
   "id": "63aaab5d",
   "metadata": {},
   "outputs": [],
   "source": [
    "# Отберем значения длительности звонков для тарифа \"Ультра\" и \"Смарт\"\n",
    "calls_duration_ultra = calls_by_month.query('tariff == \"ultra\"').duration.values\n",
    "calls_duration_smart = calls_by_month.query('tariff == \"smart\"').duration.values"
   ]
  },
  {
   "cell_type": "code",
   "execution_count": 1069,
   "id": "9b9de2cd",
   "metadata": {},
   "outputs": [
    {
     "data": {
      "text/plain": [
       "306.76"
      ]
     },
     "execution_count": 1069,
     "metadata": {},
     "output_type": "execute_result"
    }
   ],
   "source": [
    "# Среднеквадратическое отклонение длительности звонков для тарифа \"Ультра\"\n",
    "np.std(calls_duration_ultra).round(2)"
   ]
  },
  {
   "cell_type": "code",
   "execution_count": 1070,
   "id": "e81200f8",
   "metadata": {},
   "outputs": [
    {
     "data": {
      "text/plain": [
       "189.28"
      ]
     },
     "execution_count": 1070,
     "metadata": {},
     "output_type": "execute_result"
    }
   ],
   "source": [
    "# Среднеквадратическое отклонение длительности звонков для тарифа \"Смарт\"\n",
    "np.std(calls_duration_smart).round(2)"
   ]
  },
  {
   "cell_type": "code",
   "execution_count": 1068,
   "id": "0d627d3e",
   "metadata": {},
   "outputs": [
    {
     "data": {
      "text/plain": [
       "545.45"
      ]
     },
     "execution_count": 1068,
     "metadata": {},
     "output_type": "execute_result"
    }
   ],
   "source": [
    "# Среднее значение длительности звонков для тарифа \"Ультра\"\n",
    "np.mean(calls_duration_ultra).round(2)"
   ]
  },
  {
   "cell_type": "code",
   "execution_count": 1071,
   "id": "47d6a216",
   "metadata": {},
   "outputs": [
    {
     "data": {
      "text/plain": [
       "419.06"
      ]
     },
     "execution_count": 1071,
     "metadata": {},
     "output_type": "execute_result"
    }
   ],
   "source": [
    "# Среднее значение длительности звонков для тарифа \"Смарт\"\n",
    "np.mean(calls_duration_smart).round(2)"
   ]
  },
  {
   "cell_type": "code",
   "execution_count": 1088,
   "id": "fd5735c0",
   "metadata": {},
   "outputs": [
    {
     "data": {
      "text/plain": [
       "23.17"
      ]
     },
     "execution_count": 1088,
     "metadata": {},
     "output_type": "execute_result"
    }
   ],
   "source": [
    "# Посмотрим разницу в %\n",
    "round((545.45 - 419.06) * 100 / 545.45, 2)"
   ]
  },
  {
   "cell_type": "code",
   "execution_count": 1072,
   "id": "b5bce83a",
   "metadata": {},
   "outputs": [
    {
     "data": {
      "text/plain": [
       "94104.36"
      ]
     },
     "execution_count": 1072,
     "metadata": {},
     "output_type": "execute_result"
    }
   ],
   "source": [
    "# Дисперсия длительности звонков для тарифа \"Ультра\"\n",
    "np.var(calls_duration_ultra).round(2)"
   ]
  },
  {
   "cell_type": "code",
   "execution_count": 1073,
   "id": "c64e25be",
   "metadata": {},
   "outputs": [
    {
     "data": {
      "text/plain": [
       "35828.07"
      ]
     },
     "execution_count": 1073,
     "metadata": {},
     "output_type": "execute_result"
    }
   ],
   "source": [
    "# Дисперсия длительности звонков для тарифа \"Смарт\"\n",
    "np.var(calls_duration_smart).round(2)"
   ]
  },
  {
   "cell_type": "code",
   "execution_count": 1065,
   "id": "35ba9296",
   "metadata": {},
   "outputs": [
    {
     "data": {
      "image/png": "[encoded data removed]",
      "text/plain": [
       "<Figure size 576x360 with 1 Axes>"
      ]
     },
     "metadata": {},
     "output_type": "display_data"
    }
   ],
   "source": [
    "sns_plot = sns.distplot(calls_duration_ultra)\n",
    "fig = sns_plot.get_figure()\n",
    "fig.suptitle('Среднее количество использованных минут в месяц для тарифа \"Ультра\"');"
   ]
  },
  {
   "cell_type": "code",
   "execution_count": 1066,
   "id": "eff02618",
   "metadata": {},
   "outputs": [
    {
     "data": {
      "image/png": "[encoded data removed]",
      "text/plain": [
       "<Figure size 576x360 with 1 Axes>"
      ]
     },
     "metadata": {},
     "output_type": "display_data"
    }
   ],
   "source": [
    "sns_plot = sns.distplot(calls_duration_smart)\n",
    "fig = sns_plot.get_figure()\n",
    "fig.suptitle('Среднее количество использованных минут в месяц для тарифа \"Смарт\"');"
   ]
  },
  {
   "cell_type": "markdown",
   "id": "6c0d52ca",
   "metadata": {},
   "source": [
    "Те же параметры посчитаем для сообщений и трафика"
   ]
  },
  {
   "cell_type": "code",
   "execution_count": 1031,
   "id": "74cffa09",
   "metadata": {},
   "outputs": [],
   "source": [
    "messages_by_month = messages_by_month.merge(df_users[['user_id', 'tariff']], how='left', on='user_id')"
   ]
  },
  {
   "cell_type": "code",
   "execution_count": 1081,
   "id": "b9eb1a9d",
   "metadata": {},
   "outputs": [
    {
     "name": "stdout",
     "output_type": "stream",
     "text": [
      "Среднеквадратическое отклонение количества сообщений для тарифа \"Ультра\" 45.9\n",
      "Среднеквадратическое отклонение количества сообщений для тарифа \"Смарт\" 26.78\n",
      "Среднее значение количества сообщений для тарифа \"Ультра\" 61.16\n",
      "Среднее значение количества сообщений для тарифа \"Смарт\" 38.72\n",
      "Дисперсия количества сообщений для тарифа \"Ультра\" 2107.01\n",
      "Дисперсия количества сообщений для тарифа \"Смарт\" 717.22\n"
     ]
    }
   ],
   "source": [
    "# Отберем значения для тарифа \"Ультра\" и \"Смарт\"\n",
    "messages_ultra = messages_by_month.query('tariff == \"ultra\"').messages_quantity.values\n",
    "messages_smart = messages_by_month.query('tariff == \"smart\"').messages_quantity.values\n",
    "\n",
    "# Среднеквадратическое отклонение количества сообщений для тарифа \"Ультра\"\n",
    "print('Среднеквадратическое отклонение количества сообщений для тарифа \"Ультра\"', np.std(messages_ultra).round(2))\n",
    "\n",
    "# Среднеквадратическое отклонение количества сообщений для тарифа \"Смарт\"\n",
    "print('Среднеквадратическое отклонение количества сообщений для тарифа \"Смарт\"', np.std(messages_smart).round(2))\n",
    "\n",
    "# Среднее значение количества сообщений для тарифа \"Ультра\"\n",
    "print('Среднее значение количества сообщений для тарифа \"Ультра\"', np.mean(messages_ultra).round(2))\n",
    "\n",
    "# Среднее значение количества сообщений для тарифа \"Смарт\"\n",
    "print('Среднее значение количества сообщений для тарифа \"Смарт\"', np.mean(messages_smart).round(2))\n",
    "\n",
    "# Дисперсия количества сообщений для тарифа \"Ультра\"\n",
    "print('Дисперсия количества сообщений для тарифа \"Ультра\"', np.var(messages_ultra).round(2))\n",
    "\n",
    "# Дисперсия количества сообщений для тарифа \"Смарт\"\n",
    "print('Дисперсия количества сообщений для тарифа \"Смарт\"', np.var(messages_smart).round(2))"
   ]
  },
  {
   "cell_type": "code",
   "execution_count": 1090,
   "id": "3ac1e018",
   "metadata": {},
   "outputs": [
    {
     "data": {
      "text/plain": [
       "37"
      ]
     },
     "execution_count": 1090,
     "metadata": {},
     "output_type": "execute_result"
    }
   ],
   "source": [
    "# Посмотрим, на сколько % отличаются средние\n",
    "round((61.16 - 38.72) * 100 / 61.16)"
   ]
  },
  {
   "cell_type": "code",
   "execution_count": 1082,
   "id": "0b6f43bf",
   "metadata": {},
   "outputs": [
    {
     "data": {
      "image/png": "[encoded data removed]",
      "text/plain": [
       "<Figure size 576x360 with 1 Axes>"
      ]
     },
     "metadata": {},
     "output_type": "display_data"
    }
   ],
   "source": [
    "sns_plot = sns.distplot(messages_ultra)\n",
    "fig = sns_plot.get_figure()\n",
    "fig.suptitle('Количество сообщений пользователя в месяц для тарифа \"Ультра\"');"
   ]
  },
  {
   "cell_type": "code",
   "execution_count": 1083,
   "id": "b2fef626",
   "metadata": {},
   "outputs": [
    {
     "data": {
      "image/png": "[encoded data removed]",
      "text/plain": [
       "<Figure size 576x360 with 1 Axes>"
      ]
     },
     "metadata": {},
     "output_type": "display_data"
    }
   ],
   "source": [
    "sns_plot = sns.distplot(messages_smart)\n",
    "fig = sns_plot.get_figure()\n",
    "fig.suptitle('Количество сообщений пользователя в месяц для тарифа \"Смарт\"');"
   ]
  },
  {
   "cell_type": "code",
   "execution_count": 1033,
   "id": "3b7ee757",
   "metadata": {},
   "outputs": [],
   "source": [
    "internet_by_month = internet_by_month.merge(df_users[['user_id', 'tariff']], how='left', on='user_id')"
   ]
  },
  {
   "cell_type": "code",
   "execution_count": 1084,
   "id": "ab157c06",
   "metadata": {},
   "outputs": [
    {
     "name": "stdout",
     "output_type": "stream",
     "text": [
      "Среднеквадратическое отклонение трафика для тарифа \"Ультра\" 9946.95\n",
      "Среднеквадратическое отклонение трафика для тарифа \"Смарт\" 5867.51\n",
      "Среднее значение трафика для тарифа \"Ультра\" 19686.77\n",
      "Среднее значение трафика для тарифа \"Смарт\" 16236.47\n",
      "Дисперсия трафика для тарифа \"Ультра\" 98941856.59\n",
      "Дисперсия трафика для тарифа \"Смарт\" 34427641.48\n"
     ]
    }
   ],
   "source": [
    "# Отберем значения для тарифа \"Ультра\" и \"Смарт\"\n",
    "internet_ultra = internet_by_month.query('tariff == \"ultra\"').mb_used.values\n",
    "internet_smart = internet_by_month.query('tariff == \"smart\"').mb_used.values\n",
    "\n",
    "# Среднеквадратическое отклонение трафика для тарифа \"Ультра\"\n",
    "print('Среднеквадратическое отклонение трафика для тарифа \"Ультра\"', np.std(internet_ultra).round(2))\n",
    "\n",
    "# Среднеквадратическое отклонение трафика для тарифа \"Смарт\"\n",
    "print('Среднеквадратическое отклонение трафика для тарифа \"Смарт\"', np.std(internet_smart).round(2))\n",
    "\n",
    "# Среднее значение трафика для тарифа \"Ультра\"\n",
    "print('Среднее значение трафика для тарифа \"Ультра\"', np.mean(internet_ultra).round(2))\n",
    "\n",
    "# Среднее значение трафика для тарифа \"Смарт\"\n",
    "print('Среднее значение трафика для тарифа \"Смарт\"', np.mean(internet_smart).round(2))\n",
    "\n",
    "# Дисперсия трафика для тарифа \"Ультра\"\n",
    "print('Дисперсия трафика для тарифа \"Ультра\"', np.var(internet_ultra).round(2))\n",
    "\n",
    "# Дисперсия трафика для тарифа \"Смарт\"\n",
    "print('Дисперсия трафика для тарифа \"Смарт\"', np.var(internet_smart).round(2))"
   ]
  },
  {
   "cell_type": "code",
   "execution_count": 1092,
   "id": "e7f3c5e1",
   "metadata": {},
   "outputs": [
    {
     "data": {
      "text/plain": [
       "18"
      ]
     },
     "execution_count": 1092,
     "metadata": {},
     "output_type": "execute_result"
    }
   ],
   "source": [
    "# Посмотрим, на сколько % отличаются средние\n",
    "round((19686.77 - 16236.47) * 100 / 19686.77)"
   ]
  },
  {
   "cell_type": "code",
   "execution_count": 1085,
   "id": "1b948010",
   "metadata": {},
   "outputs": [
    {
     "data": {
      "image/png": "[encoded data removed]",
      "text/plain": [
       "<Figure size 576x360 with 1 Axes>"
      ]
     },
     "metadata": {},
     "output_type": "display_data"
    }
   ],
   "source": [
    "sns_plot = sns.distplot(internet_ultra)\n",
    "fig = sns_plot.get_figure()\n",
    "fig.suptitle('Трафик пользователя в месяц для тарифа \"Ультра\"');"
   ]
  },
  {
   "cell_type": "code",
   "execution_count": 1086,
   "id": "97e351af",
   "metadata": {},
   "outputs": [
    {
     "data": {
      "image/png": "[encoded data removed]",
      "text/plain": [
       "<Figure size 576x360 with 1 Axes>"
      ]
     },
     "metadata": {},
     "output_type": "display_data"
    }
   ],
   "source": [
    "sns_plot = sns.distplot(internet_smart)\n",
    "fig = sns_plot.get_figure()\n",
    "fig.suptitle('Трафик пользователя в месяц для тарифа \"Смарт\"');"
   ]
  },
  {
   "cell_type": "markdown",
   "id": "d12fff06",
   "metadata": {},
   "source": [
    "Распределение величин похоже на нормальное, но с выраженной положительной асимметрией.\n",
    "Выводы:\n",
    "Пользователи тарифа Ультра больше разговаривают по телефону на 23%, на 18% больше используют интернет и почти на 37%  больше пользуются смс.\n",
    "Стандартные отклонения данных тарифа Смарт меньше почти в 2 раза, это говорит о том, что средние значения данных тарифа Смарт более однородные, больший разброс средних значений соответствует тарифу Ультра."
   ]
  },
  {
   "cell_type": "markdown",
   "id": "84b1be91",
   "metadata": {},
   "source": [
    "### 4. Проверим гипотезы\n",
    "\n",
    "- средняя выручка пользователей тарифов «Ультра» и «Смарт» различаются;\n",
    "- средняя выручка пользователей из Москвы отличается от выручки пользователей из других регионов."
   ]
  },
  {
   "cell_type": "markdown",
   "id": "6ad2384c",
   "metadata": {},
   "source": [
    "### 1. Средняя выручка пользователей тарифов «Ультра» и «Смарт» различаются?"
   ]
  },
  {
   "cell_type": "code",
   "execution_count": 1095,
   "id": "a29c1c57",
   "metadata": {},
   "outputs": [],
   "source": [
    "total_income = total_income.merge(df_users[['user_id', 'tariff']], how='left', on='user_id')"
   ]
  },
  {
   "cell_type": "code",
   "execution_count": 1097,
   "id": "140dcafb",
   "metadata": {},
   "outputs": [],
   "source": [
    "#Расчитаем среднее для каждого пользователя в течение года\n",
    "total_income['monthly_mean'] = total_income.mean(axis=1)"
   ]
  },
  {
   "cell_type": "code",
   "execution_count": 1103,
   "id": "5c75ca05",
   "metadata": {},
   "outputs": [],
   "source": [
    "# Подготовим значения средней выручки пользователей тарифов «Ультра» и «Смарт» \n",
    "income_ultra = total_income.query('tariff == \"ultra\"').monthly_mean.values\n",
    "income_smart = total_income.query('tariff == \"smart\"').monthly_mean.values"
   ]
  },
  {
   "cell_type": "code",
   "execution_count": 1105,
   "id": "f8a30c7e",
   "metadata": {},
   "outputs": [
    {
     "data": {
      "image/png": "[encoded data removed]",
      "text/plain": [
       "<Figure size 576x360 with 1 Axes>"
      ]
     },
     "metadata": {},
     "output_type": "display_data"
    }
   ],
   "source": [
    "sns_plot = sns.distplot(income_ultra)\n",
    "fig = sns_plot.get_figure()\n",
    "fig.suptitle('Средняя выручка пользователей тарифа \"Ультра\"');"
   ]
  },
  {
   "cell_type": "code",
   "execution_count": 1106,
   "id": "2443b04a",
   "metadata": {},
   "outputs": [
    {
     "data": {
      "image/png": "[encoded data removed]",
      "text/plain": [
       "<Figure size 576x360 with 1 Axes>"
      ]
     },
     "metadata": {},
     "output_type": "display_data"
    }
   ],
   "source": [
    "sns_plot = sns.distplot(income_smart)\n",
    "fig = sns_plot.get_figure()\n",
    "fig.suptitle('Средняя выручка пользователей тарифа \"Смарт\"');"
   ]
  },
  {
   "cell_type": "markdown",
   "id": "439dce3a",
   "metadata": {},
   "source": [
    "Распределение не похоже на нормальное, проведем тест Шапиро-Уилка и убедимся в этом"
   ]
  },
  {
   "cell_type": "code",
   "execution_count": 1107,
   "id": "21fee16a",
   "metadata": {},
   "outputs": [
    {
     "data": {
      "text/plain": [
       "ShapiroResult(statistic=0.6627858281135559, pvalue=0.0)"
      ]
     },
     "execution_count": 1107,
     "metadata": {},
     "output_type": "execute_result"
    }
   ],
   "source": [
    "st.shapiro(income_ultra)"
   ]
  },
  {
   "cell_type": "code",
   "execution_count": 1108,
   "id": "b6ae2df2",
   "metadata": {},
   "outputs": [
    {
     "data": {
      "text/plain": [
       "ShapiroResult(statistic=0.9469608068466187, pvalue=0.0)"
      ]
     },
     "execution_count": 1108,
     "metadata": {},
     "output_type": "execute_result"
    }
   ],
   "source": [
    "st.shapiro(income_smart)"
   ]
  },
  {
   "cell_type": "markdown",
   "id": "714af74f",
   "metadata": {},
   "source": [
    "pvalue < 0.05, значит распределение не является нормальным"
   ]
  },
  {
   "cell_type": "markdown",
   "id": "1771c353",
   "metadata": {},
   "source": [
    "Проведем тест на U-критерий Манна — Уитни. Этот критерий менее чувствителен к экстремальным отклонениям от нормальности и наличию выбросов. Нулевая гипотеза: распределение признака в первой выборке соответствует распределению признака во второй выборке. Уровень значимости примем 0.05"
   ]
  },
  {
   "cell_type": "code",
   "execution_count": 1109,
   "id": "60c68619",
   "metadata": {},
   "outputs": [
    {
     "data": {
      "text/plain": [
       "MannwhitneyuResult(statistic=1096073798.0, pvalue=0.0)"
      ]
     },
     "execution_count": 1109,
     "metadata": {},
     "output_type": "execute_result"
    }
   ],
   "source": [
    "st.mannwhitneyu(income_ultra, income_smart)"
   ]
  },
  {
   "cell_type": "code",
   "execution_count": 1116,
   "id": "565e0b16",
   "metadata": {},
   "outputs": [
    {
     "data": {
      "text/plain": [
       "1970"
      ]
     },
     "execution_count": 1116,
     "metadata": {},
     "output_type": "execute_result"
    }
   ],
   "source": [
    "# Посмотрим насколько отличаются средние выручки\n",
    "round(income_ultra.mean())"
   ]
  },
  {
   "cell_type": "code",
   "execution_count": 1115,
   "id": "64fb531b",
   "metadata": {},
   "outputs": [
    {
     "data": {
      "text/plain": [
       "1329"
      ]
     },
     "execution_count": 1115,
     "metadata": {},
     "output_type": "execute_result"
    }
   ],
   "source": [
    "round(income_smart.mean())"
   ]
  },
  {
   "cell_type": "code",
   "execution_count": 1114,
   "id": "55ed648d",
   "metadata": {},
   "outputs": [
    {
     "data": {
      "text/plain": [
       "33"
      ]
     },
     "execution_count": 1114,
     "metadata": {},
     "output_type": "execute_result"
    }
   ],
   "source": [
    "round((income_ultra.mean() - income_smart.mean()) * 100 / income_ultra.mean())"
   ]
  },
  {
   "cell_type": "markdown",
   "id": "1ba312d8",
   "metadata": {},
   "source": [
    "Т.к. pvalue < 0.05 мы отвергаем нулевую гипотезу. Тест показал, что средняя выручка пользователей тарифов «Ультра» и «Смарт» различаются статистически значимо. Прибыль тарифа Ультра больше (примерно на 33%)."
   ]
  },
  {
   "cell_type": "markdown",
   "id": "cfd3e67a",
   "metadata": {},
   "source": [
    "### Средняя выручка пользователей из Москвы отличается от выручки пользователей из других регионов?"
   ]
  },
  {
   "cell_type": "code",
   "execution_count": 1118,
   "id": "f8110d51",
   "metadata": {},
   "outputs": [],
   "source": [
    "# Добавим в таблицу с выручкой столбец с городом\n",
    "total_income = total_income.merge(df_users[['user_id', 'city']], how='left', on='user_id')"
   ]
  },
  {
   "cell_type": "code",
   "execution_count": 1120,
   "id": "96ba7d97",
   "metadata": {},
   "outputs": [],
   "source": [
    "# Создадим выборки\n",
    "income_msk = total_income.query('city == \"Москва\"').monthly_mean.values\n",
    "income_not_msk = total_income.query('city != \"Москва\"').monthly_mean.values"
   ]
  },
  {
   "cell_type": "code",
   "execution_count": 1122,
   "id": "5f65d367",
   "metadata": {},
   "outputs": [
    {
     "data": {
      "image/png": "[encoded data removed]",
      "text/plain": [
       "<Figure size 576x360 with 1 Axes>"
      ]
     },
     "metadata": {},
     "output_type": "display_data"
    }
   ],
   "source": [
    "ns_plot = sns.distplot(income_msk)\n",
    "fig = sns_plot.get_figure()\n",
    "fig.suptitle('Средняя выручка от пользователей из Москвы');"
   ]
  },
  {
   "cell_type": "code",
   "execution_count": 1123,
   "id": "5132b735",
   "metadata": {},
   "outputs": [
    {
     "data": {
      "image/png": "[encoded data removed]",
      "text/plain": [
       "<Figure size 576x360 with 1 Axes>"
      ]
     },
     "metadata": {},
     "output_type": "display_data"
    }
   ],
   "source": [
    "sns_plot = sns.distplot(income_not_msk)\n",
    "fig = sns_plot.get_figure()\n",
    "fig.suptitle('Средняя выручка от пользователей из других городов (не Москвы)');"
   ]
  },
  {
   "cell_type": "markdown",
   "id": "4efb3a9c",
   "metadata": {},
   "source": [
    "Проведем тест на U-критерий Манна — Уитни. Нулевая гипотеза: распределение признака в первой выборке соответствует распределению признака во второй выборке. Уровень значимости примем 0.05"
   ]
  },
  {
   "cell_type": "code",
   "execution_count": 1146,
   "id": "06e2e7a2",
   "metadata": {},
   "outputs": [
    {
     "data": {
      "text/plain": [
       "1.773189646045334e-34"
      ]
     },
     "execution_count": 1146,
     "metadata": {},
     "output_type": "execute_result"
    }
   ],
   "source": [
    "st.mannwhitneyu(income_msk, income_not_msk)[1] "
   ]
  },
  {
   "cell_type": "code",
   "execution_count": 1128,
   "id": "889286eb",
   "metadata": {},
   "outputs": [
    {
     "data": {
      "text/plain": [
       "1574"
      ]
     },
     "execution_count": 1128,
     "metadata": {},
     "output_type": "execute_result"
    }
   ],
   "source": [
    "round(income_msk.mean())"
   ]
  },
  {
   "cell_type": "code",
   "execution_count": 1127,
   "id": "9d791dec",
   "metadata": {},
   "outputs": [
    {
     "data": {
      "text/plain": [
       "1553"
      ]
     },
     "execution_count": 1127,
     "metadata": {},
     "output_type": "execute_result"
    }
   ],
   "source": [
    "round(income_not_msk.mean())"
   ]
  },
  {
   "cell_type": "code",
   "execution_count": 1133,
   "id": "08d00519",
   "metadata": {},
   "outputs": [
    {
     "data": {
      "text/plain": [
       "1"
      ]
     },
     "execution_count": 1133,
     "metadata": {},
     "output_type": "execute_result"
    }
   ],
   "source": [
    "round((income_msk.mean() - income_not_msk.mean()) * 100 / income_msk.mean())"
   ]
  },
  {
   "cell_type": "markdown",
   "id": "19a30923",
   "metadata": {},
   "source": [
    "Т.к. pvalue < 0.05 мы отвергаем нулевую гипотезу. Тест показал, что средняя выручка от пользователей из Москвы и не из Москвы различается статистически значимо. Прибыль от москвичей больше (примерно на 1%). Можно попробовать проверить с помощью бутстрапа."
   ]
  },
  {
   "cell_type": "code",
   "execution_count": 1142,
   "id": "f4786e66",
   "metadata": {},
   "outputs": [],
   "source": [
    "# Создаем функцию для проверки гипотезы с помощью бутстрапа\n",
    "def get_bootstrap(sample1, sample2, iterate=1000, alpha=0.05, statistic='mean', random_state=42):\n",
    "    \n",
    "    assert statistic in ('mean', 'median'), f'{statistic} not in correct statistics. Choose \"mean\" or \"median\"'\n",
    "    np.random.seed(random_state)\n",
    "    l = max(len(sample1), len(sample2))\n",
    "    difference = []\n",
    "    for i in range(iterate):\n",
    "        s1 = sample1.sample(l, replace=True).values\n",
    "        s2 = sample2.sample(l, replace=True).values\n",
    "        if statistic == 'mean':\n",
    "            diff = np.mean(s1 - s2)\n",
    "        else: \n",
    "            diff = np.median(s1 - s2)\n",
    "        difference.append(diff)\n",
    "    low_quantile = alpha/2\n",
    "    upper_quantile = 1 - low_quantile \n",
    "    ci = (np.quantile(difference, low_quantile), np.quantile(difference, upper_quantile))\n",
    "    p1 = norm.cdf(0, loc=np.mean(difference), scale=np.std(difference))\n",
    "    p2 = 1 - p1\n",
    "    p = min(p1, p2)*2\n",
    "    \n",
    "    plt.hist(difference, bins = 50)\n",
    "\n",
    "    with plt.style.context('bmh'):\n",
    "        plt.vlines(ci,ymin=0,ymax=50,linestyle='--')\n",
    "        plt.xlabel('boot_data')\n",
    "        plt.ylabel('frequency')\n",
    "        plt.title(\"Histogram of boot_data\")\n",
    "        plt.show()\n",
    "       \n",
    "    return {\"boot_data\": difference, \n",
    "            \"ci\": ci, \n",
    "            \"p_value\": p\n",
    "           }"
   ]
  },
  {
   "cell_type": "code",
   "execution_count": 1143,
   "id": "188adcc2",
   "metadata": {},
   "outputs": [
    {
     "data": {
      "image/png": "[encoded data removed]",
      "text/plain": [
       "<Figure size 576x360 with 1 Axes>"
      ]
     },
     "metadata": {},
     "output_type": "display_data"
    }
   ],
   "source": [
    "result_mean = get_bootstrap(total_income.query('city == \"Москва\"').monthly_mean, \n",
    "                            total_income.query('city != \"Москва\"').monthly_mean, \n",
    "                            statistic='mean')"
   ]
  },
  {
   "cell_type": "code",
   "execution_count": 1144,
   "id": "f4492179",
   "metadata": {},
   "outputs": [
    {
     "data": {
      "text/plain": [
       "1.6897442716853686e-34"
      ]
     },
     "execution_count": 1144,
     "metadata": {},
     "output_type": "execute_result"
    }
   ],
   "source": [
    "result_mean['p_value']"
   ]
  },
  {
   "cell_type": "code",
   "execution_count": 1145,
   "id": "ff84de08",
   "metadata": {},
   "outputs": [
    {
     "data": {
      "text/plain": [
       "(17.602235649330446, 24.002357071133176)"
      ]
     },
     "execution_count": 1145,
     "metadata": {},
     "output_type": "execute_result"
    }
   ],
   "source": [
    "result_mean['ci']"
   ]
  },
  {
   "cell_type": "markdown",
   "id": "b4d94b01",
   "metadata": {},
   "source": [
    "Применяя бутстрап с оценкой среднего, мы отклоняем нулевую гипотезу о равенстве средних и делаем вывод, что тестовая и контрольная выборка имеют различия"
   ]
  },
  {
   "cell_type": "markdown",
   "id": "b027600b",
   "metadata": {},
   "source": [
    "### Общие выводы\n",
    "- Перед новым годом (29-31 декабря) несколько пользователей совершали существенно больше звонков/сообщений/интернет-соединений, чем совершается в другие дни\n",
    "- Пользователи тарифа Ультра больше разговаривают по телефону на 23%, на 18% больше используют интернет и почти на 37% больше пользуются смс.\n",
    "- Тариф \"Ультра\" приносит больше выручки, чем тариф \"Смарт\"\n",
    "- Пользователи из Москвы приносят больше выручки, чем из других городов"
   ]
  }
 ],
 "metadata": {
  "kernelspec": {
   "display_name": "Python 3",
   "language": "python",
   "name": "python3"
  },
  "language_info": {
   "codemirror_mode": {
    "name": "ipython",
    "version": 3
   },
   "file_extension": ".py",
   "mimetype": "text/x-python",
   "name": "python",
   "nbconvert_exporter": "python",
   "pygments_lexer": "ipython3",
   "version": "3.8.8"
  }
 },
 "nbformat": 4,
 "nbformat_minor": 5
}
