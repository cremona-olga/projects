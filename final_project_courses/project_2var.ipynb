{
 "cells": [
  {
   "cell_type": "markdown",
   "metadata": {},
   "source": [
    "# Описание проекта\n",
    "## Необходимо найти инсайты в данных продуктовых магазинов компании. \n",
    "### На повестке 3 задачи:\n",
    " 1. Выяснить, какие пары товаров пользователи чаще всего покупают вместе. По сути, необходимо найти паттерны покупок, что позволит оптимизировать размещение продуктов в магазине, для удобства пользователей и увеличения выручки. Нужно указать 5 наиболее распространённых паттернов.\n",
    "    В файле содержится информация о покупках людей:\n",
    "     - id – означает покупку (в одну покупку входят все товары, купленные пользователем во время 1 похода в магазин)\n",
    "     - Товар – наименование товара\n",
    "     - Количество – число единиц купленного товара\n",
    "     \n",
    " \n",
    " 2. Поступила информация о числе заказов за прошедшие 3 месяца с разрешением по неделям. Построить (если это возможно) прогноз продаж на следующие 3 месяца, с учётом того, что в неделю с 2020-02-02 по 2020-02-09 была проведена массивная акция, повысившая число заказов на 7%.\n",
    "\n",
    "\n",
    "3. В базе данных компании присутствуют следующие таблицы:\n",
    "\n",
    "  - city\n",
    "      - city_id – id города, где проходит акция\n",
    "      - client_city_id – id города, где находится покупатель\n",
    "      - city – город\n",
    "      - client_city – город, где находится покупатель\n",
    "  - client\n",
    "      - client_id – id покупателя\n",
    "      - client_city_id – id города, где находится покупатель\n",
    "      - birth_date – дата рождения покупателя\n",
    "      - registration – дата регистрации покупателя\n",
    "  - promotion\n",
    "      - promotion_id – id акции\n",
    "      - category_id – id категории\n",
    "      - promotion_name – акция\n",
    "      - category_name – категория\n",
    "      - partner_id – id партнёра\n",
    "      - partner_name – партнёр\n",
    "  - purchase\n",
    "      - purchase_id – id покупки\n",
    "      - partner_id – id партнёра\n",
    "      - client_id – id покупателя\n",
    "      - city_id – id города\n",
    "      - promotion_id – id акции\n",
    "      - category_id – id категории\n",
    "      - purchase_date – дата покупки\n",
    "      - price – цена за единицу товара\n",
    "      - quantity – число проданных единиц\n",
    "      - status – статус покупки\n",
    "      \n",
    "      \n",
    "Нужно написать запрос, чтобы получить такую таблицу\n",
    "  - purchase_date – дата покупки\n",
    "  - purchase_id – id покупки\n",
    "  - client_id – id покупателя\n",
    "  - client_age – возраст покупателя\n",
    "  - client_registration_age – как долго человек пользуется вашими магазинами\n",
    "  - client_category – содержит new или old, если это первая или последующая покупка соответственно\n",
    "  - promotion_name – акция\n",
    "  - category_name – категория\n",
    "  - partner_name – партнёр\n",
    "  - client_city – город, где находится покупатель\n",
    "  - city – город\n",
    "  - revenue – сумма выручки\n",
    "  - quantity – число проданных единиц\n",
    "\n",
    "При этом в таблице должны присутствовать только значения, где в поле status стоит значение 1, и только те, где purchase_date находится в диапазоне от 01.05.2020 до 01.08.2020\n",
    "\n",
    "   База данных доступна по имени project_variant_2  "
   ]
  },
  {
   "cell_type": "markdown",
   "metadata": {},
   "source": [
    "### Импортируем библиотеки"
   ]
  },
  {
   "cell_type": "code",
   "execution_count": 71,
   "metadata": {},
   "outputs": [],
   "source": [
    "import pandas as pd\n",
    "from itertools import combinations\n",
    "# Для Графиков\n",
    "import matplotlib.pyplot as plt\n",
    "import seaborn as sns\n",
    "import scipy.stats as st\n",
    "import statsmodels.api as sm"
   ]
  },
  {
   "cell_type": "markdown",
   "metadata": {},
   "source": [
    "### Изучим данные"
   ]
  },
  {
   "cell_type": "code",
   "execution_count": 72,
   "metadata": {},
   "outputs": [],
   "source": [
    "df = pd.read_csv('test1_completed.csv')"
   ]
  },
  {
   "cell_type": "code",
   "execution_count": 73,
   "metadata": {},
   "outputs": [
    {
     "data": {
      "text/html": [
       "<div>\n",
       "<style scoped>\n",
       "    .dataframe tbody tr th:only-of-type {\n",
       "        vertical-align: middle;\n",
       "    }\n",
       "\n",
       "    .dataframe tbody tr th {\n",
       "        vertical-align: top;\n",
       "    }\n",
       "\n",
       "    .dataframe thead th {\n",
       "        text-align: right;\n",
       "    }\n",
       "</style>\n",
       "<table border=\"1\" class=\"dataframe\">\n",
       "  <thead>\n",
       "    <tr style=\"text-align: right;\">\n",
       "      <th></th>\n",
       "      <th>id</th>\n",
       "      <th>Товар</th>\n",
       "      <th>Количество</th>\n",
       "    </tr>\n",
       "  </thead>\n",
       "  <tbody>\n",
       "    <tr>\n",
       "      <th>0</th>\n",
       "      <td>17119</td>\n",
       "      <td>Лимон</td>\n",
       "      <td>1.1</td>\n",
       "    </tr>\n",
       "    <tr>\n",
       "      <th>1</th>\n",
       "      <td>17119</td>\n",
       "      <td>Лимон оранжевый</td>\n",
       "      <td>0.7</td>\n",
       "    </tr>\n",
       "    <tr>\n",
       "      <th>2</th>\n",
       "      <td>17119</td>\n",
       "      <td>Лук-порей</td>\n",
       "      <td>10.0</td>\n",
       "    </tr>\n",
       "    <tr>\n",
       "      <th>3</th>\n",
       "      <td>17119</td>\n",
       "      <td>Лук репчатый</td>\n",
       "      <td>2.5</td>\n",
       "    </tr>\n",
       "    <tr>\n",
       "      <th>4</th>\n",
       "      <td>17119</td>\n",
       "      <td>Малина свежая</td>\n",
       "      <td>1.0</td>\n",
       "    </tr>\n",
       "  </tbody>\n",
       "</table>\n",
       "</div>"
      ],
      "text/plain": [
       "      id            Товар  Количество\n",
       "0  17119            Лимон         1.1\n",
       "1  17119  Лимон оранжевый         0.7\n",
       "2  17119        Лук-порей        10.0\n",
       "3  17119     Лук репчатый         2.5\n",
       "4  17119    Малина свежая         1.0"
      ]
     },
     "execution_count": 73,
     "metadata": {},
     "output_type": "execute_result"
    }
   ],
   "source": [
    "df.head()"
   ]
  },
  {
   "cell_type": "code",
   "execution_count": 4,
   "metadata": {},
   "outputs": [
    {
     "name": "stdout",
     "output_type": "stream",
     "text": [
      "<class 'pandas.core.frame.DataFrame'>\n",
      "RangeIndex: 43514 entries, 0 to 43513\n",
      "Data columns (total 3 columns):\n",
      " #   Column      Non-Null Count  Dtype  \n",
      "---  ------      --------------  -----  \n",
      " 0   id          43514 non-null  int64  \n",
      " 1   Товар       43514 non-null  object \n",
      " 2   Количество  43514 non-null  float64\n",
      "dtypes: float64(1), int64(1), object(1)\n",
      "memory usage: 1020.0+ KB\n"
     ]
    }
   ],
   "source": [
    "df.info()"
   ]
  },
  {
   "cell_type": "code",
   "execution_count": 5,
   "metadata": {},
   "outputs": [
    {
     "data": {
      "text/html": [
       "<div>\n",
       "<style scoped>\n",
       "    .dataframe tbody tr th:only-of-type {\n",
       "        vertical-align: middle;\n",
       "    }\n",
       "\n",
       "    .dataframe tbody tr th {\n",
       "        vertical-align: top;\n",
       "    }\n",
       "\n",
       "    .dataframe thead th {\n",
       "        text-align: right;\n",
       "    }\n",
       "</style>\n",
       "<table border=\"1\" class=\"dataframe\">\n",
       "  <thead>\n",
       "    <tr style=\"text-align: right;\">\n",
       "      <th></th>\n",
       "      <th>Товар</th>\n",
       "    </tr>\n",
       "  </thead>\n",
       "  <tbody>\n",
       "    <tr>\n",
       "      <th>count</th>\n",
       "      <td>43514</td>\n",
       "    </tr>\n",
       "    <tr>\n",
       "      <th>unique</th>\n",
       "      <td>199</td>\n",
       "    </tr>\n",
       "    <tr>\n",
       "      <th>top</th>\n",
       "      <td>Огурцы Луховицкие</td>\n",
       "    </tr>\n",
       "    <tr>\n",
       "      <th>freq</th>\n",
       "      <td>1022</td>\n",
       "    </tr>\n",
       "  </tbody>\n",
       "</table>\n",
       "</div>"
      ],
      "text/plain": [
       "                    Товар\n",
       "count               43514\n",
       "unique                199\n",
       "top     Огурцы Луховицкие\n",
       "freq                 1022"
      ]
     },
     "execution_count": 5,
     "metadata": {},
     "output_type": "execute_result"
    }
   ],
   "source": [
    "# Постомтрим основные метрики категориальных данных\n",
    "df.describe(include=['object'])"
   ]
  },
  {
   "cell_type": "code",
   "execution_count": 6,
   "metadata": {},
   "outputs": [
    {
     "data": {
      "text/plain": [
       "id            0\n",
       "Товар         0\n",
       "Количество    0\n",
       "dtype: int64"
      ]
     },
     "execution_count": 6,
     "metadata": {},
     "output_type": "execute_result"
    }
   ],
   "source": [
    "# проверим пропуски\n",
    "df.isnull().sum()"
   ]
  },
  {
   "cell_type": "code",
   "execution_count": 74,
   "metadata": {},
   "outputs": [],
   "source": [
    "# переименуем столбцы для более убдобного к ним обращения\n",
    "df.rename(columns={'Товар': 'products', 'Количество': 'quantity'}, inplace=True)"
   ]
  },
  {
   "cell_type": "code",
   "execution_count": 75,
   "metadata": {},
   "outputs": [
    {
     "data": {
      "text/html": [
       "<div>\n",
       "<style scoped>\n",
       "    .dataframe tbody tr th:only-of-type {\n",
       "        vertical-align: middle;\n",
       "    }\n",
       "\n",
       "    .dataframe tbody tr th {\n",
       "        vertical-align: top;\n",
       "    }\n",
       "\n",
       "    .dataframe thead th {\n",
       "        text-align: right;\n",
       "    }\n",
       "</style>\n",
       "<table border=\"1\" class=\"dataframe\">\n",
       "  <thead>\n",
       "    <tr style=\"text-align: right;\">\n",
       "      <th></th>\n",
       "      <th>id</th>\n",
       "      <th>products</th>\n",
       "      <th>quantity</th>\n",
       "    </tr>\n",
       "  </thead>\n",
       "  <tbody>\n",
       "    <tr>\n",
       "      <th>0</th>\n",
       "      <td>17119</td>\n",
       "      <td>Лимон</td>\n",
       "      <td>1.1</td>\n",
       "    </tr>\n",
       "    <tr>\n",
       "      <th>1</th>\n",
       "      <td>17119</td>\n",
       "      <td>Лимон оранжевый</td>\n",
       "      <td>0.7</td>\n",
       "    </tr>\n",
       "    <tr>\n",
       "      <th>2</th>\n",
       "      <td>17119</td>\n",
       "      <td>Лук-порей</td>\n",
       "      <td>10.0</td>\n",
       "    </tr>\n",
       "    <tr>\n",
       "      <th>3</th>\n",
       "      <td>17119</td>\n",
       "      <td>Лук репчатый</td>\n",
       "      <td>2.5</td>\n",
       "    </tr>\n",
       "    <tr>\n",
       "      <th>4</th>\n",
       "      <td>17119</td>\n",
       "      <td>Малина свежая</td>\n",
       "      <td>1.0</td>\n",
       "    </tr>\n",
       "  </tbody>\n",
       "</table>\n",
       "</div>"
      ],
      "text/plain": [
       "      id         products  quantity\n",
       "0  17119            Лимон       1.1\n",
       "1  17119  Лимон оранжевый       0.7\n",
       "2  17119        Лук-порей      10.0\n",
       "3  17119     Лук репчатый       2.5\n",
       "4  17119    Малина свежая       1.0"
      ]
     },
     "execution_count": 75,
     "metadata": {},
     "output_type": "execute_result"
    }
   ],
   "source": [
    "df.head()"
   ]
  },
  {
   "cell_type": "markdown",
   "metadata": {},
   "source": [
    "### Задание 1.\n",
    "Посчитаем чаще всего встречающиеся в одном заказе пары товаров"
   ]
  },
  {
   "cell_type": "code",
   "execution_count": 76,
   "metadata": {},
   "outputs": [],
   "source": [
    "# создадим список всех товаров\n",
    "products_unique = list(df['products'].unique()) "
   ]
  },
  {
   "cell_type": "code",
   "execution_count": 67,
   "metadata": {},
   "outputs": [],
   "source": [
    "# создадим список всех возможных пар товаров\n",
    "product_pairs = list(combinations(products_unique, 2))"
   ]
  },
  {
   "cell_type": "code",
   "execution_count": 77,
   "metadata": {},
   "outputs": [],
   "source": [
    "# составим список заказов, в которых был куплен только один товар\n",
    "one_product_purchase = df.groupby('id', as_index=False).agg({'products': 'count'}).query('products == 1').id.values "
   ]
  },
  {
   "cell_type": "code",
   "execution_count": 78,
   "metadata": {},
   "outputs": [],
   "source": [
    "# список покупок без учета заказов с покупкой только одного товара\n",
    "purchases_products = df.query('id not in @one_product_purchase').groupby('id', as_index=False)\\\n",
    ".agg({'products': 'unique'})"
   ]
  },
  {
   "cell_type": "code",
   "execution_count": 79,
   "metadata": {},
   "outputs": [
    {
     "data": {
      "text/html": [
       "<div>\n",
       "<style scoped>\n",
       "    .dataframe tbody tr th:only-of-type {\n",
       "        vertical-align: middle;\n",
       "    }\n",
       "\n",
       "    .dataframe tbody tr th {\n",
       "        vertical-align: top;\n",
       "    }\n",
       "\n",
       "    .dataframe thead th {\n",
       "        text-align: right;\n",
       "    }\n",
       "</style>\n",
       "<table border=\"1\" class=\"dataframe\">\n",
       "  <thead>\n",
       "    <tr style=\"text-align: right;\">\n",
       "      <th></th>\n",
       "      <th>id</th>\n",
       "      <th>products</th>\n",
       "    </tr>\n",
       "  </thead>\n",
       "  <tbody>\n",
       "    <tr>\n",
       "      <th>0</th>\n",
       "      <td>17119</td>\n",
       "      <td>[Лимон, Лимон оранжевый, Лук-порей, Лук репчат...</td>\n",
       "    </tr>\n",
       "    <tr>\n",
       "      <th>1</th>\n",
       "      <td>17530</td>\n",
       "      <td>[Лимон оранжевый, Изюм Султана, Капуста цветна...</td>\n",
       "    </tr>\n",
       "    <tr>\n",
       "      <th>2</th>\n",
       "      <td>17618</td>\n",
       "      <td>[Абрикосы молдавские, Кукуруза мини, Грибы лис...</td>\n",
       "    </tr>\n",
       "    <tr>\n",
       "      <th>3</th>\n",
       "      <td>17724</td>\n",
       "      <td>[Абрикосы молдавские, Арбуз, Салат Айсберг, Га...</td>\n",
       "    </tr>\n",
       "    <tr>\n",
       "      <th>4</th>\n",
       "      <td>17814</td>\n",
       "      <td>[Арбуз, Кабачки, Кинза, Малина свежая, Морковь...</td>\n",
       "    </tr>\n",
       "  </tbody>\n",
       "</table>\n",
       "</div>"
      ],
      "text/plain": [
       "      id                                           products\n",
       "0  17119  [Лимон, Лимон оранжевый, Лук-порей, Лук репчат...\n",
       "1  17530  [Лимон оранжевый, Изюм Султана, Капуста цветна...\n",
       "2  17618  [Абрикосы молдавские, Кукуруза мини, Грибы лис...\n",
       "3  17724  [Абрикосы молдавские, Арбуз, Салат Айсберг, Га...\n",
       "4  17814  [Арбуз, Кабачки, Кинза, Малина свежая, Морковь..."
      ]
     },
     "execution_count": 79,
     "metadata": {},
     "output_type": "execute_result"
    }
   ],
   "source": [
    "purchases_products.head()"
   ]
  },
  {
   "cell_type": "code",
   "execution_count": 80,
   "metadata": {},
   "outputs": [],
   "source": [
    "# создадим новый датафрейм с парами товаров в заказах\n",
    "df_1 = pd.DataFrame({'product_1': [], 'product_2': [], 'quantity': []})"
   ]
  },
  {
   "cell_type": "code",
   "execution_count": 81,
   "metadata": {},
   "outputs": [
    {
     "data": {
      "text/html": [
       "<div>\n",
       "<style scoped>\n",
       "    .dataframe tbody tr th:only-of-type {\n",
       "        vertical-align: middle;\n",
       "    }\n",
       "\n",
       "    .dataframe tbody tr th {\n",
       "        vertical-align: top;\n",
       "    }\n",
       "\n",
       "    .dataframe thead th {\n",
       "        text-align: right;\n",
       "    }\n",
       "</style>\n",
       "<table border=\"1\" class=\"dataframe\">\n",
       "  <thead>\n",
       "    <tr style=\"text-align: right;\">\n",
       "      <th></th>\n",
       "      <th>product_1</th>\n",
       "      <th>product_2</th>\n",
       "      <th>quantity</th>\n",
       "    </tr>\n",
       "  </thead>\n",
       "  <tbody>\n",
       "  </tbody>\n",
       "</table>\n",
       "</div>"
      ],
      "text/plain": [
       "Empty DataFrame\n",
       "Columns: [product_1, product_2, quantity]\n",
       "Index: []"
      ]
     },
     "execution_count": 81,
     "metadata": {},
     "output_type": "execute_result"
    }
   ],
   "source": [
    "df_1"
   ]
  },
  {
   "cell_type": "code",
   "execution_count": 83,
   "metadata": {},
   "outputs": [],
   "source": [
    "# добавим в новый датафрейм количество встречающихся в заказах пар товаров\n",
    "for i, c in enumerate(product_pairs):\n",
    "    df_1.loc[i] = [c[0], c[1], purchases_products.products.apply(lambda row: True if (c[0] in row) and (c[1] in row) \n",
    "                                                                 else False).sum()]"
   ]
  },
  {
   "cell_type": "code",
   "execution_count": 84,
   "metadata": {},
   "outputs": [
    {
     "data": {
      "text/html": [
       "<div>\n",
       "<style scoped>\n",
       "    .dataframe tbody tr th:only-of-type {\n",
       "        vertical-align: middle;\n",
       "    }\n",
       "\n",
       "    .dataframe tbody tr th {\n",
       "        vertical-align: top;\n",
       "    }\n",
       "\n",
       "    .dataframe thead th {\n",
       "        text-align: right;\n",
       "    }\n",
       "</style>\n",
       "<table border=\"1\" class=\"dataframe\">\n",
       "  <thead>\n",
       "    <tr style=\"text-align: right;\">\n",
       "      <th></th>\n",
       "      <th>product_1</th>\n",
       "      <th>product_2</th>\n",
       "      <th>quantity</th>\n",
       "    </tr>\n",
       "  </thead>\n",
       "  <tbody>\n",
       "    <tr>\n",
       "      <th>0</th>\n",
       "      <td>Лимон</td>\n",
       "      <td>Лимон оранжевый</td>\n",
       "      <td>31.0</td>\n",
       "    </tr>\n",
       "    <tr>\n",
       "      <th>1</th>\n",
       "      <td>Лимон</td>\n",
       "      <td>Лук-порей</td>\n",
       "      <td>40.0</td>\n",
       "    </tr>\n",
       "    <tr>\n",
       "      <th>2</th>\n",
       "      <td>Лимон</td>\n",
       "      <td>Лук репчатый</td>\n",
       "      <td>114.0</td>\n",
       "    </tr>\n",
       "    <tr>\n",
       "      <th>3</th>\n",
       "      <td>Лимон</td>\n",
       "      <td>Малина свежая</td>\n",
       "      <td>25.0</td>\n",
       "    </tr>\n",
       "    <tr>\n",
       "      <th>4</th>\n",
       "      <td>Лимон</td>\n",
       "      <td>Морковь немытая</td>\n",
       "      <td>80.0</td>\n",
       "    </tr>\n",
       "  </tbody>\n",
       "</table>\n",
       "</div>"
      ],
      "text/plain": [
       "  product_1        product_2  quantity\n",
       "0     Лимон  Лимон оранжевый      31.0\n",
       "1     Лимон        Лук-порей      40.0\n",
       "2     Лимон     Лук репчатый     114.0\n",
       "3     Лимон    Малина свежая      25.0\n",
       "4     Лимон  Морковь немытая      80.0"
      ]
     },
     "execution_count": 84,
     "metadata": {},
     "output_type": "execute_result"
    }
   ],
   "source": [
    "df_1.head()"
   ]
  },
  {
   "cell_type": "code",
   "execution_count": 85,
   "metadata": {},
   "outputs": [
    {
     "data": {
      "text/html": [
       "<div>\n",
       "<style scoped>\n",
       "    .dataframe tbody tr th:only-of-type {\n",
       "        vertical-align: middle;\n",
       "    }\n",
       "\n",
       "    .dataframe tbody tr th {\n",
       "        vertical-align: top;\n",
       "    }\n",
       "\n",
       "    .dataframe thead th {\n",
       "        text-align: right;\n",
       "    }\n",
       "</style>\n",
       "<table border=\"1\" class=\"dataframe\">\n",
       "  <thead>\n",
       "    <tr style=\"text-align: right;\">\n",
       "      <th></th>\n",
       "      <th>product_1</th>\n",
       "      <th>product_2</th>\n",
       "      <th>quantity</th>\n",
       "    </tr>\n",
       "  </thead>\n",
       "  <tbody>\n",
       "    <tr>\n",
       "      <th>2514</th>\n",
       "      <td>Огурцы Луховицкие</td>\n",
       "      <td>Укроп</td>\n",
       "      <td>431.0</td>\n",
       "    </tr>\n",
       "    <tr>\n",
       "      <th>5338</th>\n",
       "      <td>Петрушка</td>\n",
       "      <td>Укроп</td>\n",
       "      <td>408.0</td>\n",
       "    </tr>\n",
       "    <tr>\n",
       "      <th>2517</th>\n",
       "      <td>Огурцы Луховицкие</td>\n",
       "      <td>Арбуз</td>\n",
       "      <td>345.0</td>\n",
       "    </tr>\n",
       "    <tr>\n",
       "      <th>2529</th>\n",
       "      <td>Огурцы Луховицкие</td>\n",
       "      <td>Кабачки</td>\n",
       "      <td>326.0</td>\n",
       "    </tr>\n",
       "    <tr>\n",
       "      <th>5855</th>\n",
       "      <td>Укроп</td>\n",
       "      <td>Кинза</td>\n",
       "      <td>303.0</td>\n",
       "    </tr>\n",
       "  </tbody>\n",
       "</table>\n",
       "</div>"
      ],
      "text/plain": [
       "              product_1 product_2  quantity\n",
       "2514  Огурцы Луховицкие     Укроп     431.0\n",
       "5338           Петрушка     Укроп     408.0\n",
       "2517  Огурцы Луховицкие     Арбуз     345.0\n",
       "2529  Огурцы Луховицкие   Кабачки     326.0\n",
       "5855              Укроп     Кинза     303.0"
      ]
     },
     "execution_count": 85,
     "metadata": {},
     "output_type": "execute_result"
    }
   ],
   "source": [
    "df_1.query('quantity > 0').sort_values('quantity', ascending=False).head()"
   ]
  },
  {
   "cell_type": "markdown",
   "metadata": {},
   "source": [
    "Мы нашли пять наиболее распространённых паттернов"
   ]
  },
  {
   "cell_type": "markdown",
   "metadata": {},
   "source": [
    "### Задание 2. \n",
    "Поступила информация о числе заказов за прошедшие 3 месяца с разрешением по неделям. Постройте (если это возможно) прогноз продаж на следующие 3 месяца, с учётом того, что в неделю с 2020-02-02 по 2020-02-09 была проведена массивная акция, повысившая число заказов на 7%"
   ]
  },
  {
   "cell_type": "code",
   "execution_count": 53,
   "metadata": {},
   "outputs": [],
   "source": [
    "df2 = pd.read_csv('test2_completed.csv', parse_dates=['Дата'])"
   ]
  },
  {
   "cell_type": "code",
   "execution_count": 54,
   "metadata": {},
   "outputs": [
    {
     "data": {
      "text/html": [
       "<div>\n",
       "<style scoped>\n",
       "    .dataframe tbody tr th:only-of-type {\n",
       "        vertical-align: middle;\n",
       "    }\n",
       "\n",
       "    .dataframe tbody tr th {\n",
       "        vertical-align: top;\n",
       "    }\n",
       "\n",
       "    .dataframe thead th {\n",
       "        text-align: right;\n",
       "    }\n",
       "</style>\n",
       "<table border=\"1\" class=\"dataframe\">\n",
       "  <thead>\n",
       "    <tr style=\"text-align: right;\">\n",
       "      <th></th>\n",
       "      <th>Дата</th>\n",
       "      <th>Число заказов</th>\n",
       "    </tr>\n",
       "  </thead>\n",
       "  <tbody>\n",
       "    <tr>\n",
       "      <th>0</th>\n",
       "      <td>2020-01-05</td>\n",
       "      <td>650</td>\n",
       "    </tr>\n",
       "    <tr>\n",
       "      <th>1</th>\n",
       "      <td>2020-01-12</td>\n",
       "      <td>837</td>\n",
       "    </tr>\n",
       "    <tr>\n",
       "      <th>2</th>\n",
       "      <td>2020-01-19</td>\n",
       "      <td>1020</td>\n",
       "    </tr>\n",
       "    <tr>\n",
       "      <th>3</th>\n",
       "      <td>2020-01-26</td>\n",
       "      <td>1176</td>\n",
       "    </tr>\n",
       "    <tr>\n",
       "      <th>4</th>\n",
       "      <td>2020-02-02</td>\n",
       "      <td>1489</td>\n",
       "    </tr>\n",
       "  </tbody>\n",
       "</table>\n",
       "</div>"
      ],
      "text/plain": [
       "        Дата  Число заказов\n",
       "0 2020-01-05            650\n",
       "1 2020-01-12            837\n",
       "2 2020-01-19           1020\n",
       "3 2020-01-26           1176\n",
       "4 2020-02-02           1489"
      ]
     },
     "execution_count": 54,
     "metadata": {},
     "output_type": "execute_result"
    }
   ],
   "source": [
    "df2.head()"
   ]
  },
  {
   "cell_type": "code",
   "execution_count": 55,
   "metadata": {},
   "outputs": [
    {
     "name": "stdout",
     "output_type": "stream",
     "text": [
      "<class 'pandas.core.frame.DataFrame'>\n",
      "RangeIndex: 14 entries, 0 to 13\n",
      "Data columns (total 2 columns):\n",
      " #   Column         Non-Null Count  Dtype         \n",
      "---  ------         --------------  -----         \n",
      " 0   Дата           14 non-null     datetime64[ns]\n",
      " 1   Число заказов  14 non-null     int64         \n",
      "dtypes: datetime64[ns](1), int64(1)\n",
      "memory usage: 352.0 bytes\n"
     ]
    }
   ],
   "source": [
    "df2.info()"
   ]
  },
  {
   "cell_type": "code",
   "execution_count": 56,
   "metadata": {},
   "outputs": [],
   "source": [
    "df2.rename(columns={'Дата': 'date', 'Число заказов': 'orders_quantity'}, inplace=True)"
   ]
  },
  {
   "cell_type": "code",
   "execution_count": 57,
   "metadata": {},
   "outputs": [
    {
     "data": {
      "text/html": [
       "<div>\n",
       "<style scoped>\n",
       "    .dataframe tbody tr th:only-of-type {\n",
       "        vertical-align: middle;\n",
       "    }\n",
       "\n",
       "    .dataframe tbody tr th {\n",
       "        vertical-align: top;\n",
       "    }\n",
       "\n",
       "    .dataframe thead th {\n",
       "        text-align: right;\n",
       "    }\n",
       "</style>\n",
       "<table border=\"1\" class=\"dataframe\">\n",
       "  <thead>\n",
       "    <tr style=\"text-align: right;\">\n",
       "      <th></th>\n",
       "      <th>date</th>\n",
       "      <th>orders_quantity</th>\n",
       "    </tr>\n",
       "  </thead>\n",
       "  <tbody>\n",
       "    <tr>\n",
       "      <th>0</th>\n",
       "      <td>2020-01-05</td>\n",
       "      <td>650</td>\n",
       "    </tr>\n",
       "    <tr>\n",
       "      <th>1</th>\n",
       "      <td>2020-01-12</td>\n",
       "      <td>837</td>\n",
       "    </tr>\n",
       "    <tr>\n",
       "      <th>2</th>\n",
       "      <td>2020-01-19</td>\n",
       "      <td>1020</td>\n",
       "    </tr>\n",
       "    <tr>\n",
       "      <th>3</th>\n",
       "      <td>2020-01-26</td>\n",
       "      <td>1176</td>\n",
       "    </tr>\n",
       "    <tr>\n",
       "      <th>4</th>\n",
       "      <td>2020-02-02</td>\n",
       "      <td>1489</td>\n",
       "    </tr>\n",
       "  </tbody>\n",
       "</table>\n",
       "</div>"
      ],
      "text/plain": [
       "        date  orders_quantity\n",
       "0 2020-01-05              650\n",
       "1 2020-01-12              837\n",
       "2 2020-01-19             1020\n",
       "3 2020-01-26             1176\n",
       "4 2020-02-02             1489"
      ]
     },
     "execution_count": 57,
     "metadata": {},
     "output_type": "execute_result"
    }
   ],
   "source": [
    "df2.head()"
   ]
  },
  {
   "cell_type": "code",
   "execution_count": 58,
   "metadata": {},
   "outputs": [
    {
     "data": {
      "text/plain": [
       "Text(0.5, 1.0, 'Заказы за три месяца')"
      ]
     },
     "execution_count": 58,
     "metadata": {},
     "output_type": "execute_result"
    },
    {
     "data": {
      "image/png": "[encoded data removed]",
      "text/plain": [
       "<Figure size 1440x504 with 1 Axes>"
      ]
     },
     "metadata": {},
     "output_type": "display_data"
    }
   ],
   "source": [
    "sns.set(style='whitegrid', rc={'figure.figsize': (20, 7)})\n",
    "ax = sns.lineplot(x='date', y='orders_quantity', data=df2)\n",
    "ax.set_xlabel('Дата заказа')  \n",
    "ax.set_ylabel('Количество заказов')  \n",
    "ax.set_title('Заказы за три месяца')  "
   ]
  },
  {
   "cell_type": "markdown",
   "metadata": {},
   "source": [
    "Для того, чтобы посчитать линейную корреляцию, заменим дату на номер недели."
   ]
  },
  {
   "cell_type": "code",
   "execution_count": 59,
   "metadata": {},
   "outputs": [],
   "source": [
    "prediction = df2.reset_index().rename(columns={'index': 'week_number'}).drop('date', axis=1)"
   ]
  },
  {
   "cell_type": "code",
   "execution_count": 60,
   "metadata": {},
   "outputs": [
    {
     "data": {
      "text/html": [
       "<div>\n",
       "<style scoped>\n",
       "    .dataframe tbody tr th:only-of-type {\n",
       "        vertical-align: middle;\n",
       "    }\n",
       "\n",
       "    .dataframe tbody tr th {\n",
       "        vertical-align: top;\n",
       "    }\n",
       "\n",
       "    .dataframe thead th {\n",
       "        text-align: right;\n",
       "    }\n",
       "</style>\n",
       "<table border=\"1\" class=\"dataframe\">\n",
       "  <thead>\n",
       "    <tr style=\"text-align: right;\">\n",
       "      <th></th>\n",
       "      <th>week_number</th>\n",
       "      <th>orders_quantity</th>\n",
       "    </tr>\n",
       "  </thead>\n",
       "  <tbody>\n",
       "    <tr>\n",
       "      <th>0</th>\n",
       "      <td>0</td>\n",
       "      <td>650</td>\n",
       "    </tr>\n",
       "    <tr>\n",
       "      <th>1</th>\n",
       "      <td>1</td>\n",
       "      <td>837</td>\n",
       "    </tr>\n",
       "    <tr>\n",
       "      <th>2</th>\n",
       "      <td>2</td>\n",
       "      <td>1020</td>\n",
       "    </tr>\n",
       "    <tr>\n",
       "      <th>3</th>\n",
       "      <td>3</td>\n",
       "      <td>1176</td>\n",
       "    </tr>\n",
       "    <tr>\n",
       "      <th>4</th>\n",
       "      <td>4</td>\n",
       "      <td>1489</td>\n",
       "    </tr>\n",
       "  </tbody>\n",
       "</table>\n",
       "</div>"
      ],
      "text/plain": [
       "   week_number  orders_quantity\n",
       "0            0              650\n",
       "1            1              837\n",
       "2            2             1020\n",
       "3            3             1176\n",
       "4            4             1489"
      ]
     },
     "execution_count": 60,
     "metadata": {},
     "output_type": "execute_result"
    }
   ],
   "source": [
    "prediction.head()"
   ]
  },
  {
   "cell_type": "code",
   "execution_count": 156,
   "metadata": {},
   "outputs": [
    {
     "data": {
      "text/plain": [
       "(0.9912385193764021, 6.408985072063773e-12)"
      ]
     },
     "execution_count": 156,
     "metadata": {},
     "output_type": "execute_result"
    }
   ],
   "source": [
    "st.pearsonr(prediction.week_number, prediction.orders_quantity) "
   ]
  },
  {
   "cell_type": "code",
   "execution_count": 157,
   "metadata": {},
   "outputs": [
    {
     "data": {
      "text/plain": [
       "SpearmanrResult(correlation=1.0, pvalue=0.0)"
      ]
     },
     "execution_count": 157,
     "metadata": {},
     "output_type": "execute_result"
    }
   ],
   "source": [
    "st.spearmanr(prediction.week_number, prediction.orders_quantity)"
   ]
  },
  {
   "cell_type": "code",
   "execution_count": 158,
   "metadata": {},
   "outputs": [
    {
     "data": {
      "text/plain": [
       "KendalltauResult(correlation=1.0, pvalue=2.294149119545945e-11)"
      ]
     },
     "execution_count": 158,
     "metadata": {},
     "output_type": "execute_result"
    }
   ],
   "source": [
    "st.kendalltau(prediction.week_number, prediction.orders_quantity) "
   ]
  },
  {
   "cell_type": "markdown",
   "metadata": {},
   "source": [
    "Коэфициент корреляции равен единице, значит статистически значимо видно завсимость роста продаж со временем, мы видим положительную динамику"
   ]
  },
  {
   "cell_type": "code",
   "execution_count": 159,
   "metadata": {},
   "outputs": [
    {
     "data": {
      "image/png": "[encoded data removed]",
      "text/plain": [
       "<Figure size 360x360 with 1 Axes>"
      ]
     },
     "metadata": {},
     "output_type": "display_data"
    }
   ],
   "source": [
    "sns.set(style='whitegrid', rc={'figure.figsize': (20, 7)})\n",
    "sns.lmplot(x='week_number', y='orders_quantity', data=prediction)\n",
    "plt.title('Продажи по неделям за три месяца')\n",
    "plt.xlabel('Номер недели')\n",
    "plt.ylabel('Количество проданных товаров');"
   ]
  },
  {
   "cell_type": "code",
   "execution_count": 271,
   "metadata": {},
   "outputs": [
    {
     "name": "stdout",
     "output_type": "stream",
     "text": [
      "                            OLS Regression Results                            \n",
      "==============================================================================\n",
      "Dep. Variable:        orders_quantity   R-squared:                       0.983\n",
      "Model:                            OLS   Adj. R-squared:                  0.981\n",
      "Method:                 Least Squares   F-statistic:                     675.8\n",
      "Date:                Thu, 30 Sep 2021   Prob (F-statistic):           6.41e-12\n",
      "Time:                        18:21:59   Log-Likelihood:                -88.326\n",
      "No. Observations:                  14   AIC:                             180.7\n",
      "Df Residuals:                      12   BIC:                             181.9\n",
      "Df Model:                           1                                         \n",
      "Covariance Type:            nonrobust                                         \n",
      "===============================================================================\n",
      "                  coef    std err          t      P>|t|      [0.025      0.975]\n",
      "-------------------------------------------------------------------------------\n",
      "const         518.5143     72.825      7.120      0.000     359.843     677.186\n",
      "week_number   247.5253      9.521     25.997      0.000     226.780     268.271\n",
      "==============================================================================\n",
      "Omnibus:                        0.059   Durbin-Watson:                   1.369\n",
      "Prob(Omnibus):                  0.971   Jarque-Bera (JB):                0.245\n",
      "Skew:                          -0.116   Prob(JB):                        0.885\n",
      "Kurtosis:                       2.395   Cond. No.                         14.7\n",
      "==============================================================================\n",
      "\n",
      "Notes:\n",
      "[1] Standard Errors assume that the covariance matrix of the errors is correctly specified.\n"
     ]
    },
    {
     "name": "stderr",
     "output_type": "stream",
     "text": [
      "C:\\ProgramData\\Anaconda3\\lib\\site-packages\\scipy\\stats\\stats.py:1603: UserWarning: kurtosistest only valid for n>=20 ... continuing anyway, n=14\n",
      "  warnings.warn(\"kurtosistest only valid for n>=20 ... continuing \"\n"
     ]
    }
   ],
   "source": [
    "X1 = sm.add_constant(prediction.week_number)  # добавить константу, чтобы был свободный член\n",
    "model = sm.OLS(prediction.orders_quantity, X1)  # говорим модели, что у нас ЗП, а что НП\n",
    "results1 = model.fit()  # строим регрессионную прямую\n",
    "print(results1.summary())"
   ]
  },
  {
   "cell_type": "code",
   "execution_count": 61,
   "metadata": {},
   "outputs": [],
   "source": [
    "b0 = 518.5143\n",
    "b1 = 247.5253"
   ]
  },
  {
   "cell_type": "markdown",
   "metadata": {},
   "source": [
    "Формула регрессионной прямой:\n",
    "b0 + b1*х, где х в нашем случае - это номер недели"
   ]
  },
  {
   "cell_type": "markdown",
   "metadata": {},
   "source": [
    "Добавим в таблицу столбец со значениями получившейся линейной регрессии"
   ]
  },
  {
   "cell_type": "code",
   "execution_count": 62,
   "metadata": {},
   "outputs": [],
   "source": [
    "prediction['model'] = round(b0 + b1 * prediction.week_number)"
   ]
  },
  {
   "cell_type": "code",
   "execution_count": 63,
   "metadata": {},
   "outputs": [
    {
     "data": {
      "image/png": "[encoded data removed]",
      "text/plain": [
       "<Figure size 1440x504 with 1 Axes>"
      ]
     },
     "metadata": {},
     "output_type": "display_data"
    }
   ],
   "source": [
    "ax2 = sns.lineplot(x='week_number', y='orders_quantity', data=prediction)\n",
    "ax2 = sns.lineplot(x='week_number', y='model', data=prediction)\n",
    "ax2.set_xlabel('Номер недели')  \n",
    "ax2.set_ylabel('Количество заказов')  \n",
    "ax2.set_title('Регриссионная модель') ;"
   ]
  },
  {
   "cell_type": "markdown",
   "metadata": {},
   "source": [
    "На основе построенной модели, рассчитаем прогноз ещё на 14 недель вперёд"
   ]
  },
  {
   "cell_type": "code",
   "execution_count": 64,
   "metadata": {},
   "outputs": [],
   "source": [
    "y = 0\n",
    "for i in range(14, 27):\n",
    "    y = round(b0 + b1 * i)\n",
    "    prediction = prediction.append({'week_number': i, 'model': y}, ignore_index=True)"
   ]
  },
  {
   "cell_type": "markdown",
   "metadata": {},
   "source": [
    "Теперь вместо номера недель поставим даты"
   ]
  },
  {
   "cell_type": "code",
   "execution_count": 65,
   "metadata": {},
   "outputs": [],
   "source": [
    "prediction['week_number'] = pd.date_range(start='2020-01-05', end='2020-07-05', freq='W')"
   ]
  },
  {
   "cell_type": "code",
   "execution_count": 66,
   "metadata": {},
   "outputs": [],
   "source": [
    "prediction = prediction.rename(columns={'week_number': 'date'})"
   ]
  },
  {
   "cell_type": "code",
   "execution_count": 67,
   "metadata": {},
   "outputs": [
    {
     "data": {
      "text/html": [
       "<div>\n",
       "<style scoped>\n",
       "    .dataframe tbody tr th:only-of-type {\n",
       "        vertical-align: middle;\n",
       "    }\n",
       "\n",
       "    .dataframe tbody tr th {\n",
       "        vertical-align: top;\n",
       "    }\n",
       "\n",
       "    .dataframe thead th {\n",
       "        text-align: right;\n",
       "    }\n",
       "</style>\n",
       "<table border=\"1\" class=\"dataframe\">\n",
       "  <thead>\n",
       "    <tr style=\"text-align: right;\">\n",
       "      <th></th>\n",
       "      <th>date</th>\n",
       "      <th>orders_quantity</th>\n",
       "      <th>model</th>\n",
       "    </tr>\n",
       "  </thead>\n",
       "  <tbody>\n",
       "    <tr>\n",
       "      <th>0</th>\n",
       "      <td>2020-01-05</td>\n",
       "      <td>650.0</td>\n",
       "      <td>519.0</td>\n",
       "    </tr>\n",
       "    <tr>\n",
       "      <th>1</th>\n",
       "      <td>2020-01-12</td>\n",
       "      <td>837.0</td>\n",
       "      <td>766.0</td>\n",
       "    </tr>\n",
       "    <tr>\n",
       "      <th>2</th>\n",
       "      <td>2020-01-19</td>\n",
       "      <td>1020.0</td>\n",
       "      <td>1014.0</td>\n",
       "    </tr>\n",
       "    <tr>\n",
       "      <th>3</th>\n",
       "      <td>2020-01-26</td>\n",
       "      <td>1176.0</td>\n",
       "      <td>1261.0</td>\n",
       "    </tr>\n",
       "    <tr>\n",
       "      <th>4</th>\n",
       "      <td>2020-02-02</td>\n",
       "      <td>1489.0</td>\n",
       "      <td>1509.0</td>\n",
       "    </tr>\n",
       "  </tbody>\n",
       "</table>\n",
       "</div>"
      ],
      "text/plain": [
       "        date  orders_quantity   model\n",
       "0 2020-01-05            650.0   519.0\n",
       "1 2020-01-12            837.0   766.0\n",
       "2 2020-01-19           1020.0  1014.0\n",
       "3 2020-01-26           1176.0  1261.0\n",
       "4 2020-02-02           1489.0  1509.0"
      ]
     },
     "execution_count": 67,
     "metadata": {},
     "output_type": "execute_result"
    }
   ],
   "source": [
    "prediction.head()"
   ]
  },
  {
   "cell_type": "code",
   "execution_count": 68,
   "metadata": {},
   "outputs": [
    {
     "data": {
      "image/png": "[encoded data removed]",
      "text/plain": [
       "<Figure size 1440x504 with 1 Axes>"
      ]
     },
     "metadata": {},
     "output_type": "display_data"
    }
   ],
   "source": [
    "ax2 = sns.lineplot(x='date', y='orders_quantity', data=prediction)\n",
    "ax2 = sns.lineplot(x='date', y='model', data = prediction)\n",
    "ax2.set_xlabel('Дата')  \n",
    "ax2.set_ylabel('Количество заказов')  \n",
    "ax2.set_title('Регриссионная модель для прогноза количества заказов на 14 - 27 неделю') ;"
   ]
  },
  {
   "cell_type": "markdown",
   "metadata": {},
   "source": [
    "### Задание 3."
   ]
  },
  {
   "cell_type": "markdown",
   "metadata": {},
   "source": [
    "Работа с базой данных.\n",
    "\n",
    "Нужно написать запрос, чтобы получить такую таблицу\n",
    "  - purchase_date – дата покупки\n",
    "  - purchase_id – id покупки\n",
    "  - client_id – id покупателя\n",
    "  - client_age – возраст покупателя\n",
    "  - client_registration_age – как долго человек пользуется вашими магазинами\n",
    "  - client_category – содержит new или old, если это первая или последующая покупка соответственно\n",
    "  - promotion_name – акция\n",
    "  - category_name – категория\n",
    "  - partner_name – партнёр\n",
    "  - client_city – город, где находится покупатель\n",
    "  - city – город\n",
    "  - revenue – сумма выручки\n",
    "  - quantity – число проданных единиц\n",
    "\n",
    "При этом в таблице должны присутствовать только значения, где в поле status стоит значение 1, и только те, где purchase_date находится в диапазоне от 01.05.2020 до 01.08.2020\n",
    "\n",
    "   База данных доступна по имени project_variant_2  "
   ]
  },
  {
   "cell_type": "code",
   "execution_count": 1,
   "metadata": {},
   "outputs": [],
   "source": [
    "import pandahouse as ph"
   ]
  },
  {
   "cell_type": "code",
   "execution_count": 2,
   "metadata": {},
   "outputs": [],
   "source": [
    "connection_default = {'host': 'http://clickhouse.beslan.pro:8080',\n",
    "                      'database': 'default',\n",
    "                      'user': 'student', \n",
    "                      'password': 'dpo_python_2020'}"
   ]
  },
  {
   "cell_type": "code",
   "execution_count": 3,
   "metadata": {},
   "outputs": [],
   "source": [
    "q = '''\n",
    "SELECT \n",
    "    PU.purchase_date AS purchase_date,\n",
    "    PU.purchase_id AS purchase_id,\n",
    "    PU.client_id AS client_id,\n",
    "    DATEDIFF(year, CL.birth_date, PU.purchase_date) AS client_age,\n",
    "    DATEDIFF(day, CL.registration, PU.purchase_date) AS client_registration_age,\n",
    "     CASE \n",
    "            WHEN  PU.purchase_id = FP.first_purchase\n",
    "                THEN 'new'\n",
    "                ELSE 'old'\n",
    "            END as client_category,\n",
    "    PR.promotion_name AS promotion_name,\n",
    "    PR.category_name AS category_name,\n",
    "    PR.partner_name AS partner_name,\n",
    "    CI.client_city AS client_city,\n",
    "    CI.city AS city,\n",
    "    toFloat32(PU.price) * toFloat32(PU.quantity) AS revenue,\n",
    "    toFloat32(PU.quantity) AS quantity\n",
    "FROM project_variant_2.purchase AS PU\n",
    "LEFT JOIN project_variant_2.promotion AS PR\n",
    "ON PU.promotion_id = PR.promotion_id AND PU.partner_id = PR.partner_id AND PU.category_id = PR.category_id \n",
    "LEFT JOIN project_variant_2.client AS CL\n",
    "ON PU.client_id = CL.client_id \n",
    "LEFT JOIN project_variant_2.city AS CI\n",
    "ON PU.city_id = CI.city_id AND CL.client_city_id = CI.client_city_id \n",
    "LEFT JOIN \n",
    "    (SELECT client_id,\n",
    "    MIN(purchase_id) as first_purchase\n",
    "    FROM project_variant_2.purchase\n",
    "    WHERE status = 1\n",
    "    GROUP BY client_id) AS FP\n",
    "ON PU.client_id = FP.client_id\n",
    "WHERE PU.status = 1 AND '2020-05-01' <= PU.purchase_date AND \n",
    "           PU.purchase_date <= '2020-08-01'\n",
    "'''"
   ]
  },
  {
   "cell_type": "code",
   "execution_count": 4,
   "metadata": {},
   "outputs": [],
   "source": [
    "df3 = ph.read_clickhouse(query=q, connection=connection_default)"
   ]
  },
  {
   "cell_type": "code",
   "execution_count": 5,
   "metadata": {},
   "outputs": [
    {
     "data": {
      "text/html": [
       "<div>\n",
       "<style scoped>\n",
       "    .dataframe tbody tr th:only-of-type {\n",
       "        vertical-align: middle;\n",
       "    }\n",
       "\n",
       "    .dataframe tbody tr th {\n",
       "        vertical-align: top;\n",
       "    }\n",
       "\n",
       "    .dataframe thead th {\n",
       "        text-align: right;\n",
       "    }\n",
       "</style>\n",
       "<table border=\"1\" class=\"dataframe\">\n",
       "  <thead>\n",
       "    <tr style=\"text-align: right;\">\n",
       "      <th></th>\n",
       "      <th>purchase_date</th>\n",
       "      <th>purchase_id</th>\n",
       "      <th>client_id</th>\n",
       "      <th>client_age</th>\n",
       "      <th>client_registration_age</th>\n",
       "      <th>client_category</th>\n",
       "      <th>promotion_name</th>\n",
       "      <th>category_name</th>\n",
       "      <th>partner_name</th>\n",
       "      <th>client_city</th>\n",
       "      <th>city</th>\n",
       "      <th>revenue</th>\n",
       "      <th>quantity</th>\n",
       "    </tr>\n",
       "  </thead>\n",
       "  <tbody>\n",
       "    <tr>\n",
       "      <th>0</th>\n",
       "      <td>2020-06-05</td>\n",
       "      <td>0</td>\n",
       "      <td>853</td>\n",
       "      <td>28</td>\n",
       "      <td>364</td>\n",
       "      <td>new</td>\n",
       "      <td></td>\n",
       "      <td></td>\n",
       "      <td></td>\n",
       "      <td>Ярославль</td>\n",
       "      <td>Киев</td>\n",
       "      <td>150.0</td>\n",
       "      <td>5.0</td>\n",
       "    </tr>\n",
       "    <tr>\n",
       "      <th>1</th>\n",
       "      <td>2020-06-15</td>\n",
       "      <td>1</td>\n",
       "      <td>406</td>\n",
       "      <td>23</td>\n",
       "      <td>249</td>\n",
       "      <td>new</td>\n",
       "      <td></td>\n",
       "      <td></td>\n",
       "      <td></td>\n",
       "      <td>Минск</td>\n",
       "      <td>Новгород</td>\n",
       "      <td>1150.0</td>\n",
       "      <td>5.0</td>\n",
       "    </tr>\n",
       "    <tr>\n",
       "      <th>2</th>\n",
       "      <td>2020-08-01</td>\n",
       "      <td>9</td>\n",
       "      <td>867</td>\n",
       "      <td>24</td>\n",
       "      <td>59</td>\n",
       "      <td>new</td>\n",
       "      <td></td>\n",
       "      <td></td>\n",
       "      <td></td>\n",
       "      <td>Киев</td>\n",
       "      <td>Москва</td>\n",
       "      <td>1840.0</td>\n",
       "      <td>4.0</td>\n",
       "    </tr>\n",
       "    <tr>\n",
       "      <th>3</th>\n",
       "      <td>2020-07-16</td>\n",
       "      <td>15</td>\n",
       "      <td>109</td>\n",
       "      <td>29</td>\n",
       "      <td>606</td>\n",
       "      <td>new</td>\n",
       "      <td></td>\n",
       "      <td></td>\n",
       "      <td></td>\n",
       "      <td>Щучинщина</td>\n",
       "      <td>Санкт-Петербург</td>\n",
       "      <td>440.0</td>\n",
       "      <td>8.0</td>\n",
       "    </tr>\n",
       "    <tr>\n",
       "      <th>4</th>\n",
       "      <td>2020-06-29</td>\n",
       "      <td>22</td>\n",
       "      <td>528</td>\n",
       "      <td>20</td>\n",
       "      <td>89</td>\n",
       "      <td>new</td>\n",
       "      <td></td>\n",
       "      <td></td>\n",
       "      <td></td>\n",
       "      <td></td>\n",
       "      <td></td>\n",
       "      <td>390.0</td>\n",
       "      <td>2.0</td>\n",
       "    </tr>\n",
       "    <tr>\n",
       "      <th>5</th>\n",
       "      <td>2020-05-18</td>\n",
       "      <td>26</td>\n",
       "      <td>10</td>\n",
       "      <td>20</td>\n",
       "      <td>192</td>\n",
       "      <td>new</td>\n",
       "      <td>campaign_4</td>\n",
       "      <td>Прочее</td>\n",
       "      <td>KarpovCourses</td>\n",
       "      <td>Ярославль</td>\n",
       "      <td>Санкт-Петербург</td>\n",
       "      <td>570.0</td>\n",
       "      <td>2.0</td>\n",
       "    </tr>\n",
       "    <tr>\n",
       "      <th>6</th>\n",
       "      <td>2020-07-07</td>\n",
       "      <td>27</td>\n",
       "      <td>366</td>\n",
       "      <td>26</td>\n",
       "      <td>342</td>\n",
       "      <td>new</td>\n",
       "      <td></td>\n",
       "      <td></td>\n",
       "      <td></td>\n",
       "      <td>Казань</td>\n",
       "      <td>Казань</td>\n",
       "      <td>880.0</td>\n",
       "      <td>4.0</td>\n",
       "    </tr>\n",
       "    <tr>\n",
       "      <th>7</th>\n",
       "      <td>2020-07-08</td>\n",
       "      <td>33</td>\n",
       "      <td>77</td>\n",
       "      <td>23</td>\n",
       "      <td>180</td>\n",
       "      <td>new</td>\n",
       "      <td></td>\n",
       "      <td></td>\n",
       "      <td></td>\n",
       "      <td>Вена</td>\n",
       "      <td>Минск</td>\n",
       "      <td>555.0</td>\n",
       "      <td>3.0</td>\n",
       "    </tr>\n",
       "    <tr>\n",
       "      <th>8</th>\n",
       "      <td>2020-05-29</td>\n",
       "      <td>38</td>\n",
       "      <td>46</td>\n",
       "      <td>30</td>\n",
       "      <td>489</td>\n",
       "      <td>new</td>\n",
       "      <td></td>\n",
       "      <td></td>\n",
       "      <td></td>\n",
       "      <td>Москва</td>\n",
       "      <td>Москва</td>\n",
       "      <td>2820.0</td>\n",
       "      <td>6.0</td>\n",
       "    </tr>\n",
       "    <tr>\n",
       "      <th>9</th>\n",
       "      <td>2020-06-07</td>\n",
       "      <td>39</td>\n",
       "      <td>211</td>\n",
       "      <td>29</td>\n",
       "      <td>513</td>\n",
       "      <td>new</td>\n",
       "      <td></td>\n",
       "      <td></td>\n",
       "      <td></td>\n",
       "      <td></td>\n",
       "      <td></td>\n",
       "      <td>170.0</td>\n",
       "      <td>1.0</td>\n",
       "    </tr>\n",
       "  </tbody>\n",
       "</table>\n",
       "</div>"
      ],
      "text/plain": [
       "  purchase_date  purchase_id  client_id  client_age  client_registration_age  \\\n",
       "0    2020-06-05            0        853          28                      364   \n",
       "1    2020-06-15            1        406          23                      249   \n",
       "2    2020-08-01            9        867          24                       59   \n",
       "3    2020-07-16           15        109          29                      606   \n",
       "4    2020-06-29           22        528          20                       89   \n",
       "5    2020-05-18           26         10          20                      192   \n",
       "6    2020-07-07           27        366          26                      342   \n",
       "7    2020-07-08           33         77          23                      180   \n",
       "8    2020-05-29           38         46          30                      489   \n",
       "9    2020-06-07           39        211          29                      513   \n",
       "\n",
       "  client_category promotion_name category_name   partner_name client_city  \\\n",
       "0             new                                               Ярославль   \n",
       "1             new                                                   Минск   \n",
       "2             new                                                    Киев   \n",
       "3             new                                               Щучинщина   \n",
       "4             new                                                           \n",
       "5             new     campaign_4        Прочее  KarpovCourses   Ярославль   \n",
       "6             new                                                  Казань   \n",
       "7             new                                                    Вена   \n",
       "8             new                                                  Москва   \n",
       "9             new                                                           \n",
       "\n",
       "              city  revenue  quantity  \n",
       "0             Киев    150.0       5.0  \n",
       "1         Новгород   1150.0       5.0  \n",
       "2           Москва   1840.0       4.0  \n",
       "3  Санкт-Петербург    440.0       8.0  \n",
       "4                     390.0       2.0  \n",
       "5  Санкт-Петербург    570.0       2.0  \n",
       "6           Казань    880.0       4.0  \n",
       "7            Минск    555.0       3.0  \n",
       "8           Москва   2820.0       6.0  \n",
       "9                     170.0       1.0  "
      ]
     },
     "execution_count": 5,
     "metadata": {},
     "output_type": "execute_result"
    }
   ],
   "source": [
    "df3.head(10)"
   ]
  },
  {
   "cell_type": "markdown",
   "metadata": {},
   "source": [
    "Посмотрим основную информацию о получившейся таблице"
   ]
  },
  {
   "cell_type": "code",
   "execution_count": 6,
   "metadata": {},
   "outputs": [
    {
     "data": {
      "text/plain": [
       "(2735, 13)"
      ]
     },
     "execution_count": 6,
     "metadata": {},
     "output_type": "execute_result"
    }
   ],
   "source": [
    "df3.shape"
   ]
  },
  {
   "cell_type": "code",
   "execution_count": 7,
   "metadata": {},
   "outputs": [
    {
     "name": "stdout",
     "output_type": "stream",
     "text": [
      "<class 'pandas.core.frame.DataFrame'>\n",
      "RangeIndex: 2735 entries, 0 to 2734\n",
      "Data columns (total 13 columns):\n",
      " #   Column                   Non-Null Count  Dtype         \n",
      "---  ------                   --------------  -----         \n",
      " 0   purchase_date            2735 non-null   datetime64[ns]\n",
      " 1   purchase_id              2735 non-null   int32         \n",
      " 2   client_id                2735 non-null   int32         \n",
      " 3   client_age               2735 non-null   int64         \n",
      " 4   client_registration_age  2735 non-null   int64         \n",
      " 5   client_category          2735 non-null   object        \n",
      " 6   promotion_name           2735 non-null   object        \n",
      " 7   category_name            2735 non-null   object        \n",
      " 8   partner_name             2735 non-null   object        \n",
      " 9   client_city              2735 non-null   object        \n",
      " 10  city                     2735 non-null   object        \n",
      " 11  revenue                  2735 non-null   float64       \n",
      " 12  quantity                 2735 non-null   float32       \n",
      "dtypes: datetime64[ns](1), float32(1), float64(1), int32(2), int64(2), object(6)\n",
      "memory usage: 245.8+ KB\n"
     ]
    }
   ],
   "source": [
    "df3.info()"
   ]
  },
  {
   "cell_type": "markdown",
   "metadata": {},
   "source": [
    "Для примера посмотрим данные из таблицы для одного из клиентов"
   ]
  },
  {
   "cell_type": "code",
   "execution_count": 8,
   "metadata": {},
   "outputs": [
    {
     "data": {
      "text/html": [
       "<div>\n",
       "<style scoped>\n",
       "    .dataframe tbody tr th:only-of-type {\n",
       "        vertical-align: middle;\n",
       "    }\n",
       "\n",
       "    .dataframe tbody tr th {\n",
       "        vertical-align: top;\n",
       "    }\n",
       "\n",
       "    .dataframe thead th {\n",
       "        text-align: right;\n",
       "    }\n",
       "</style>\n",
       "<table border=\"1\" class=\"dataframe\">\n",
       "  <thead>\n",
       "    <tr style=\"text-align: right;\">\n",
       "      <th></th>\n",
       "      <th>purchase_date</th>\n",
       "      <th>purchase_id</th>\n",
       "      <th>client_id</th>\n",
       "      <th>client_age</th>\n",
       "      <th>client_registration_age</th>\n",
       "      <th>client_category</th>\n",
       "      <th>promotion_name</th>\n",
       "      <th>category_name</th>\n",
       "      <th>partner_name</th>\n",
       "      <th>client_city</th>\n",
       "      <th>city</th>\n",
       "      <th>revenue</th>\n",
       "      <th>quantity</th>\n",
       "    </tr>\n",
       "  </thead>\n",
       "  <tbody>\n",
       "    <tr>\n",
       "      <th>0</th>\n",
       "      <td>2020-06-05</td>\n",
       "      <td>0</td>\n",
       "      <td>853</td>\n",
       "      <td>28</td>\n",
       "      <td>364</td>\n",
       "      <td>new</td>\n",
       "      <td></td>\n",
       "      <td></td>\n",
       "      <td></td>\n",
       "      <td>Ярославль</td>\n",
       "      <td>Киев</td>\n",
       "      <td>150.0</td>\n",
       "      <td>5.0</td>\n",
       "    </tr>\n",
       "    <tr>\n",
       "      <th>218</th>\n",
       "      <td>2020-06-03</td>\n",
       "      <td>721</td>\n",
       "      <td>853</td>\n",
       "      <td>28</td>\n",
       "      <td>362</td>\n",
       "      <td>old</td>\n",
       "      <td></td>\n",
       "      <td></td>\n",
       "      <td></td>\n",
       "      <td>Ярославль</td>\n",
       "      <td>Минск</td>\n",
       "      <td>200.0</td>\n",
       "      <td>5.0</td>\n",
       "    </tr>\n",
       "    <tr>\n",
       "      <th>683</th>\n",
       "      <td>2020-06-15</td>\n",
       "      <td>2154</td>\n",
       "      <td>853</td>\n",
       "      <td>28</td>\n",
       "      <td>374</td>\n",
       "      <td>old</td>\n",
       "      <td></td>\n",
       "      <td></td>\n",
       "      <td></td>\n",
       "      <td>Ярославль</td>\n",
       "      <td>Ярославль</td>\n",
       "      <td>455.0</td>\n",
       "      <td>7.0</td>\n",
       "    </tr>\n",
       "    <tr>\n",
       "      <th>954</th>\n",
       "      <td>2020-06-29</td>\n",
       "      <td>2930</td>\n",
       "      <td>853</td>\n",
       "      <td>28</td>\n",
       "      <td>388</td>\n",
       "      <td>old</td>\n",
       "      <td></td>\n",
       "      <td></td>\n",
       "      <td></td>\n",
       "      <td>Ярославль</td>\n",
       "      <td>Москва</td>\n",
       "      <td>225.0</td>\n",
       "      <td>9.0</td>\n",
       "    </tr>\n",
       "    <tr>\n",
       "      <th>1983</th>\n",
       "      <td>2020-06-01</td>\n",
       "      <td>6027</td>\n",
       "      <td>853</td>\n",
       "      <td>28</td>\n",
       "      <td>360</td>\n",
       "      <td>old</td>\n",
       "      <td></td>\n",
       "      <td></td>\n",
       "      <td></td>\n",
       "      <td>Ярославль</td>\n",
       "      <td>Казань</td>\n",
       "      <td>2280.0</td>\n",
       "      <td>6.0</td>\n",
       "    </tr>\n",
       "    <tr>\n",
       "      <th>2254</th>\n",
       "      <td>2020-06-12</td>\n",
       "      <td>6820</td>\n",
       "      <td>853</td>\n",
       "      <td>28</td>\n",
       "      <td>371</td>\n",
       "      <td>old</td>\n",
       "      <td></td>\n",
       "      <td></td>\n",
       "      <td></td>\n",
       "      <td>Ярославль</td>\n",
       "      <td>Ярославль</td>\n",
       "      <td>630.0</td>\n",
       "      <td>9.0</td>\n",
       "    </tr>\n",
       "  </tbody>\n",
       "</table>\n",
       "</div>"
      ],
      "text/plain": [
       "     purchase_date  purchase_id  client_id  client_age  \\\n",
       "0       2020-06-05            0        853          28   \n",
       "218     2020-06-03          721        853          28   \n",
       "683     2020-06-15         2154        853          28   \n",
       "954     2020-06-29         2930        853          28   \n",
       "1983    2020-06-01         6027        853          28   \n",
       "2254    2020-06-12         6820        853          28   \n",
       "\n",
       "      client_registration_age client_category promotion_name category_name  \\\n",
       "0                         364             new                                \n",
       "218                       362             old                                \n",
       "683                       374             old                                \n",
       "954                       388             old                                \n",
       "1983                      360             old                                \n",
       "2254                      371             old                                \n",
       "\n",
       "     partner_name client_city       city  revenue  quantity  \n",
       "0                   Ярославль       Киев    150.0       5.0  \n",
       "218                 Ярославль      Минск    200.0       5.0  \n",
       "683                 Ярославль  Ярославль    455.0       7.0  \n",
       "954                 Ярославль     Москва    225.0       9.0  \n",
       "1983                Ярославль     Казань   2280.0       6.0  \n",
       "2254                Ярославль  Ярославль    630.0       9.0  "
      ]
     },
     "execution_count": 8,
     "metadata": {},
     "output_type": "execute_result"
    }
   ],
   "source": [
    "df3.query('client_id == 853')"
   ]
  },
  {
   "cell_type": "markdown",
   "metadata": {},
   "source": [
    "Посмотрим данные о клиентах "
   ]
  },
  {
   "cell_type": "code",
   "execution_count": 9,
   "metadata": {},
   "outputs": [
    {
     "data": {
      "text/html": [
       "<div>\n",
       "<style scoped>\n",
       "    .dataframe tbody tr th:only-of-type {\n",
       "        vertical-align: middle;\n",
       "    }\n",
       "\n",
       "    .dataframe tbody tr th {\n",
       "        vertical-align: top;\n",
       "    }\n",
       "\n",
       "    .dataframe thead th {\n",
       "        text-align: right;\n",
       "    }\n",
       "</style>\n",
       "<table border=\"1\" class=\"dataframe\">\n",
       "  <thead>\n",
       "    <tr style=\"text-align: right;\">\n",
       "      <th></th>\n",
       "      <th>client_age</th>\n",
       "      <th>clients_quantity</th>\n",
       "      <th>revenue</th>\n",
       "    </tr>\n",
       "  </thead>\n",
       "  <tbody>\n",
       "    <tr>\n",
       "      <th>10</th>\n",
       "      <td>30</td>\n",
       "      <td>17</td>\n",
       "      <td>77100.0</td>\n",
       "    </tr>\n",
       "    <tr>\n",
       "      <th>1</th>\n",
       "      <td>21</td>\n",
       "      <td>67</td>\n",
       "      <td>266880.0</td>\n",
       "    </tr>\n",
       "    <tr>\n",
       "      <th>3</th>\n",
       "      <td>23</td>\n",
       "      <td>82</td>\n",
       "      <td>290195.0</td>\n",
       "    </tr>\n",
       "    <tr>\n",
       "      <th>7</th>\n",
       "      <td>27</td>\n",
       "      <td>72</td>\n",
       "      <td>298155.0</td>\n",
       "    </tr>\n",
       "    <tr>\n",
       "      <th>6</th>\n",
       "      <td>26</td>\n",
       "      <td>80</td>\n",
       "      <td>316225.0</td>\n",
       "    </tr>\n",
       "    <tr>\n",
       "      <th>2</th>\n",
       "      <td>22</td>\n",
       "      <td>81</td>\n",
       "      <td>318740.0</td>\n",
       "    </tr>\n",
       "    <tr>\n",
       "      <th>9</th>\n",
       "      <td>29</td>\n",
       "      <td>83</td>\n",
       "      <td>325890.0</td>\n",
       "    </tr>\n",
       "    <tr>\n",
       "      <th>0</th>\n",
       "      <td>20</td>\n",
       "      <td>67</td>\n",
       "      <td>331895.0</td>\n",
       "    </tr>\n",
       "    <tr>\n",
       "      <th>4</th>\n",
       "      <td>24</td>\n",
       "      <td>87</td>\n",
       "      <td>357570.0</td>\n",
       "    </tr>\n",
       "    <tr>\n",
       "      <th>8</th>\n",
       "      <td>28</td>\n",
       "      <td>82</td>\n",
       "      <td>358215.0</td>\n",
       "    </tr>\n",
       "    <tr>\n",
       "      <th>5</th>\n",
       "      <td>25</td>\n",
       "      <td>90</td>\n",
       "      <td>369830.0</td>\n",
       "    </tr>\n",
       "  </tbody>\n",
       "</table>\n",
       "</div>"
      ],
      "text/plain": [
       "    client_age  clients_quantity   revenue\n",
       "10          30                17   77100.0\n",
       "1           21                67  266880.0\n",
       "3           23                82  290195.0\n",
       "7           27                72  298155.0\n",
       "6           26                80  316225.0\n",
       "2           22                81  318740.0\n",
       "9           29                83  325890.0\n",
       "0           20                67  331895.0\n",
       "4           24                87  357570.0\n",
       "8           28                82  358215.0\n",
       "5           25                90  369830.0"
      ]
     },
     "execution_count": 9,
     "metadata": {},
     "output_type": "execute_result"
    }
   ],
   "source": [
    "df3.groupby('client_age', as_index=False)\\\n",
    "    .agg({'client_id': 'nunique', 'revenue': 'sum'})\\\n",
    "    .rename(columns={'client_id': 'clients_quantity'})\\\n",
    "    .sort_values('revenue')"
   ]
  },
  {
   "cell_type": "markdown",
   "metadata": {},
   "source": [
    "Видим, что клиенты возраста от 20 до 30 лет, больше всего прибыли приносят клиенты 25 лет"
   ]
  },
  {
   "cell_type": "code",
   "execution_count": 10,
   "metadata": {},
   "outputs": [
    {
     "data": {
      "text/html": [
       "<div>\n",
       "<style scoped>\n",
       "    .dataframe tbody tr th:only-of-type {\n",
       "        vertical-align: middle;\n",
       "    }\n",
       "\n",
       "    .dataframe tbody tr th {\n",
       "        vertical-align: top;\n",
       "    }\n",
       "\n",
       "    .dataframe thead th {\n",
       "        text-align: right;\n",
       "    }\n",
       "</style>\n",
       "<table border=\"1\" class=\"dataframe\">\n",
       "  <thead>\n",
       "    <tr style=\"text-align: right;\">\n",
       "      <th></th>\n",
       "      <th>client_id</th>\n",
       "      <th>purchase_id</th>\n",
       "      <th>revenue</th>\n",
       "      <th>client_age</th>\n",
       "      <th>client_city</th>\n",
       "    </tr>\n",
       "  </thead>\n",
       "  <tbody>\n",
       "    <tr>\n",
       "      <th>143</th>\n",
       "      <td>171</td>\n",
       "      <td>10</td>\n",
       "      <td>10820.0</td>\n",
       "      <td>[27]</td>\n",
       "      <td>[Вена]</td>\n",
       "    </tr>\n",
       "    <tr>\n",
       "      <th>510</th>\n",
       "      <td>625</td>\n",
       "      <td>9</td>\n",
       "      <td>9840.0</td>\n",
       "      <td>[20]</td>\n",
       "      <td>[Санкт-Петербург]</td>\n",
       "    </tr>\n",
       "    <tr>\n",
       "      <th>84</th>\n",
       "      <td>101</td>\n",
       "      <td>9</td>\n",
       "      <td>10695.0</td>\n",
       "      <td>[26]</td>\n",
       "      <td>[Щучинщина]</td>\n",
       "    </tr>\n",
       "    <tr>\n",
       "      <th>485</th>\n",
       "      <td>597</td>\n",
       "      <td>9</td>\n",
       "      <td>12735.0</td>\n",
       "      <td>[29]</td>\n",
       "      <td>[Ярославль]</td>\n",
       "    </tr>\n",
       "    <tr>\n",
       "      <th>136</th>\n",
       "      <td>163</td>\n",
       "      <td>9</td>\n",
       "      <td>15030.0</td>\n",
       "      <td>[24]</td>\n",
       "      <td>[Вена]</td>\n",
       "    </tr>\n",
       "    <tr>\n",
       "      <th>236</th>\n",
       "      <td>282</td>\n",
       "      <td>8</td>\n",
       "      <td>4010.0</td>\n",
       "      <td>[26]</td>\n",
       "      <td>[Ярославль]</td>\n",
       "    </tr>\n",
       "    <tr>\n",
       "      <th>655</th>\n",
       "      <td>802</td>\n",
       "      <td>8</td>\n",
       "      <td>10070.0</td>\n",
       "      <td>[28]</td>\n",
       "      <td>[Новгород]</td>\n",
       "    </tr>\n",
       "    <tr>\n",
       "      <th>687</th>\n",
       "      <td>846</td>\n",
       "      <td>8</td>\n",
       "      <td>13015.0</td>\n",
       "      <td>[29]</td>\n",
       "      <td>[Киев]</td>\n",
       "    </tr>\n",
       "    <tr>\n",
       "      <th>375</th>\n",
       "      <td>455</td>\n",
       "      <td>8</td>\n",
       "      <td>7565.0</td>\n",
       "      <td>[25]</td>\n",
       "      <td>[Вена]</td>\n",
       "    </tr>\n",
       "    <tr>\n",
       "      <th>734</th>\n",
       "      <td>906</td>\n",
       "      <td>8</td>\n",
       "      <td>8145.0</td>\n",
       "      <td>[24]</td>\n",
       "      <td>[Москва]</td>\n",
       "    </tr>\n",
       "  </tbody>\n",
       "</table>\n",
       "</div>"
      ],
      "text/plain": [
       "     client_id  purchase_id  revenue client_age        client_city\n",
       "143        171           10  10820.0       [27]             [Вена]\n",
       "510        625            9   9840.0       [20]  [Санкт-Петербург]\n",
       "84         101            9  10695.0       [26]        [Щучинщина]\n",
       "485        597            9  12735.0       [29]        [Ярославль]\n",
       "136        163            9  15030.0       [24]             [Вена]\n",
       "236        282            8   4010.0       [26]        [Ярославль]\n",
       "655        802            8  10070.0       [28]         [Новгород]\n",
       "687        846            8  13015.0       [29]             [Киев]\n",
       "375        455            8   7565.0       [25]             [Вена]\n",
       "734        906            8   8145.0       [24]           [Москва]"
      ]
     },
     "execution_count": 10,
     "metadata": {},
     "output_type": "execute_result"
    }
   ],
   "source": [
    "df3.groupby('client_id', as_index=False)\\\n",
    "    .agg({'purchase_id': 'nunique', 'revenue': 'sum', 'client_age': 'unique', 'client_city': 'unique'})\\\n",
    "    .sort_values('purchase_id', ascending=False).head(10)"
   ]
  },
  {
   "cell_type": "markdown",
   "metadata": {},
   "source": [
    "Больше всего покупок сделал клиент с id 171, 27-ми лет из Вены, на сумму 10820.0"
   ]
  },
  {
   "cell_type": "code",
   "execution_count": 11,
   "metadata": {},
   "outputs": [
    {
     "data": {
      "text/html": [
       "<div>\n",
       "<style scoped>\n",
       "    .dataframe tbody tr th:only-of-type {\n",
       "        vertical-align: middle;\n",
       "    }\n",
       "\n",
       "    .dataframe tbody tr th {\n",
       "        vertical-align: top;\n",
       "    }\n",
       "\n",
       "    .dataframe thead th {\n",
       "        text-align: right;\n",
       "    }\n",
       "</style>\n",
       "<table border=\"1\" class=\"dataframe\">\n",
       "  <thead>\n",
       "    <tr style=\"text-align: right;\">\n",
       "      <th></th>\n",
       "      <th>client_city</th>\n",
       "      <th>clients_quantity</th>\n",
       "    </tr>\n",
       "  </thead>\n",
       "  <tbody>\n",
       "    <tr>\n",
       "      <th>0</th>\n",
       "      <td></td>\n",
       "      <td>104</td>\n",
       "    </tr>\n",
       "    <tr>\n",
       "      <th>5</th>\n",
       "      <td>Москва</td>\n",
       "      <td>100</td>\n",
       "    </tr>\n",
       "    <tr>\n",
       "      <th>7</th>\n",
       "      <td>Санкт-Петербург</td>\n",
       "      <td>98</td>\n",
       "    </tr>\n",
       "    <tr>\n",
       "      <th>3</th>\n",
       "      <td>Киев</td>\n",
       "      <td>93</td>\n",
       "    </tr>\n",
       "    <tr>\n",
       "      <th>6</th>\n",
       "      <td>Новгород</td>\n",
       "      <td>88</td>\n",
       "    </tr>\n",
       "    <tr>\n",
       "      <th>1</th>\n",
       "      <td>Вена</td>\n",
       "      <td>87</td>\n",
       "    </tr>\n",
       "    <tr>\n",
       "      <th>8</th>\n",
       "      <td>Щучинщина</td>\n",
       "      <td>85</td>\n",
       "    </tr>\n",
       "    <tr>\n",
       "      <th>2</th>\n",
       "      <td>Казань</td>\n",
       "      <td>82</td>\n",
       "    </tr>\n",
       "    <tr>\n",
       "      <th>9</th>\n",
       "      <td>Ярославль</td>\n",
       "      <td>82</td>\n",
       "    </tr>\n",
       "    <tr>\n",
       "      <th>4</th>\n",
       "      <td>Минск</td>\n",
       "      <td>81</td>\n",
       "    </tr>\n",
       "  </tbody>\n",
       "</table>\n",
       "</div>"
      ],
      "text/plain": [
       "       client_city  clients_quantity\n",
       "0                                104\n",
       "5           Москва               100\n",
       "7  Санкт-Петербург                98\n",
       "3             Киев                93\n",
       "6         Новгород                88\n",
       "1             Вена                87\n",
       "8        Щучинщина                85\n",
       "2           Казань                82\n",
       "9        Ярославль                82\n",
       "4            Минск                81"
      ]
     },
     "execution_count": 11,
     "metadata": {},
     "output_type": "execute_result"
    }
   ],
   "source": [
    "df3.groupby('client_city', as_index=False)\\\n",
    "    .agg({'client_id': 'nunique'})\\\n",
    "    .rename(columns={'client_id': 'clients_quantity'})\\\n",
    "    .sort_values('clients_quantity', ascending=False).head(10)"
   ]
  },
  {
   "cell_type": "markdown",
   "metadata": {},
   "source": [
    "Больше всего клиентов из Москвы и Санкт-Петербурга"
   ]
  }
 ],
 "metadata": {
  "kernelspec": {
   "display_name": "Python 3",
   "language": "python",
   "name": "python3"
  },
  "language_info": {
   "codemirror_mode": {
    "name": "ipython",
    "version": 3
   },
   "file_extension": ".py",
   "mimetype": "text/x-python",
   "name": "python",
   "nbconvert_exporter": "python",
   "pygments_lexer": "ipython3",
   "version": "3.7.3"
  }
 },
 "nbformat": 4,
 "nbformat_minor": 5
}
